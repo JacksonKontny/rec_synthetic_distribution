{
 "cells": [
  {
   "cell_type": "code",
   "execution_count": 1,
   "metadata": {
    "collapsed": true
   },
   "outputs": [],
   "source": [
    "import pandas as pd\n",
    "import seaborn as sns\n",
    "from scipy.stats import halfgennorm\n",
    "import numpy as np\n",
    "from math import log\n",
    "from random import random"
   ]
  },
  {
   "cell_type": "code",
   "execution_count": 2,
   "metadata": {},
   "outputs": [
    {
     "data": {
      "text/html": [
       "<div>\n",
       "<style>\n",
       "    .dataframe thead tr:only-child th {\n",
       "        text-align: right;\n",
       "    }\n",
       "\n",
       "    .dataframe thead th {\n",
       "        text-align: left;\n",
       "    }\n",
       "\n",
       "    .dataframe tbody tr th {\n",
       "        vertical-align: top;\n",
       "    }\n",
       "</style>\n",
       "<table border=\"1\" class=\"dataframe\">\n",
       "  <thead>\n",
       "    <tr style=\"text-align: right;\">\n",
       "      <th></th>\n",
       "      <th>interaction_count</th>\n",
       "    </tr>\n",
       "    <tr>\n",
       "      <th>user_id</th>\n",
       "      <th></th>\n",
       "    </tr>\n",
       "  </thead>\n",
       "  <tbody>\n",
       "    <tr>\n",
       "      <th>9</th>\n",
       "      <td>6</td>\n",
       "    </tr>\n",
       "    <tr>\n",
       "      <th>11</th>\n",
       "      <td>2</td>\n",
       "    </tr>\n",
       "    <tr>\n",
       "      <th>13</th>\n",
       "      <td>25</td>\n",
       "    </tr>\n",
       "    <tr>\n",
       "      <th>18</th>\n",
       "      <td>2</td>\n",
       "    </tr>\n",
       "    <tr>\n",
       "      <th>19</th>\n",
       "      <td>6</td>\n",
       "    </tr>\n",
       "  </tbody>\n",
       "</table>\n",
       "</div>"
      ],
      "text/plain": [
       "         interaction_count\n",
       "user_id                   \n",
       "9                        6\n",
       "11                       2\n",
       "13                      25\n",
       "18                       2\n",
       "19                       6"
      ]
     },
     "execution_count": 2,
     "metadata": {},
     "output_type": "execute_result"
    }
   ],
   "source": [
    "\"\"\"\n",
    "This is the state of the data from where we left off in 'distribution_analysis'\n",
    "\n",
    "The analysis showed that clipping the distribution between 1 and 30 clicks allowed the best fit using the\n",
    "powerlaw distribution.\n",
    "\"\"\"\n",
    "original_df = pd.read_csv('data/original/fm_interactions.csv', delimiter='\\t')\n",
    "interaction_df = original_df[original_df['interaction_type'].isin([1, 2, 3])]\n",
    "user_group = interaction_df.groupby(['user_id'])\n",
    "user_interaction_count = user_group['item_id'].count()\n",
    "clipped_interactions = user_interaction_count.clip(1, 31)\n",
    "user_df = clipped_interactions.to_frame()\n",
    "user_df.columns = ['interaction_count']\n",
    "user_df.head()"
   ]
  },
  {
   "cell_type": "code",
   "execution_count": 3,
   "metadata": {},
   "outputs": [
    {
     "data": {
      "text/html": [
       "<div>\n",
       "<style>\n",
       "    .dataframe thead tr:only-child th {\n",
       "        text-align: right;\n",
       "    }\n",
       "\n",
       "    .dataframe thead th {\n",
       "        text-align: left;\n",
       "    }\n",
       "\n",
       "    .dataframe tbody tr th {\n",
       "        vertical-align: top;\n",
       "    }\n",
       "</style>\n",
       "<table border=\"1\" class=\"dataframe\">\n",
       "  <thead>\n",
       "    <tr style=\"text-align: right;\">\n",
       "      <th></th>\n",
       "      <th>interaction_count</th>\n",
       "      <th>user_id</th>\n",
       "    </tr>\n",
       "    <tr>\n",
       "      <th>user_id</th>\n",
       "      <th></th>\n",
       "      <th></th>\n",
       "    </tr>\n",
       "  </thead>\n",
       "  <tbody>\n",
       "    <tr>\n",
       "      <th>9</th>\n",
       "      <td>6</td>\n",
       "      <td>9</td>\n",
       "    </tr>\n",
       "    <tr>\n",
       "      <th>11</th>\n",
       "      <td>2</td>\n",
       "      <td>11</td>\n",
       "    </tr>\n",
       "    <tr>\n",
       "      <th>13</th>\n",
       "      <td>25</td>\n",
       "      <td>13</td>\n",
       "    </tr>\n",
       "    <tr>\n",
       "      <th>18</th>\n",
       "      <td>2</td>\n",
       "      <td>18</td>\n",
       "    </tr>\n",
       "    <tr>\n",
       "      <th>19</th>\n",
       "      <td>6</td>\n",
       "      <td>19</td>\n",
       "    </tr>\n",
       "  </tbody>\n",
       "</table>\n",
       "</div>"
      ],
      "text/plain": [
       "         interaction_count  user_id\n",
       "user_id                            \n",
       "9                        6        9\n",
       "11                       2       11\n",
       "13                      25       13\n",
       "18                       2       18\n",
       "19                       6       19"
      ]
     },
     "execution_count": 3,
     "metadata": {},
     "output_type": "execute_result"
    }
   ],
   "source": [
    "\"\"\"\n",
    "Lets create a dataframe that pairs users with their corresponding interaction count\n",
    "\"\"\"\n",
    "user_df = clipped_interactions.to_frame()\n",
    "user_df.columns = ['interaction_count']\n",
    "user_df['user_id'] = user_df.index\n",
    "user_df.head()"
   ]
  },
  {
   "cell_type": "code",
   "execution_count": 4,
   "metadata": {
    "collapsed": true
   },
   "outputs": [],
   "source": [
    "\"\"\"\n",
    "These are the fitted params for the fitted halfgennorm distribution\n",
    "\"\"\"\n",
    "fitted_params = (0.325, .9, .2, )"
   ]
  },
  {
   "cell_type": "code",
   "execution_count": 5,
   "metadata": {},
   "outputs": [
    {
     "name": "stdout",
     "output_type": "stream",
     "text": [
      "0.487643857614\n"
     ]
    }
   ],
   "source": [
    "\"\"\"\n",
    "This is the 'original lambda'.  See 'piecewise_distribution' for mor about this.  We use a lambda of 7, which\n",
    "corresponds to an overall probability the user is assigned to group A of around 49%.  We can see that after running\n",
    "our similation the probability of A ends up being around 49%, which is good.\n",
    "\"\"\"\n",
    "\n",
    "LAMBDA = 7\n",
    "dist = halfgennorm\n",
    "k = dist.pdf(LAMBDA, *fitted_params)\n",
    "\n",
    "up_to_lambda = np.linspace(1, LAMBDA, LAMBDA)\n",
    "passed_lambda = np.linspace(LAMBDA + 1, 31, 31 - LAMBDA)\n",
    "\n",
    "B = halfgennorm.pdf(up_to_lambda, *fitted_params) - k\n",
    "B = np.append(B, np.zeros(31 - LAMBDA))\n",
    "\n",
    "A = halfgennorm.pdf(passed_lambda, *fitted_params)\n",
    "A = np.append(np.ones(LAMBDA) * k, A)\n",
    "\n",
    "prob_A = A / (A + B)\n",
    "\n",
    "lambda_mapping = {'interaction_count': range(1, 32), 'prob_a': [prob_A[idx] for idx in range(31)]}\n",
    "\n",
    "prob_A_df = pd.DataFrame.from_dict(lambda_mapping)\n",
    "user_prob_df = user_df.merge(prob_A_df, on='interaction_count')\n",
    "\n",
    "user_prob_df['is_a'] = user_prob_df['prob_a'].map(lambda x: x >= random())\n",
    "print(sum(user_prob_df['is_a']) / len(user_prob_df['is_a']))"
   ]
  },
  {
   "cell_type": "code",
   "execution_count": 9,
   "metadata": {
    "collapsed": true
   },
   "outputs": [],
   "source": [
    "user_prob_df.to_csv('data/synthetic/piecewise_lambda_7_to_7.csv', index=False)"
   ]
  },
  {
   "cell_type": "code",
   "execution_count": 54,
   "metadata": {
    "collapsed": true
   },
   "outputs": [],
   "source": [
    "\"\"\"\n",
    "We now want to generate some datasets with different values for lambda.\n",
    "\"\"\"\n",
    "LAMBDA = 7\n",
    "dist = halfgennorm\n",
    "k = dist.pdf(LAMBDA, *fitted_params)\n",
    "\n",
    "up_to_lambda = np.linspace(1, LAMBDA, LAMBDA)\n",
    "passed_lambda = np.linspace(LAMBDA + 1, 30, 30 - LAMBDA)\n",
    "\n",
    "B = dist.pdf(up_to_lambda, *fitted_params) - k\n",
    "B = np.append(B, np.zeros(30 - LAMBDA))\n",
    "\n",
    "A = halfgennorm.pdf(passed_lambda, *fitted_params)\n",
    "A = np.append(np.ones(LAMBDA) * k, A)\n",
    "\n",
    "new_a = sum(A)\n",
    "\n",
    "a_adj = fixed_a - new_a\n",
    "\n",
    "N = LAMBDA - 1\n",
    "x_int = (a_adj * 2) / (N * (N + 1))\n",
    "\n",
    "A_line = [k + x_int * (N - x) for x in range(0, LAMBDA)]\n",
    "\n",
    "A = halfgennorm.pdf(passed_lambda, *fitted_params)\n",
    "A = np.append(A_line, A)\n",
    "\n",
    "B = halfgennorm.pdf(up_to_lambda, *fitted_params) - A_line\n",
    "B = np.append(B, np.zeros(30 - LAMBDA))"
   ]
  },
  {
   "cell_type": "code",
   "execution_count": null,
   "metadata": {
    "collapsed": true
   },
   "outputs": [],
   "source": []
  }
 ],
 "metadata": {
  "kernelspec": {
   "display_name": "Python 3",
   "language": "python",
   "name": "python3"
  },
  "language_info": {
   "codemirror_mode": {
    "name": "ipython",
    "version": 3
   },
   "file_extension": ".py",
   "mimetype": "text/x-python",
   "name": "python",
   "nbconvert_exporter": "python",
   "pygments_lexer": "ipython3",
   "version": "3.6.3"
  }
 },
 "nbformat": 4,
 "nbformat_minor": 2
}
