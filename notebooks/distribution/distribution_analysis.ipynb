{
 "cells": [
  {
   "cell_type": "code",
   "execution_count": 22,
   "metadata": {
    "collapsed": true
   },
   "outputs": [],
   "source": [
    "import pandas as pd\n",
    "import seaborn as sns\n",
    "import matplotlib.pyplot as plt\n",
    "from matplotlib import figure\n",
    "from scipy.stats import lognorm, halfgennorm, powerlaw\n",
    "import numpy as np\n",
    "from fitter import Fitter"
   ]
  },
  {
   "cell_type": "code",
   "execution_count": 23,
   "metadata": {
    "collapsed": true
   },
   "outputs": [],
   "source": [
    "original_df = pd.read_csv('data/original/fm_interactions.csv', delimiter='\\t')"
   ]
  },
  {
   "cell_type": "code",
   "execution_count": 24,
   "metadata": {},
   "outputs": [
    {
     "data": {
      "text/html": [
       "<div>\n",
       "<style>\n",
       "    .dataframe thead tr:only-child th {\n",
       "        text-align: right;\n",
       "    }\n",
       "\n",
       "    .dataframe thead th {\n",
       "        text-align: left;\n",
       "    }\n",
       "\n",
       "    .dataframe tbody tr th {\n",
       "        vertical-align: top;\n",
       "    }\n",
       "</style>\n",
       "<table border=\"1\" class=\"dataframe\">\n",
       "  <thead>\n",
       "    <tr style=\"text-align: right;\">\n",
       "      <th></th>\n",
       "      <th>user_id</th>\n",
       "      <th>item_id</th>\n",
       "      <th>interaction_type</th>\n",
       "      <th>week</th>\n",
       "    </tr>\n",
       "  </thead>\n",
       "  <tbody>\n",
       "    <tr>\n",
       "      <th>0</th>\n",
       "      <td>1000028</td>\n",
       "      <td>645285</td>\n",
       "      <td>3</td>\n",
       "      <td>14</td>\n",
       "    </tr>\n",
       "    <tr>\n",
       "      <th>1</th>\n",
       "      <td>1000034</td>\n",
       "      <td>1454772</td>\n",
       "      <td>3</td>\n",
       "      <td>12</td>\n",
       "    </tr>\n",
       "    <tr>\n",
       "      <th>2</th>\n",
       "      <td>1000034</td>\n",
       "      <td>1475304</td>\n",
       "      <td>2</td>\n",
       "      <td>12</td>\n",
       "    </tr>\n",
       "    <tr>\n",
       "      <th>3</th>\n",
       "      <td>1000034</td>\n",
       "      <td>1511509</td>\n",
       "      <td>3</td>\n",
       "      <td>9</td>\n",
       "    </tr>\n",
       "    <tr>\n",
       "      <th>4</th>\n",
       "      <td>1000034</td>\n",
       "      <td>153352</td>\n",
       "      <td>3</td>\n",
       "      <td>12</td>\n",
       "    </tr>\n",
       "  </tbody>\n",
       "</table>\n",
       "</div>"
      ],
      "text/plain": [
       "   user_id  item_id  interaction_type  week\n",
       "0  1000028   645285                 3    14\n",
       "1  1000034  1454772                 3    12\n",
       "2  1000034  1475304                 2    12\n",
       "3  1000034  1511509                 3     9\n",
       "4  1000034   153352                 3    12"
      ]
     },
     "execution_count": 24,
     "metadata": {},
     "output_type": "execute_result"
    }
   ],
   "source": [
    "original_df.head()"
   ]
  },
  {
   "cell_type": "code",
   "execution_count": 25,
   "metadata": {},
   "outputs": [
    {
     "name": "stdout",
     "output_type": "stream",
     "text": [
      "[0, 1, 2, 3, 4, 5]\n"
     ]
    }
   ],
   "source": [
    "\"\"\"\n",
    "There are five classes of interaction type per user.  These classes are:\n",
    "\n",
    "0 = XING showed this item to a user (= impression)\n",
    "\n",
    "1 = the user clicked on the item\n",
    "\n",
    "2 = the user bookmarked the item on XING\n",
    "\n",
    "3 = the user clicked on the reply button or application form button that is shown on some job postings\n",
    "\n",
    "4 = the user deleted a recommendation from his/her list of recommendation (clicking on \"x\")\n",
    "    which has the effect that the recommendation will no longer been shown to the user and that a new \n",
    "    recommendation item will be loaded and displayed to the user\n",
    "    \n",
    "5 = a recruiter from the items company showed interest into the user. (e.g. clicked on the profile)\n",
    "\"\"\"\n",
    "print(sorted(original_df['interaction_type'].unique()))"
   ]
  },
  {
   "cell_type": "code",
   "execution_count": 26,
   "metadata": {},
   "outputs": [
    {
     "name": "stdout",
     "output_type": "stream",
     "text": [
      "1096350\n"
     ]
    }
   ],
   "source": [
    "\"\"\"\n",
    "There are 1,096,350 unique users in the dataset\n",
    "\"\"\"\n",
    "print(len(original_df.user_id.unique()))"
   ]
  },
  {
   "cell_type": "code",
   "execution_count": 27,
   "metadata": {},
   "outputs": [
    {
     "name": "stdout",
     "output_type": "stream",
     "text": [
      "(10319324, 4)\n"
     ]
    }
   ],
   "source": [
    "print(original_df.shape)"
   ]
  },
  {
   "cell_type": "code",
   "execution_count": 28,
   "metadata": {
    "collapsed": true
   },
   "outputs": [],
   "source": [
    "users_df = pd.read_csv('data/original/users.csv', delimiter='\\t')"
   ]
  },
  {
   "cell_type": "code",
   "execution_count": 29,
   "metadata": {},
   "outputs": [
    {
     "data": {
      "text/html": [
       "<div>\n",
       "<style>\n",
       "    .dataframe thead tr:only-child th {\n",
       "        text-align: right;\n",
       "    }\n",
       "\n",
       "    .dataframe thead th {\n",
       "        text-align: left;\n",
       "    }\n",
       "\n",
       "    .dataframe tbody tr th {\n",
       "        vertical-align: top;\n",
       "    }\n",
       "</style>\n",
       "<table border=\"1\" class=\"dataframe\">\n",
       "  <thead>\n",
       "    <tr style=\"text-align: right;\">\n",
       "      <th></th>\n",
       "      <th>recsyschallenge_v2017_users_final_anonym_export_unique.id</th>\n",
       "      <th>recsyschallenge_v2017_users_final_anonym_export_unique.jobroles</th>\n",
       "      <th>recsyschallenge_v2017_users_final_anonym_export_unique.career_level</th>\n",
       "      <th>recsyschallenge_v2017_users_final_anonym_export_unique.discipline_id</th>\n",
       "      <th>recsyschallenge_v2017_users_final_anonym_export_unique.industry_id</th>\n",
       "      <th>recsyschallenge_v2017_users_final_anonym_export_unique.country</th>\n",
       "      <th>recsyschallenge_v2017_users_final_anonym_export_unique.region</th>\n",
       "      <th>recsyschallenge_v2017_users_final_anonym_export_unique.experience_n_entries_class</th>\n",
       "      <th>recsyschallenge_v2017_users_final_anonym_export_unique.experience_years_experience</th>\n",
       "      <th>recsyschallenge_v2017_users_final_anonym_export_unique.experience_years_in_current</th>\n",
       "      <th>recsyschallenge_v2017_users_final_anonym_export_unique.edu_degree</th>\n",
       "      <th>recsyschallenge_v2017_users_final_anonym_export_unique.edu_fieldofstudies</th>\n",
       "      <th>recsyschallenge_v2017_users_final_anonym_export_unique.wtcj</th>\n",
       "      <th>recsyschallenge_v2017_users_final_anonym_export_unique.premium</th>\n",
       "    </tr>\n",
       "  </thead>\n",
       "  <tbody>\n",
       "    <tr>\n",
       "      <th>0</th>\n",
       "      <td>30</td>\n",
       "      <td>2551922</td>\n",
       "      <td>3</td>\n",
       "      <td>0</td>\n",
       "      <td>0</td>\n",
       "      <td>de</td>\n",
       "      <td>0</td>\n",
       "      <td>1</td>\n",
       "      <td>3</td>\n",
       "      <td>1</td>\n",
       "      <td>2</td>\n",
       "      <td>2</td>\n",
       "      <td>1</td>\n",
       "      <td>0</td>\n",
       "    </tr>\n",
       "    <tr>\n",
       "      <th>1</th>\n",
       "      <td>50</td>\n",
       "      <td>4375874,3415336,2152789,1431010</td>\n",
       "      <td>3</td>\n",
       "      <td>4</td>\n",
       "      <td>15</td>\n",
       "      <td>de</td>\n",
       "      <td>7</td>\n",
       "      <td>3</td>\n",
       "      <td>4</td>\n",
       "      <td>1</td>\n",
       "      <td>2</td>\n",
       "      <td>5,8</td>\n",
       "      <td>1</td>\n",
       "      <td>0</td>\n",
       "    </tr>\n",
       "    <tr>\n",
       "      <th>2</th>\n",
       "      <td>70</td>\n",
       "      <td>851763,2070276</td>\n",
       "      <td>3</td>\n",
       "      <td>17</td>\n",
       "      <td>4</td>\n",
       "      <td>de</td>\n",
       "      <td>2</td>\n",
       "      <td>2</td>\n",
       "      <td>7</td>\n",
       "      <td>2</td>\n",
       "      <td>0</td>\n",
       "      <td>NaN</td>\n",
       "      <td>1</td>\n",
       "      <td>0</td>\n",
       "    </tr>\n",
       "    <tr>\n",
       "      <th>3</th>\n",
       "      <td>90</td>\n",
       "      <td>2139882,2177068,1520218,3113130,399936</td>\n",
       "      <td>0</td>\n",
       "      <td>0</td>\n",
       "      <td>0</td>\n",
       "      <td>de</td>\n",
       "      <td>0</td>\n",
       "      <td>1</td>\n",
       "      <td>0</td>\n",
       "      <td>0</td>\n",
       "      <td>0</td>\n",
       "      <td>NaN</td>\n",
       "      <td>0</td>\n",
       "      <td>0</td>\n",
       "    </tr>\n",
       "    <tr>\n",
       "      <th>4</th>\n",
       "      <td>100</td>\n",
       "      <td>233434,3142896,3836967,987884</td>\n",
       "      <td>3</td>\n",
       "      <td>0</td>\n",
       "      <td>16</td>\n",
       "      <td>non_dach</td>\n",
       "      <td>0</td>\n",
       "      <td>3</td>\n",
       "      <td>5</td>\n",
       "      <td>5</td>\n",
       "      <td>0</td>\n",
       "      <td>NaN</td>\n",
       "      <td>0</td>\n",
       "      <td>0</td>\n",
       "    </tr>\n",
       "  </tbody>\n",
       "</table>\n",
       "</div>"
      ],
      "text/plain": [
       "   recsyschallenge_v2017_users_final_anonym_export_unique.id  \\\n",
       "0                                                 30           \n",
       "1                                                 50           \n",
       "2                                                 70           \n",
       "3                                                 90           \n",
       "4                                                100           \n",
       "\n",
       "  recsyschallenge_v2017_users_final_anonym_export_unique.jobroles  \\\n",
       "0                                            2551922                \n",
       "1                    4375874,3415336,2152789,1431010                \n",
       "2                                     851763,2070276                \n",
       "3             2139882,2177068,1520218,3113130,399936                \n",
       "4                      233434,3142896,3836967,987884                \n",
       "\n",
       "   recsyschallenge_v2017_users_final_anonym_export_unique.career_level  \\\n",
       "0                                                  3                     \n",
       "1                                                  3                     \n",
       "2                                                  3                     \n",
       "3                                                  0                     \n",
       "4                                                  3                     \n",
       "\n",
       "   recsyschallenge_v2017_users_final_anonym_export_unique.discipline_id  \\\n",
       "0                                                  0                      \n",
       "1                                                  4                      \n",
       "2                                                 17                      \n",
       "3                                                  0                      \n",
       "4                                                  0                      \n",
       "\n",
       "   recsyschallenge_v2017_users_final_anonym_export_unique.industry_id  \\\n",
       "0                                                  0                    \n",
       "1                                                 15                    \n",
       "2                                                  4                    \n",
       "3                                                  0                    \n",
       "4                                                 16                    \n",
       "\n",
       "  recsyschallenge_v2017_users_final_anonym_export_unique.country  \\\n",
       "0                                                 de               \n",
       "1                                                 de               \n",
       "2                                                 de               \n",
       "3                                                 de               \n",
       "4                                           non_dach               \n",
       "\n",
       "   recsyschallenge_v2017_users_final_anonym_export_unique.region  \\\n",
       "0                                                  0               \n",
       "1                                                  7               \n",
       "2                                                  2               \n",
       "3                                                  0               \n",
       "4                                                  0               \n",
       "\n",
       "   recsyschallenge_v2017_users_final_anonym_export_unique.experience_n_entries_class  \\\n",
       "0                                                  1                                   \n",
       "1                                                  3                                   \n",
       "2                                                  2                                   \n",
       "3                                                  1                                   \n",
       "4                                                  3                                   \n",
       "\n",
       "   recsyschallenge_v2017_users_final_anonym_export_unique.experience_years_experience  \\\n",
       "0                                                  3                                    \n",
       "1                                                  4                                    \n",
       "2                                                  7                                    \n",
       "3                                                  0                                    \n",
       "4                                                  5                                    \n",
       "\n",
       "   recsyschallenge_v2017_users_final_anonym_export_unique.experience_years_in_current  \\\n",
       "0                                                  1                                    \n",
       "1                                                  1                                    \n",
       "2                                                  2                                    \n",
       "3                                                  0                                    \n",
       "4                                                  5                                    \n",
       "\n",
       "   recsyschallenge_v2017_users_final_anonym_export_unique.edu_degree  \\\n",
       "0                                                  2                   \n",
       "1                                                  2                   \n",
       "2                                                  0                   \n",
       "3                                                  0                   \n",
       "4                                                  0                   \n",
       "\n",
       "  recsyschallenge_v2017_users_final_anonym_export_unique.edu_fieldofstudies  \\\n",
       "0                                                  2                          \n",
       "1                                                5,8                          \n",
       "2                                                NaN                          \n",
       "3                                                NaN                          \n",
       "4                                                NaN                          \n",
       "\n",
       "   recsyschallenge_v2017_users_final_anonym_export_unique.wtcj  \\\n",
       "0                                                  1             \n",
       "1                                                  1             \n",
       "2                                                  1             \n",
       "3                                                  0             \n",
       "4                                                  0             \n",
       "\n",
       "   recsyschallenge_v2017_users_final_anonym_export_unique.premium  \n",
       "0                                                  0               \n",
       "1                                                  0               \n",
       "2                                                  0               \n",
       "3                                                  0               \n",
       "4                                                  0               "
      ]
     },
     "execution_count": 29,
     "metadata": {},
     "output_type": "execute_result"
    }
   ],
   "source": [
    "users_df.head()"
   ]
  },
  {
   "cell_type": "code",
   "execution_count": 30,
   "metadata": {},
   "outputs": [
    {
     "data": {
      "text/plain": [
       "(1497020, 14)"
      ]
     },
     "execution_count": 30,
     "metadata": {},
     "output_type": "execute_result"
    }
   ],
   "source": [
    "users_df.shape"
   ]
  },
  {
   "cell_type": "code",
   "execution_count": 31,
   "metadata": {
    "collapsed": true
   },
   "outputs": [],
   "source": [
    "\"\"\"\n",
    "Filter out interactions outside of the categories 1, 2 and 3.  These three categories are all interactions\n",
    "that suggest user optimism.\n",
    "\n",
    "Once the categories are filtered, group the interactions by user_id to get the total count of interactions\n",
    "for each user.\n",
    "\"\"\"\n",
    "interaction_df = original_df[original_df['interaction_type'].isin([1, 2, 3])]\n",
    "user_group = interaction_df.groupby(['user_id'])\n",
    "user_interaction_count = user_group['item_id'].count()"
   ]
  },
  {
   "cell_type": "code",
   "execution_count": 32,
   "metadata": {},
   "outputs": [
    {
     "data": {
      "image/png": "[encoded data removed]",
      "text/plain": [
       "<matplotlib.figure.Figure at 0x1a1ba64898>"
      ]
     },
     "metadata": {},
     "output_type": "display_data"
    }
   ],
   "source": [
    "\"\"\"\n",
    "Plot the distribution.\n",
    "\n",
    "We see in the plot below that the vast majority of users have a number of interactions between 1 and 100,\n",
    "with a small number of outliers.\n",
    "\"\"\"\n",
    "fig = plt.figure(figsize=(10, 10))\n",
    "graph = sns.distplot(user_interaction_count)\n",
    "graph.set_title('User Interaction Count Histogram')\n",
    "graph.set(ylabel='Percent', xlabel='Interaction Count')\n",
    "plt.show()"
   ]
  },
  {
   "cell_type": "code",
   "execution_count": 33,
   "metadata": {},
   "outputs": [
    {
     "data": {
      "image/png": "[encoded data removed]",
      "text/plain": [
       "<matplotlib.figure.Figure at 0x1a0f53e3c8>"
      ]
     },
     "metadata": {},
     "output_type": "display_data"
    }
   ],
   "source": [
    "\"\"\"\n",
    "After removing the outlier interactions, we see that our users usually have interactions between 0 and 40 times.\n",
    "\"\"\"\n",
    "fig = plt.figure(figsize=(10, 10))\n",
    "clipped_interactions = user_interaction_count.clip(0, 51)\n",
    "graph = sns.distplot(clipped_interactions)\n",
    "graph.set_title('User Interaction Count Histogram (clipped at 50)')\n",
    "graph.set(ylabel='Percent', xlabel='Interaction Count')\n",
    "plt.show()"
   ]
  },
  {
   "cell_type": "code",
   "execution_count": 10,
   "metadata": {},
   "outputs": [
    {
     "name": "stderr",
     "output_type": "stream",
     "text": [
      "/Users/jackson.kontny/.pyenv/versions/anaconda3-5.0.1/lib/python3.6/site-packages/scipy/stats/_continuous_distns.py:562: RuntimeWarning: divide by zero encountered in true_divide\n",
      "  a/(b-1.0),\n",
      "/Users/jackson.kontny/.pyenv/versions/anaconda3-5.0.1/lib/python3.6/site-packages/scipy/stats/_continuous_distns.py:566: RuntimeWarning: divide by zero encountered in true_divide\n",
      "  a*(a+1.0)/((b-2.0)*(b-1.0)),\n",
      "/Users/jackson.kontny/.pyenv/versions/anaconda3-5.0.1/lib/python3.6/site-packages/scipy/stats/_distn_infrastructure.py:1037: RuntimeWarning: invalid value encountered in subtract\n",
      "  mu2 = mu2p - mu * mu\n",
      "/Users/jackson.kontny/.pyenv/versions/anaconda3-5.0.1/lib/python3.6/site-packages/scipy/stats/_distn_infrastructure.py:2303: RuntimeWarning: invalid value encountered in double_scalars\n",
      "  Lhat = muhat - Shat*mu\n"
     ]
    },
    {
     "name": "stdout",
     "output_type": "stream",
     "text": [
      "Fitted betaprime distribution with error=0.16342468683632044)\n",
      "Fitted halfgennorm distribution with error=0.08159957787846056)\n"
     ]
    },
    {
     "name": "stderr",
     "output_type": "stream",
     "text": [
      "/Users/jackson.kontny/.pyenv/versions/anaconda3-5.0.1/lib/python3.6/site-packages/scipy/stats/_continuous_distns.py:3656: RuntimeWarning: overflow encountered in power\n",
      "  return a*(a + x**a)**(-1.0/a-1)\n"
     ]
    },
    {
     "name": "stdout",
     "output_type": "stream",
     "text": [
      "Fitted kappa3 distribution with error=0.15883690432174494)\n",
      "Fitted bradford distribution with error=0.11543820681718626)\n",
      "Fitted lognorm distribution with error=0.09813062478695624)\n"
     ]
    },
    {
     "data": {
      "image/png": "[encoded data removed]",
      "text/plain": [
       "<matplotlib.figure.Figure at 0x1a17207208>"
      ]
     },
     "metadata": {},
     "output_type": "display_data"
    }
   ],
   "source": [
    "\"\"\" Using the 'Fitter' library: https://pypi.python.org/pypi/fitter - we can get a ranking of what distributions fit\n",
    "    the dataset well.  One should note that empty bins are taken into account for the mean error, so it is beneficial\n",
    "    to be mindful that your bins should follow a continuous trend.\n",
    "\"\"\"\n",
    "f = Fitter(\n",
    "    clipped_interactions,\n",
    "    distributions=['betaprime', 'halfgennorm', 'kappa3', 'bradford', 'lognorm', 'powerlaw'],\n",
    "    bins=50,\n",
    "    xmin=1,\n",
    "    xmax=50)\n",
    "f.fit()\n",
    "f.summary()\n",
    "plt.show()"
   ]
  },
  {
   "cell_type": "code",
   "execution_count": 38,
   "metadata": {},
   "outputs": [
    {
     "data": {
      "image/png": "[encoded data removed]",
      "text/plain": [
       "<matplotlib.figure.Figure at 0x1a110bde80>"
      ]
     },
     "metadata": {},
     "output_type": "display_data"
    }
   ],
   "source": [
    "\"\"\"\n",
    "The empty bins threw off the algorithm quite a bit.  If we reduce the number of bins to 30, we see that our\n",
    "distribution continuously decreases, suggesting our fit will be more accurate.\n",
    "\"\"\"\n",
    "\n",
    "clipped_interactions = user_interaction_count.clip(1, 31)\n",
    "fig = plt.figure(figsize=(10, 10))\n",
    "graph = sns.distplot(clipped_interactions, bins = 30)\n",
    "graph.set_title('User Interaction Count Histogram (clipped at 30)')\n",
    "graph.set(ylabel='Percent', xlabel='Interaction Count')\n",
    "plt.show()"
   ]
  },
  {
   "cell_type": "code",
   "execution_count": 39,
   "metadata": {},
   "outputs": [
    {
     "name": "stderr",
     "output_type": "stream",
     "text": [
      "/Users/jackson.kontny/.pyenv/versions/anaconda3-5.0.1/lib/python3.6/site-packages/scipy/stats/_distn_infrastructure.py:2303: RuntimeWarning: invalid value encountered in double_scalars\n",
      "  Lhat = muhat - Shat*mu\n"
     ]
    },
    {
     "name": "stdout",
     "output_type": "stream",
     "text": [
      "Fitted alpha distribution with error=0.007071219975375971)\n",
      "Fitted anglit distribution with error=0.1244746042369856)\n",
      "Fitted arcsine distribution with error=0.12015979577973242)\n",
      "Fitted argus distribution with error=0.1358915630828156)\n"
     ]
    },
    {
     "name": "stderr",
     "output_type": "stream",
     "text": [
      "/Users/jackson.kontny/.pyenv/versions/anaconda3-5.0.1/lib/python3.6/site-packages/scipy/stats/_continuous_distns.py:412: RuntimeWarning: invalid value encountered in sqrt\n",
      "  sk = 2*(b-a)*np.sqrt(a + b + 1) / (a + b + 2) / np.sqrt(a*b)\n"
     ]
    },
    {
     "name": "stdout",
     "output_type": "stream",
     "text": [
      "Fitted beta distribution with error=0.035181111037683836)\n"
     ]
    },
    {
     "name": "stderr",
     "output_type": "stream",
     "text": [
      "/Users/jackson.kontny/.pyenv/versions/anaconda3-5.0.1/lib/python3.6/site-packages/scipy/stats/_continuous_distns.py:562: RuntimeWarning: divide by zero encountered in true_divide\n",
      "  a/(b-1.0),\n",
      "/Users/jackson.kontny/.pyenv/versions/anaconda3-5.0.1/lib/python3.6/site-packages/scipy/stats/_continuous_distns.py:566: RuntimeWarning: divide by zero encountered in true_divide\n",
      "  a*(a+1.0)/((b-2.0)*(b-1.0)),\n",
      "/Users/jackson.kontny/.pyenv/versions/anaconda3-5.0.1/lib/python3.6/site-packages/scipy/stats/_distn_infrastructure.py:1037: RuntimeWarning: invalid value encountered in subtract\n",
      "  mu2 = mu2p - mu * mu\n"
     ]
    },
    {
     "name": "stdout",
     "output_type": "stream",
     "text": [
      "Fitted betaprime distribution with error=0.06069108286018876)\n",
      "Fitted bradford distribution with error=0.08911139905628968)\n",
      "Fitted burr distribution with error=0.09941514893896301)\n"
     ]
    },
    {
     "name": "stderr",
     "output_type": "stream",
     "text": [
      "/Users/jackson.kontny/.pyenv/versions/anaconda3-5.0.1/lib/python3.6/site-packages/scipy/stats/_continuous_distns.py:726: RuntimeWarning: overflow encountered in power\n",
      "  return np.log(c) + np.log(d) + sc.xlogy(c - 1, x) + sc.xlog1py(-d-1, x**c)\n"
     ]
    },
    {
     "name": "stdout",
     "output_type": "stream",
     "text": [
      "Fitted burr12 distribution with error=0.05106237118459449)\n",
      "Fitted cauchy distribution with error=0.02538842919556106)\n",
      "Fitted chi distribution with error=0.02530444362241323)\n",
      "Fitted chi2 distribution with error=0.010584631702287444)\n",
      "Fitted cosine distribution with error=0.1210007982911219)\n",
      "Fitted dgamma distribution with error=0.07388201959444467)\n",
      "Fitted dweibull distribution with error=0.07944598992858036)\n"
     ]
    },
    {
     "name": "stderr",
     "output_type": "stream",
     "text": [
      "/Users/jackson.kontny/.pyenv/versions/anaconda3-5.0.1/lib/python3.6/site-packages/scipy/stats/_continuous_distns.py:2131: RuntimeWarning: The shape parameter of the erlang distribution has been given a non-integer value 1.05.\n",
      "  RuntimeWarning)\n",
      "/Users/jackson.kontny/.pyenv/versions/anaconda3-5.0.1/lib/python3.6/site-packages/scipy/stats/_continuous_distns.py:2131: RuntimeWarning: The shape parameter of the erlang distribution has been given a non-integer value 1.0333333333333332.\n",
      "  RuntimeWarning)\n",
      "/Users/jackson.kontny/.pyenv/versions/anaconda3-5.0.1/lib/python3.6/site-packages/scipy/stats/_continuous_distns.py:2131: RuntimeWarning: The shape parameter of the erlang distribution has been given a non-integer value 1.0499999999999998.\n",
      "  RuntimeWarning)\n",
      "/Users/jackson.kontny/.pyenv/versions/anaconda3-5.0.1/lib/python3.6/site-packages/scipy/stats/_continuous_distns.py:2131: RuntimeWarning: The shape parameter of the erlang distribution has been given a non-integer value 1.0666666666666664.\n",
      "  RuntimeWarning)\n",
      "/Users/jackson.kontny/.pyenv/versions/anaconda3-5.0.1/lib/python3.6/site-packages/scipy/stats/_continuous_distns.py:2131: RuntimeWarning: The shape parameter of the erlang distribution has been given a non-integer value 1.0999999999999996.\n",
      "  RuntimeWarning)\n",
      "/Users/jackson.kontny/.pyenv/versions/anaconda3-5.0.1/lib/python3.6/site-packages/scipy/stats/_continuous_distns.py:2131: RuntimeWarning: The shape parameter of the erlang distribution has been given a non-integer value 1.1333333333333329.\n",
      "  RuntimeWarning)\n",
      "/Users/jackson.kontny/.pyenv/versions/anaconda3-5.0.1/lib/python3.6/site-packages/scipy/stats/_continuous_distns.py:2131: RuntimeWarning: The shape parameter of the erlang distribution has been given a non-integer value 1.1999999999999993.\n",
      "  RuntimeWarning)\n",
      "/Users/jackson.kontny/.pyenv/versions/anaconda3-5.0.1/lib/python3.6/site-packages/scipy/stats/_continuous_distns.py:2131: RuntimeWarning: The shape parameter of the erlang distribution has been given a non-integer value 1.1833333333333325.\n",
      "  RuntimeWarning)\n",
      "/Users/jackson.kontny/.pyenv/versions/anaconda3-5.0.1/lib/python3.6/site-packages/scipy/stats/_continuous_distns.py:2131: RuntimeWarning: The shape parameter of the erlang distribution has been given a non-integer value 1.2499999999999987.\n",
      "  RuntimeWarning)\n",
      "/Users/jackson.kontny/.pyenv/versions/anaconda3-5.0.1/lib/python3.6/site-packages/scipy/stats/_continuous_distns.py:2131: RuntimeWarning: The shape parameter of the erlang distribution has been given a non-integer value 1.2722222222222213.\n",
      "  RuntimeWarning)\n",
      "/Users/jackson.kontny/.pyenv/versions/anaconda3-5.0.1/lib/python3.6/site-packages/scipy/stats/_continuous_distns.py:2131: RuntimeWarning: The shape parameter of the erlang distribution has been given a non-integer value 1.383333333333332.\n",
      "  RuntimeWarning)\n",
      "/Users/jackson.kontny/.pyenv/versions/anaconda3-5.0.1/lib/python3.6/site-packages/scipy/stats/_continuous_distns.py:2131: RuntimeWarning: The shape parameter of the erlang distribution has been given a non-integer value 1.4111111111111097.\n",
      "  RuntimeWarning)\n",
      "/Users/jackson.kontny/.pyenv/versions/anaconda3-5.0.1/lib/python3.6/site-packages/scipy/stats/_continuous_distns.py:2131: RuntimeWarning: The shape parameter of the erlang distribution has been given a non-integer value 1.1777777777777771.\n",
      "  RuntimeWarning)\n",
      "/Users/jackson.kontny/.pyenv/versions/anaconda3-5.0.1/lib/python3.6/site-packages/scipy/stats/_continuous_distns.py:2131: RuntimeWarning: The shape parameter of the erlang distribution has been given a non-integer value 1.2962962962962954.\n",
      "  RuntimeWarning)\n",
      "/Users/jackson.kontny/.pyenv/versions/anaconda3-5.0.1/lib/python3.6/site-packages/scipy/stats/_continuous_distns.py:2131: RuntimeWarning: The shape parameter of the erlang distribution has been given a non-integer value 1.3444444444444432.\n",
      "  RuntimeWarning)\n",
      "/Users/jackson.kontny/.pyenv/versions/anaconda3-5.0.1/lib/python3.6/site-packages/scipy/stats/_continuous_distns.py:2131: RuntimeWarning: The shape parameter of the erlang distribution has been given a non-integer value 1.4296296296296283.\n",
      "  RuntimeWarning)\n",
      "/Users/jackson.kontny/.pyenv/versions/anaconda3-5.0.1/lib/python3.6/site-packages/scipy/stats/_continuous_distns.py:2131: RuntimeWarning: The shape parameter of the erlang distribution has been given a non-integer value 1.5882716049382697.\n",
      "  RuntimeWarning)\n",
      "/Users/jackson.kontny/.pyenv/versions/anaconda3-5.0.1/lib/python3.6/site-packages/scipy/stats/_continuous_distns.py:2131: RuntimeWarning: The shape parameter of the erlang distribution has been given a non-integer value 1.5248971193415621.\n",
      "  RuntimeWarning)\n",
      "/Users/jackson.kontny/.pyenv/versions/anaconda3-5.0.1/lib/python3.6/site-packages/scipy/stats/_continuous_distns.py:2131: RuntimeWarning: The shape parameter of the erlang distribution has been given a non-integer value 1.595679012345677.\n",
      "  RuntimeWarning)\n",
      "/Users/jackson.kontny/.pyenv/versions/anaconda3-5.0.1/lib/python3.6/site-packages/scipy/stats/_continuous_distns.py:2131: RuntimeWarning: The shape parameter of the erlang distribution has been given a non-integer value 1.5893004115226317.\n",
      "  RuntimeWarning)\n",
      "/Users/jackson.kontny/.pyenv/versions/anaconda3-5.0.1/lib/python3.6/site-packages/scipy/stats/_continuous_distns.py:2131: RuntimeWarning: The shape parameter of the erlang distribution has been given a non-integer value 1.6691358024691336.\n",
      "  RuntimeWarning)\n",
      "/Users/jackson.kontny/.pyenv/versions/anaconda3-5.0.1/lib/python3.6/site-packages/scipy/stats/_continuous_distns.py:2131: RuntimeWarning: The shape parameter of the erlang distribution has been given a non-integer value 1.4313443072702314.\n",
      "  RuntimeWarning)\n",
      "/Users/jackson.kontny/.pyenv/versions/anaconda3-5.0.1/lib/python3.6/site-packages/scipy/stats/_continuous_distns.py:2131: RuntimeWarning: The shape parameter of the erlang distribution has been given a non-integer value 1.3528806584362125.\n",
      "  RuntimeWarning)\n",
      "/Users/jackson.kontny/.pyenv/versions/anaconda3-5.0.1/lib/python3.6/site-packages/scipy/stats/_continuous_distns.py:2131: RuntimeWarning: The shape parameter of the erlang distribution has been given a non-integer value 1.6807956104252373.\n",
      "  RuntimeWarning)\n",
      "/Users/jackson.kontny/.pyenv/versions/anaconda3-5.0.1/lib/python3.6/site-packages/scipy/stats/_continuous_distns.py:2131: RuntimeWarning: The shape parameter of the erlang distribution has been given a non-integer value 1.4285322359396417.\n",
      "  RuntimeWarning)\n",
      "/Users/jackson.kontny/.pyenv/versions/anaconda3-5.0.1/lib/python3.6/site-packages/scipy/stats/_continuous_distns.py:2131: RuntimeWarning: The shape parameter of the erlang distribution has been given a non-integer value 1.3181298582533132.\n",
      "  RuntimeWarning)\n",
      "/Users/jackson.kontny/.pyenv/versions/anaconda3-5.0.1/lib/python3.6/site-packages/scipy/stats/_continuous_distns.py:2131: RuntimeWarning: The shape parameter of the erlang distribution has been given a non-integer value 1.1437280902301468.\n",
      "  RuntimeWarning)\n",
      "/Users/jackson.kontny/.pyenv/versions/anaconda3-5.0.1/lib/python3.6/site-packages/scipy/stats/_continuous_distns.py:2131: RuntimeWarning: The shape parameter of the erlang distribution has been given a non-integer value 1.1146268353401401.\n",
      "  RuntimeWarning)\n",
      "/Users/jackson.kontny/.pyenv/versions/anaconda3-5.0.1/lib/python3.6/site-packages/scipy/stats/_continuous_distns.py:2131: RuntimeWarning: The shape parameter of the erlang distribution has been given a non-integer value 1.089360531084353.\n",
      "  RuntimeWarning)\n",
      "/Users/jackson.kontny/.pyenv/versions/anaconda3-5.0.1/lib/python3.6/site-packages/scipy/stats/_continuous_distns.py:2131: RuntimeWarning: The shape parameter of the erlang distribution has been given a non-integer value 0.97497586749987297.\n",
      "  RuntimeWarning)\n",
      "/Users/jackson.kontny/.pyenv/versions/anaconda3-5.0.1/lib/python3.6/site-packages/scipy/stats/_continuous_distns.py:2131: RuntimeWarning: The shape parameter of the erlang distribution has been given a non-integer value 1.1997629087706816.\n",
      "  RuntimeWarning)\n",
      "/Users/jackson.kontny/.pyenv/versions/anaconda3-5.0.1/lib/python3.6/site-packages/scipy/stats/_continuous_distns.py:2131: RuntimeWarning: The shape parameter of the erlang distribution has been given a non-integer value 1.2080181995743646.\n",
      "  RuntimeWarning)\n",
      "/Users/jackson.kontny/.pyenv/versions/anaconda3-5.0.1/lib/python3.6/site-packages/scipy/stats/_continuous_distns.py:2131: RuntimeWarning: The shape parameter of the erlang distribution has been given a non-integer value 1.2401632542464736.\n",
      "  RuntimeWarning)\n",
      "/Users/jackson.kontny/.pyenv/versions/anaconda3-5.0.1/lib/python3.6/site-packages/scipy/stats/_continuous_distns.py:2131: RuntimeWarning: The shape parameter of the erlang distribution has been given a non-integer value 0.92372069524180622.\n",
      "  RuntimeWarning)\n",
      "/Users/jackson.kontny/.pyenv/versions/anaconda3-5.0.1/lib/python3.6/site-packages/scipy/stats/_continuous_distns.py:2131: RuntimeWarning: The shape parameter of the erlang distribution has been given a non-integer value 0.70914071364460307.\n",
      "  RuntimeWarning)\n",
      "/Users/jackson.kontny/.pyenv/versions/anaconda3-5.0.1/lib/python3.6/site-packages/scipy/stats/_continuous_distns.py:2131: RuntimeWarning: The shape parameter of the erlang distribution has been given a non-integer value 0.7497569814899514.\n",
      "  RuntimeWarning)\n",
      "/Users/jackson.kontny/.pyenv/versions/anaconda3-5.0.1/lib/python3.6/site-packages/scipy/stats/_continuous_distns.py:2131: RuntimeWarning: The shape parameter of the erlang distribution has been given a non-integer value 0.52475401784958642.\n",
      "  RuntimeWarning)\n",
      "/Users/jackson.kontny/.pyenv/versions/anaconda3-5.0.1/lib/python3.6/site-packages/scipy/stats/_continuous_distns.py:2131: RuntimeWarning: The shape parameter of the erlang distribution has been given a non-integer value 0.82439809875414594.\n",
      "  RuntimeWarning)\n"
     ]
    },
    {
     "name": "stderr",
     "output_type": "stream",
     "text": [
      "/Users/jackson.kontny/.pyenv/versions/anaconda3-5.0.1/lib/python3.6/site-packages/scipy/stats/_continuous_distns.py:2131: RuntimeWarning: The shape parameter of the erlang distribution has been given a non-integer value 0.93733142531344127.\n",
      "  RuntimeWarning)\n",
      "/Users/jackson.kontny/.pyenv/versions/anaconda3-5.0.1/lib/python3.6/site-packages/scipy/stats/_continuous_distns.py:2131: RuntimeWarning: The shape parameter of the erlang distribution has been given a non-integer value 0.35732282605219012.\n",
      "  RuntimeWarning)\n",
      "/Users/jackson.kontny/.pyenv/versions/anaconda3-5.0.1/lib/python3.6/site-packages/scipy/stats/_continuous_distns.py:2131: RuntimeWarning: The shape parameter of the erlang distribution has been given a non-integer value 0.57803293310076098.\n",
      "  RuntimeWarning)\n",
      "/Users/jackson.kontny/.pyenv/versions/anaconda3-5.0.1/lib/python3.6/site-packages/scipy/stats/_continuous_distns.py:2131: RuntimeWarning: The shape parameter of the erlang distribution has been given a non-integer value 0.42062232684343548.\n",
      "  RuntimeWarning)\n",
      "/Users/jackson.kontny/.pyenv/versions/anaconda3-5.0.1/lib/python3.6/site-packages/scipy/stats/_continuous_distns.py:2131: RuntimeWarning: The shape parameter of the erlang distribution has been given a non-integer value 0.80815415069593977.\n",
      "  RuntimeWarning)\n",
      "/Users/jackson.kontny/.pyenv/versions/anaconda3-5.0.1/lib/python3.6/site-packages/scipy/stats/_continuous_distns.py:2131: RuntimeWarning: The shape parameter of the erlang distribution has been given a non-integer value 0.54979960146093698.\n",
      "  RuntimeWarning)\n",
      "/Users/jackson.kontny/.pyenv/versions/anaconda3-5.0.1/lib/python3.6/site-packages/scipy/stats/_continuous_distns.py:2131: RuntimeWarning: The shape parameter of the erlang distribution has been given a non-integer value 0.74356551338718901.\n",
      "  RuntimeWarning)\n",
      "/Users/jackson.kontny/.pyenv/versions/anaconda3-5.0.1/lib/python3.6/site-packages/scipy/stats/_continuous_distns.py:2131: RuntimeWarning: The shape parameter of the erlang distribution has been given a non-integer value 0.89027587258040142.\n",
      "  RuntimeWarning)\n",
      "/Users/jackson.kontny/.pyenv/versions/anaconda3-5.0.1/lib/python3.6/site-packages/scipy/stats/_continuous_distns.py:2131: RuntimeWarning: The shape parameter of the erlang distribution has been given a non-integer value 0.82255019842278165.\n",
      "  RuntimeWarning)\n",
      "/Users/jackson.kontny/.pyenv/versions/anaconda3-5.0.1/lib/python3.6/site-packages/scipy/stats/_continuous_distns.py:2131: RuntimeWarning: The shape parameter of the erlang distribution has been given a non-integer value 0.86204254094057786.\n",
      "  RuntimeWarning)\n",
      "/Users/jackson.kontny/.pyenv/versions/anaconda3-5.0.1/lib/python3.6/site-packages/scipy/stats/_continuous_distns.py:2131: RuntimeWarning: The shape parameter of the erlang distribution has been given a non-integer value 0.93258132135082006.\n",
      "  RuntimeWarning)\n",
      "/Users/jackson.kontny/.pyenv/versions/anaconda3-5.0.1/lib/python3.6/site-packages/scipy/stats/_continuous_distns.py:2131: RuntimeWarning: The shape parameter of the erlang distribution has been given a non-integer value 0.76500086557115732.\n",
      "  RuntimeWarning)\n",
      "/Users/jackson.kontny/.pyenv/versions/anaconda3-5.0.1/lib/python3.6/site-packages/scipy/stats/_continuous_distns.py:2131: RuntimeWarning: The shape parameter of the erlang distribution has been given a non-integer value 0.66792949107552557.\n",
      "  RuntimeWarning)\n",
      "/Users/jackson.kontny/.pyenv/versions/anaconda3-5.0.1/lib/python3.6/site-packages/scipy/stats/_continuous_distns.py:2131: RuntimeWarning: The shape parameter of the erlang distribution has been given a non-integer value 0.55675630032308776.\n",
      "  RuntimeWarning)\n",
      "/Users/jackson.kontny/.pyenv/versions/anaconda3-5.0.1/lib/python3.6/site-packages/scipy/stats/_continuous_distns.py:2131: RuntimeWarning: The shape parameter of the erlang distribution has been given a non-integer value 0.72849024842101517.\n",
      "  RuntimeWarning)\n",
      "/Users/jackson.kontny/.pyenv/versions/anaconda3-5.0.1/lib/python3.6/site-packages/scipy/stats/_continuous_distns.py:2131: RuntimeWarning: The shape parameter of the erlang distribution has been given a non-integer value 0.75587321128362173.\n",
      "  RuntimeWarning)\n",
      "/Users/jackson.kontny/.pyenv/versions/anaconda3-5.0.1/lib/python3.6/site-packages/scipy/stats/_continuous_distns.py:2131: RuntimeWarning: The shape parameter of the erlang distribution has been given a non-integer value 0.73761790270855077.\n",
      "  RuntimeWarning)\n",
      "/Users/jackson.kontny/.pyenv/versions/anaconda3-5.0.1/lib/python3.6/site-packages/scipy/stats/_continuous_distns.py:2131: RuntimeWarning: The shape parameter of the erlang distribution has been given a non-integer value 0.75130938413985393.\n",
      "  RuntimeWarning)\n",
      "/Users/jackson.kontny/.pyenv/versions/anaconda3-5.0.1/lib/python3.6/site-packages/scipy/stats/_continuous_distns.py:2131: RuntimeWarning: The shape parameter of the erlang distribution has been given a non-integer value 0.74476906760215611.\n",
      "  RuntimeWarning)\n",
      "/Users/jackson.kontny/.pyenv/versions/anaconda3-5.0.1/lib/python3.6/site-packages/scipy/stats/_continuous_distns.py:2131: RuntimeWarning: The shape parameter of the erlang distribution has been given a non-integer value 0.74227511065825835.\n",
      "  RuntimeWarning)\n",
      "/Users/jackson.kontny/.pyenv/versions/anaconda3-5.0.1/lib/python3.6/site-packages/scipy/stats/_continuous_distns.py:2131: RuntimeWarning: The shape parameter of the erlang distribution has been given a non-integer value 0.73885645392712185.\n",
      "  RuntimeWarning)\n",
      "/Users/jackson.kontny/.pyenv/versions/anaconda3-5.0.1/lib/python3.6/site-packages/scipy/stats/_continuous_distns.py:2131: RuntimeWarning: The shape parameter of the erlang distribution has been given a non-integer value 0.74819615158667085.\n",
      "  RuntimeWarning)\n",
      "/Users/jackson.kontny/.pyenv/versions/anaconda3-5.0.1/lib/python3.6/site-packages/scipy/stats/_continuous_distns.py:2131: RuntimeWarning: The shape parameter of the erlang distribution has been given a non-integer value 0.61804627508678678.\n",
      "  RuntimeWarning)\n",
      "/Users/jackson.kontny/.pyenv/versions/anaconda3-5.0.1/lib/python3.6/site-packages/scipy/stats/_continuous_distns.py:2131: RuntimeWarning: The shape parameter of the erlang distribution has been given a non-integer value 0.60563373758964145.\n",
      "  RuntimeWarning)\n",
      "/Users/jackson.kontny/.pyenv/versions/anaconda3-5.0.1/lib/python3.6/site-packages/scipy/stats/_continuous_distns.py:2131: RuntimeWarning: The shape parameter of the erlang distribution has been given a non-integer value 0.7125555480874135.\n",
      "  RuntimeWarning)\n",
      "/Users/jackson.kontny/.pyenv/versions/anaconda3-5.0.1/lib/python3.6/site-packages/scipy/stats/_continuous_distns.py:2131: RuntimeWarning: The shape parameter of the erlang distribution has been given a non-integer value 0.6412743410888988.\n",
      "  RuntimeWarning)\n",
      "/Users/jackson.kontny/.pyenv/versions/anaconda3-5.0.1/lib/python3.6/site-packages/scipy/stats/_continuous_distns.py:2131: RuntimeWarning: The shape parameter of the erlang distribution has been given a non-integer value 0.75126899142426673.\n",
      "  RuntimeWarning)\n",
      "/Users/jackson.kontny/.pyenv/versions/anaconda3-5.0.1/lib/python3.6/site-packages/scipy/stats/_continuous_distns.py:2131: RuntimeWarning: The shape parameter of the erlang distribution has been given a non-integer value 0.65135195417115677.\n",
      "  RuntimeWarning)\n",
      "/Users/jackson.kontny/.pyenv/versions/anaconda3-5.0.1/lib/python3.6/site-packages/scipy/stats/_continuous_distns.py:2131: RuntimeWarning: The shape parameter of the erlang distribution has been given a non-integer value 0.69033408416594866.\n",
      "  RuntimeWarning)\n",
      "/Users/jackson.kontny/.pyenv/versions/anaconda3-5.0.1/lib/python3.6/site-packages/scipy/stats/_continuous_distns.py:2131: RuntimeWarning: The shape parameter of the erlang distribution has been given a non-integer value 0.70153638071116031.\n",
      "  RuntimeWarning)\n",
      "/Users/jackson.kontny/.pyenv/versions/anaconda3-5.0.1/lib/python3.6/site-packages/scipy/stats/_continuous_distns.py:2131: RuntimeWarning: The shape parameter of the erlang distribution has been given a non-integer value 0.73289970773351221.\n",
      "  RuntimeWarning)\n",
      "/Users/jackson.kontny/.pyenv/versions/anaconda3-5.0.1/lib/python3.6/site-packages/scipy/stats/_continuous_distns.py:2131: RuntimeWarning: The shape parameter of the erlang distribution has been given a non-integer value 0.67173889256174557.\n",
      "  RuntimeWarning)\n",
      "/Users/jackson.kontny/.pyenv/versions/anaconda3-5.0.1/lib/python3.6/site-packages/scipy/stats/_continuous_distns.py:2131: RuntimeWarning: The shape parameter of the erlang distribution has been given a non-integer value 0.59079581094223932.\n",
      "  RuntimeWarning)\n",
      "/Users/jackson.kontny/.pyenv/versions/anaconda3-5.0.1/lib/python3.6/site-packages/scipy/stats/_continuous_distns.py:2131: RuntimeWarning: The shape parameter of the erlang distribution has been given a non-integer value 0.51380918261228103.\n",
      "  RuntimeWarning)\n",
      "/Users/jackson.kontny/.pyenv/versions/anaconda3-5.0.1/lib/python3.6/site-packages/scipy/stats/_continuous_distns.py:2131: RuntimeWarning: The shape parameter of the erlang distribution has been given a non-integer value 0.55853951268300683.\n",
      "  RuntimeWarning)\n",
      "/Users/jackson.kontny/.pyenv/versions/anaconda3-5.0.1/lib/python3.6/site-packages/scipy/stats/_continuous_distns.py:2131: RuntimeWarning: The shape parameter of the erlang distribution has been given a non-integer value 0.64343904759206083.\n",
      "  RuntimeWarning)\n",
      "/Users/jackson.kontny/.pyenv/versions/anaconda3-5.0.1/lib/python3.6/site-packages/scipy/stats/_continuous_distns.py:2131: RuntimeWarning: The shape parameter of the erlang distribution has been given a non-integer value 0.58683935765269157.\n",
      "  RuntimeWarning)\n",
      "/Users/jackson.kontny/.pyenv/versions/anaconda3-5.0.1/lib/python3.6/site-packages/scipy/stats/_continuous_distns.py:2131: RuntimeWarning: The shape parameter of the erlang distribution has been given a non-integer value 0.55271407519838212.\n",
      "  RuntimeWarning)\n",
      "/Users/jackson.kontny/.pyenv/versions/anaconda3-5.0.1/lib/python3.6/site-packages/scipy/stats/_continuous_distns.py:2131: RuntimeWarning: The shape parameter of the erlang distribution has been given a non-integer value 0.50843394225312366.\n",
      "  RuntimeWarning)\n",
      "/Users/jackson.kontny/.pyenv/versions/anaconda3-5.0.1/lib/python3.6/site-packages/scipy/stats/_continuous_distns.py:2131: RuntimeWarning: The shape parameter of the erlang distribution has been given a non-integer value 0.41190765947628782.\n",
      "  RuntimeWarning)\n",
      "/Users/jackson.kontny/.pyenv/versions/anaconda3-5.0.1/lib/python3.6/site-packages/scipy/stats/_continuous_distns.py:2131: RuntimeWarning: The shape parameter of the erlang distribution has been given a non-integer value 0.52049821227262671.\n",
      "  RuntimeWarning)\n",
      "/Users/jackson.kontny/.pyenv/versions/anaconda3-5.0.1/lib/python3.6/site-packages/scipy/stats/_continuous_distns.py:2131: RuntimeWarning: The shape parameter of the erlang distribution has been given a non-integer value 0.51548144002736751.\n",
      "  RuntimeWarning)\n"
     ]
    },
    {
     "name": "stderr",
     "output_type": "stream",
     "text": [
      "/Users/jackson.kontny/.pyenv/versions/anaconda3-5.0.1/lib/python3.6/site-packages/scipy/stats/_continuous_distns.py:2131: RuntimeWarning: The shape parameter of the erlang distribution has been given a non-integer value 0.51882595485754024.\n",
      "  RuntimeWarning)\n",
      "/Users/jackson.kontny/.pyenv/versions/anaconda3-5.0.1/lib/python3.6/site-packages/scipy/stats/_continuous_distns.py:2131: RuntimeWarning: The shape parameter of the erlang distribution has been given a non-integer value 0.52049821227262649.\n",
      "  RuntimeWarning)\n",
      "/Users/jackson.kontny/.pyenv/versions/anaconda3-5.0.1/lib/python3.6/site-packages/scipy/stats/_continuous_distns.py:2131: RuntimeWarning: The shape parameter of the erlang distribution has been given a non-integer value 0.40212576870211525.\n",
      "  RuntimeWarning)\n",
      "/Users/jackson.kontny/.pyenv/versions/anaconda3-5.0.1/lib/python3.6/site-packages/scipy/stats/_continuous_distns.py:2131: RuntimeWarning: The shape parameter of the erlang distribution has been given a non-integer value 0.57053620636240387.\n",
      "  RuntimeWarning)\n",
      "/Users/jackson.kontny/.pyenv/versions/anaconda3-5.0.1/lib/python3.6/site-packages/scipy/stats/_continuous_distns.py:2131: RuntimeWarning: The shape parameter of the erlang distribution has been given a non-integer value 0.45156479619781686.\n",
      "  RuntimeWarning)\n",
      "/Users/jackson.kontny/.pyenv/versions/anaconda3-5.0.1/lib/python3.6/site-packages/scipy/stats/_continuous_distns.py:2131: RuntimeWarning: The shape parameter of the erlang distribution has been given a non-integer value 0.36229693797326601.\n",
      "  RuntimeWarning)\n",
      "/Users/jackson.kontny/.pyenv/versions/anaconda3-5.0.1/lib/python3.6/site-packages/scipy/stats/_continuous_distns.py:2131: RuntimeWarning: The shape parameter of the erlang distribution has been given a non-integer value 0.4039343114907975.\n",
      "  RuntimeWarning)\n",
      "/Users/jackson.kontny/.pyenv/versions/anaconda3-5.0.1/lib/python3.6/site-packages/scipy/stats/_continuous_distns.py:2131: RuntimeWarning: The shape parameter of the erlang distribution has been given a non-integer value 0.43965717502106205.\n",
      "  RuntimeWarning)\n",
      "/Users/jackson.kontny/.pyenv/versions/anaconda3-5.0.1/lib/python3.6/site-packages/scipy/stats/_continuous_distns.py:2131: RuntimeWarning: The shape parameter of the erlang distribution has been given a non-integer value 0.41584193266755232.\n",
      "  RuntimeWarning)\n",
      "/Users/jackson.kontny/.pyenv/versions/anaconda3-5.0.1/lib/python3.6/site-packages/scipy/stats/_continuous_distns.py:2131: RuntimeWarning: The shape parameter of the erlang distribution has been given a non-integer value 0.43370336443268465.\n",
      "  RuntimeWarning)\n",
      "/Users/jackson.kontny/.pyenv/versions/anaconda3-5.0.1/lib/python3.6/site-packages/scipy/stats/_continuous_distns.py:2131: RuntimeWarning: The shape parameter of the erlang distribution has been given a non-integer value 0.47442506947354546.\n",
      "  RuntimeWarning)\n",
      "/Users/jackson.kontny/.pyenv/versions/anaconda3-5.0.1/lib/python3.6/site-packages/scipy/stats/_continuous_distns.py:2131: RuntimeWarning: The shape parameter of the erlang distribution has been given a non-integer value 0.42020059389497277.\n",
      "  RuntimeWarning)\n",
      "/Users/jackson.kontny/.pyenv/versions/anaconda3-5.0.1/lib/python3.6/site-packages/scipy/stats/_continuous_distns.py:2131: RuntimeWarning: The shape parameter of the erlang distribution has been given a non-integer value 0.43384562671783466.\n",
      "  RuntimeWarning)\n",
      "/Users/jackson.kontny/.pyenv/versions/anaconda3-5.0.1/lib/python3.6/site-packages/scipy/stats/_continuous_distns.py:2131: RuntimeWarning: The shape parameter of the erlang distribution has been given a non-integer value 0.45644508580412113.\n",
      "  RuntimeWarning)\n",
      "/Users/jackson.kontny/.pyenv/versions/anaconda3-5.0.1/lib/python3.6/site-packages/scipy/stats/_continuous_distns.py:2131: RuntimeWarning: The shape parameter of the erlang distribution has been given a non-integer value 0.42926171687225989.\n",
      "  RuntimeWarning)\n",
      "/Users/jackson.kontny/.pyenv/versions/anaconda3-5.0.1/lib/python3.6/site-packages/scipy/stats/_continuous_distns.py:2131: RuntimeWarning: The shape parameter of the erlang distribution has been given a non-integer value 0.44738396282683401.\n",
      "  RuntimeWarning)\n",
      "/Users/jackson.kontny/.pyenv/versions/anaconda3-5.0.1/lib/python3.6/site-packages/scipy/stats/_continuous_distns.py:2131: RuntimeWarning: The shape parameter of the erlang distribution has been given a non-integer value 0.43379227836090339.\n",
      "  RuntimeWarning)\n",
      "/Users/jackson.kontny/.pyenv/versions/anaconda3-5.0.1/lib/python3.6/site-packages/scipy/stats/_continuous_distns.py:2131: RuntimeWarning: The shape parameter of the erlang distribution has been given a non-integer value 0.56201230198425278.\n",
      "  RuntimeWarning)\n",
      "/Users/jackson.kontny/.pyenv/versions/anaconda3-5.0.1/lib/python3.6/site-packages/scipy/stats/_continuous_distns.py:2131: RuntimeWarning: The shape parameter of the erlang distribution has been given a non-integer value 0.4122257789760127.\n",
      "  RuntimeWarning)\n",
      "/Users/jackson.kontny/.pyenv/versions/anaconda3-5.0.1/lib/python3.6/site-packages/scipy/stats/_continuous_distns.py:2131: RuntimeWarning: The shape parameter of the erlang distribution has been given a non-integer value 0.47613929534002175.\n",
      "  RuntimeWarning)\n",
      "/Users/jackson.kontny/.pyenv/versions/anaconda3-5.0.1/lib/python3.6/site-packages/scipy/stats/_continuous_distns.py:2131: RuntimeWarning: The shape parameter of the erlang distribution has been given a non-integer value 0.44437903260568301.\n",
      "  RuntimeWarning)\n",
      "/Users/jackson.kontny/.pyenv/versions/anaconda3-5.0.1/lib/python3.6/site-packages/scipy/stats/_continuous_distns.py:2131: RuntimeWarning: The shape parameter of the erlang distribution has been given a non-integer value 0.51914129714469248.\n",
      "  RuntimeWarning)\n",
      "/Users/jackson.kontny/.pyenv/versions/anaconda3-5.0.1/lib/python3.6/site-packages/scipy/stats/_continuous_distns.py:2131: RuntimeWarning: The shape parameter of the erlang distribution has been given a non-integer value 0.43895465851818266.\n",
      "  RuntimeWarning)\n",
      "/Users/jackson.kontny/.pyenv/versions/anaconda3-5.0.1/lib/python3.6/site-packages/scipy/stats/_continuous_distns.py:2131: RuntimeWarning: The shape parameter of the erlang distribution has been given a non-integer value 0.48337179412335529.\n",
      "  RuntimeWarning)\n",
      "/Users/jackson.kontny/.pyenv/versions/anaconda3-5.0.1/lib/python3.6/site-packages/scipy/stats/_continuous_distns.py:2131: RuntimeWarning: The shape parameter of the erlang distribution has been given a non-integer value 0.45412722298510111.\n",
      "  RuntimeWarning)\n",
      "/Users/jackson.kontny/.pyenv/versions/anaconda3-5.0.1/lib/python3.6/site-packages/scipy/stats/_continuous_distns.py:2131: RuntimeWarning: The shape parameter of the erlang distribution has been given a non-integer value 0.49891121118880138.\n",
      "  RuntimeWarning)\n",
      "/Users/jackson.kontny/.pyenv/versions/anaconda3-5.0.1/lib/python3.6/site-packages/scipy/stats/_continuous_distns.py:2131: RuntimeWarning: The shape parameter of the erlang distribution has been given a non-integer value 0.45394379668583734.\n",
      "  RuntimeWarning)\n",
      "/Users/jackson.kontny/.pyenv/versions/anaconda3-5.0.1/lib/python3.6/site-packages/scipy/stats/_continuous_distns.py:2131: RuntimeWarning: The shape parameter of the erlang distribution has been given a non-integer value 0.48361636252237372.\n",
      "  RuntimeWarning)\n",
      "/Users/jackson.kontny/.pyenv/versions/anaconda3-5.0.1/lib/python3.6/site-packages/scipy/stats/_continuous_distns.py:2131: RuntimeWarning: The shape parameter of the erlang distribution has been given a non-integer value 0.46149950786941929.\n",
      "  RuntimeWarning)\n",
      "/Users/jackson.kontny/.pyenv/versions/anaconda3-5.0.1/lib/python3.6/site-packages/scipy/stats/_continuous_distns.py:2131: RuntimeWarning: The shape parameter of the erlang distribution has been given a non-integer value 0.48883692961069219.\n",
      "  RuntimeWarning)\n",
      "/Users/jackson.kontny/.pyenv/versions/anaconda3-5.0.1/lib/python3.6/site-packages/scipy/stats/_continuous_distns.py:2131: RuntimeWarning: The shape parameter of the erlang distribution has been given a non-integer value 0.46266707991705103.\n",
      "  RuntimeWarning)\n",
      "/Users/jackson.kontny/.pyenv/versions/anaconda3-5.0.1/lib/python3.6/site-packages/scipy/stats/_continuous_distns.py:2131: RuntimeWarning: The shape parameter of the erlang distribution has been given a non-integer value 0.48205959979219803.\n",
      "  RuntimeWarning)\n",
      "/Users/jackson.kontny/.pyenv/versions/anaconda3-5.0.1/lib/python3.6/site-packages/scipy/stats/_continuous_distns.py:2131: RuntimeWarning: The shape parameter of the erlang distribution has been given a non-integer value 0.466639530850114.\n",
      "  RuntimeWarning)\n",
      "/Users/jackson.kontny/.pyenv/versions/anaconda3-5.0.1/lib/python3.6/site-packages/scipy/stats/_continuous_distns.py:2131: RuntimeWarning: The shape parameter of the erlang distribution has been given a non-integer value 0.48354032836660821.\n",
      "  RuntimeWarning)\n",
      "/Users/jackson.kontny/.pyenv/versions/anaconda3-5.0.1/lib/python3.6/site-packages/scipy/stats/_continuous_distns.py:2131: RuntimeWarning: The shape parameter of the erlang distribution has been given a non-integer value 0.49397695259138685.\n",
      "  RuntimeWarning)\n",
      "/Users/jackson.kontny/.pyenv/versions/anaconda3-5.0.1/lib/python3.6/site-packages/scipy/stats/_continuous_distns.py:2131: RuntimeWarning: The shape parameter of the erlang distribution has been given a non-integer value 0.49083507577787477.\n",
      "  RuntimeWarning)\n",
      "/Users/jackson.kontny/.pyenv/versions/anaconda3-5.0.1/lib/python3.6/site-packages/scipy/stats/_continuous_distns.py:2131: RuntimeWarning: The shape parameter of the erlang distribution has been given a non-integer value 0.47268841708205422.\n",
      "  RuntimeWarning)\n",
      "/Users/jackson.kontny/.pyenv/versions/anaconda3-5.0.1/lib/python3.6/site-packages/scipy/stats/_continuous_distns.py:2131: RuntimeWarning: The shape parameter of the erlang distribution has been given a non-integer value 0.48478618954593455.\n",
      "  RuntimeWarning)\n",
      "/Users/jackson.kontny/.pyenv/versions/anaconda3-5.0.1/lib/python3.6/site-packages/scipy/stats/_continuous_distns.py:2131: RuntimeWarning: The shape parameter of the erlang distribution has been given a non-integer value 0.47571286019802428.\n",
      "  RuntimeWarning)\n",
      "/Users/jackson.kontny/.pyenv/versions/anaconda3-5.0.1/lib/python3.6/site-packages/scipy/stats/_continuous_distns.py:2131: RuntimeWarning: The shape parameter of the erlang distribution has been given a non-integer value 0.4817617464299645.\n",
      "  RuntimeWarning)\n",
      "/Users/jackson.kontny/.pyenv/versions/anaconda3-5.0.1/lib/python3.6/site-packages/scipy/stats/_continuous_distns.py:2131: RuntimeWarning: The shape parameter of the erlang distribution has been given a non-integer value 0.55557305971824067.\n",
      "  RuntimeWarning)\n",
      "/Users/jackson.kontny/.pyenv/versions/anaconda3-5.0.1/lib/python3.6/site-packages/scipy/stats/_continuous_distns.py:2131: RuntimeWarning: The shape parameter of the erlang distribution has been given a non-integer value 0.46427748496793619.\n",
      "  RuntimeWarning)\n",
      "/Users/jackson.kontny/.pyenv/versions/anaconda3-5.0.1/lib/python3.6/site-packages/scipy/stats/_continuous_distns.py:2131: RuntimeWarning: The shape parameter of the erlang distribution has been given a non-integer value 0.52514120146813914.\n",
      "  RuntimeWarning)\n",
      "/Users/jackson.kontny/.pyenv/versions/anaconda3-5.0.1/lib/python3.6/site-packages/scipy/stats/_continuous_distns.py:2131: RuntimeWarning: The shape parameter of the erlang distribution has been given a non-integer value 0.47949341409298696.\n",
      "  RuntimeWarning)\n"
     ]
    },
    {
     "name": "stderr",
     "output_type": "stream",
     "text": [
      "/Users/jackson.kontny/.pyenv/versions/anaconda3-5.0.1/lib/python3.6/site-packages/scipy/stats/_continuous_distns.py:2131: RuntimeWarning: The shape parameter of the erlang distribution has been given a non-integer value 0.44437103773549946.\n",
      "  RuntimeWarning)\n",
      "/Users/jackson.kontny/.pyenv/versions/anaconda3-5.0.1/lib/python3.6/site-packages/scipy/stats/_continuous_distns.py:2131: RuntimeWarning: The shape parameter of the erlang distribution has been given a non-integer value 0.4602886609283946.\n",
      "  RuntimeWarning)\n",
      "/Users/jackson.kontny/.pyenv/versions/anaconda3-5.0.1/lib/python3.6/site-packages/scipy/stats/_continuous_distns.py:2131: RuntimeWarning: The shape parameter of the erlang distribution has been given a non-integer value 0.4746922258018389.\n",
      "  RuntimeWarning)\n",
      "/Users/jackson.kontny/.pyenv/versions/anaconda3-5.0.1/lib/python3.6/site-packages/scipy/stats/_continuous_distns.py:2131: RuntimeWarning: The shape parameter of the erlang distribution has been given a non-integer value 0.46508984921954266.\n",
      "  RuntimeWarning)\n",
      "/Users/jackson.kontny/.pyenv/versions/anaconda3-5.0.1/lib/python3.6/site-packages/scipy/stats/_continuous_distns.py:2131: RuntimeWarning: The shape parameter of the erlang distribution has been given a non-integer value 0.47229163165626487.\n",
      "  RuntimeWarning)\n",
      "/Users/jackson.kontny/.pyenv/versions/anaconda3-5.0.1/lib/python3.6/site-packages/scipy/stats/_continuous_distns.py:2131: RuntimeWarning: The shape parameter of the erlang distribution has been given a non-integer value 0.45170691874228386.\n",
      "  RuntimeWarning)\n",
      "/Users/jackson.kontny/.pyenv/versions/anaconda3-5.0.1/lib/python3.6/site-packages/scipy/stats/_continuous_distns.py:2131: RuntimeWarning: The shape parameter of the erlang distribution has been given a non-integer value 0.43667950489844354.\n",
      "  RuntimeWarning)\n",
      "/Users/jackson.kontny/.pyenv/versions/anaconda3-5.0.1/lib/python3.6/site-packages/scipy/stats/_continuous_distns.py:2131: RuntimeWarning: The shape parameter of the erlang distribution has been given a non-integer value 0.43743561567743594.\n",
      "  RuntimeWarning)\n",
      "/Users/jackson.kontny/.pyenv/versions/anaconda3-5.0.1/lib/python3.6/site-packages/scipy/stats/_continuous_distns.py:2131: RuntimeWarning: The shape parameter of the erlang distribution has been given a non-integer value 0.46357762766155763.\n",
      "  RuntimeWarning)\n",
      "/Users/jackson.kontny/.pyenv/versions/anaconda3-5.0.1/lib/python3.6/site-packages/scipy/stats/_continuous_distns.py:2131: RuntimeWarning: The shape parameter of the erlang distribution has been given a non-integer value 0.44614961967214317.\n",
      "  RuntimeWarning)\n",
      "/Users/jackson.kontny/.pyenv/versions/anaconda3-5.0.1/lib/python3.6/site-packages/scipy/stats/_continuous_distns.py:2131: RuntimeWarning: The shape parameter of the erlang distribution has been given a non-integer value 0.46654193088929719.\n",
      "  RuntimeWarning)\n",
      "/Users/jackson.kontny/.pyenv/versions/anaconda3-5.0.1/lib/python3.6/site-packages/scipy/stats/_continuous_distns.py:2131: RuntimeWarning: The shape parameter of the erlang distribution has been given a non-integer value 0.44991376102394887.\n",
      "  RuntimeWarning)\n",
      "/Users/jackson.kontny/.pyenv/versions/anaconda3-5.0.1/lib/python3.6/site-packages/scipy/stats/_continuous_distns.py:2131: RuntimeWarning: The shape parameter of the erlang distribution has been given a non-integer value 0.46099920760084778.\n",
      "  RuntimeWarning)\n",
      "/Users/jackson.kontny/.pyenv/versions/anaconda3-5.0.1/lib/python3.6/site-packages/scipy/stats/_continuous_distns.py:2131: RuntimeWarning: The shape parameter of the erlang distribution has been given a non-integer value 0.45268512266817362.\n",
      "  RuntimeWarning)\n",
      "/Users/jackson.kontny/.pyenv/versions/anaconda3-5.0.1/lib/python3.6/site-packages/scipy/stats/_continuous_distns.py:2131: RuntimeWarning: The shape parameter of the erlang distribution has been given a non-integer value 0.40680250312589872.\n",
      "  RuntimeWarning)\n",
      "/Users/jackson.kontny/.pyenv/versions/anaconda3-5.0.1/lib/python3.6/site-packages/scipy/stats/_continuous_distns.py:2131: RuntimeWarning: The shape parameter of the erlang distribution has been given a non-integer value 0.36843359050554403.\n",
      "  RuntimeWarning)\n",
      "/Users/jackson.kontny/.pyenv/versions/anaconda3-5.0.1/lib/python3.6/site-packages/scipy/stats/_continuous_distns.py:2131: RuntimeWarning: The shape parameter of the erlang distribution has been given a non-integer value 0.40706929579615003.\n",
      "  RuntimeWarning)\n",
      "/Users/jackson.kontny/.pyenv/versions/anaconda3-5.0.1/lib/python3.6/site-packages/scipy/stats/_continuous_distns.py:2131: RuntimeWarning: The shape parameter of the erlang distribution has been given a non-integer value 0.44128116595016775.\n",
      "  RuntimeWarning)\n",
      "/Users/jackson.kontny/.pyenv/versions/anaconda3-5.0.1/lib/python3.6/site-packages/scipy/stats/_continuous_distns.py:2131: RuntimeWarning: The shape parameter of the erlang distribution has been given a non-integer value 0.4184732525141559.\n",
      "  RuntimeWarning)\n",
      "/Users/jackson.kontny/.pyenv/versions/anaconda3-5.0.1/lib/python3.6/site-packages/scipy/stats/_continuous_distns.py:2131: RuntimeWarning: The shape parameter of the erlang distribution has been given a non-integer value 0.43557918759116476.\n",
      "  RuntimeWarning)\n",
      "/Users/jackson.kontny/.pyenv/versions/anaconda3-5.0.1/lib/python3.6/site-packages/scipy/stats/_continuous_distns.py:2131: RuntimeWarning: The shape parameter of the erlang distribution has been given a non-integer value 0.4223413686943609.\n",
      "  RuntimeWarning)\n",
      "/Users/jackson.kontny/.pyenv/versions/anaconda3-5.0.1/lib/python3.6/site-packages/scipy/stats/_continuous_distns.py:2131: RuntimeWarning: The shape parameter of the erlang distribution has been given a non-integer value 0.43309497084742288.\n",
      "  RuntimeWarning)\n",
      "/Users/jackson.kontny/.pyenv/versions/anaconda3-5.0.1/lib/python3.6/site-packages/scipy/stats/_continuous_distns.py:2131: RuntimeWarning: The shape parameter of the erlang distribution has been given a non-integer value 0.42178554150581171.\n",
      "  RuntimeWarning)\n",
      "/Users/jackson.kontny/.pyenv/versions/anaconda3-5.0.1/lib/python3.6/site-packages/scipy/stats/_continuous_distns.py:2131: RuntimeWarning: The shape parameter of the erlang distribution has been given a non-integer value 0.43213077606982653.\n",
      "  RuntimeWarning)\n",
      "/Users/jackson.kontny/.pyenv/versions/anaconda3-5.0.1/lib/python3.6/site-packages/scipy/stats/_continuous_distns.py:2131: RuntimeWarning: The shape parameter of the erlang distribution has been given a non-integer value 0.4236269617311561.\n",
      "  RuntimeWarning)\n",
      "/Users/jackson.kontny/.pyenv/versions/anaconda3-5.0.1/lib/python3.6/site-packages/scipy/stats/_continuous_distns.py:2131: RuntimeWarning: The shape parameter of the erlang distribution has been given a non-integer value 0.43072796856835616.\n",
      "  RuntimeWarning)\n",
      "/Users/jackson.kontny/.pyenv/versions/anaconda3-5.0.1/lib/python3.6/site-packages/scipy/stats/_continuous_distns.py:2131: RuntimeWarning: The shape parameter of the erlang distribution has been given a non-integer value 0.42365595150777213.\n",
      "  RuntimeWarning)\n",
      "/Users/jackson.kontny/.pyenv/versions/anaconda3-5.0.1/lib/python3.6/site-packages/scipy/stats/_continuous_distns.py:2131: RuntimeWarning: The shape parameter of the erlang distribution has been given a non-integer value 0.43001206992931296.\n",
      "  RuntimeWarning)\n",
      "/Users/jackson.kontny/.pyenv/versions/anaconda3-5.0.1/lib/python3.6/site-packages/scipy/stats/_continuous_distns.py:2131: RuntimeWarning: The shape parameter of the erlang distribution has been given a non-integer value 0.42458149324988037.\n",
      "  RuntimeWarning)\n",
      "/Users/jackson.kontny/.pyenv/versions/anaconda3-5.0.1/lib/python3.6/site-packages/scipy/stats/_continuous_distns.py:2131: RuntimeWarning: The shape parameter of the erlang distribution has been given a non-integer value 0.42150825559064242.\n",
      "  RuntimeWarning)\n",
      "/Users/jackson.kontny/.pyenv/versions/anaconda3-5.0.1/lib/python3.6/site-packages/scipy/stats/_continuous_distns.py:2131: RuntimeWarning: The shape parameter of the erlang distribution has been given a non-integer value 0.42167700743596859.\n",
      "  RuntimeWarning)\n",
      "/Users/jackson.kontny/.pyenv/versions/anaconda3-5.0.1/lib/python3.6/site-packages/scipy/stats/_continuous_distns.py:2131: RuntimeWarning: The shape parameter of the erlang distribution has been given a non-integer value 0.42792830430597684.\n",
      "  RuntimeWarning)\n",
      "/Users/jackson.kontny/.pyenv/versions/anaconda3-5.0.1/lib/python3.6/site-packages/scipy/stats/_continuous_distns.py:2131: RuntimeWarning: The shape parameter of the erlang distribution has been given a non-integer value 0.42376077305930471.\n",
      "  RuntimeWarning)\n",
      "/Users/jackson.kontny/.pyenv/versions/anaconda3-5.0.1/lib/python3.6/site-packages/scipy/stats/_continuous_distns.py:2131: RuntimeWarning: The shape parameter of the erlang distribution has been given a non-integer value 0.42688642149430878.\n",
      "  RuntimeWarning)\n",
      "/Users/jackson.kontny/.pyenv/versions/anaconda3-5.0.1/lib/python3.6/site-packages/scipy/stats/_continuous_distns.py:2131: RuntimeWarning: The shape parameter of the erlang distribution has been given a non-integer value 0.42480265587097277.\n",
      "  RuntimeWarning)\n",
      "/Users/jackson.kontny/.pyenv/versions/anaconda3-5.0.1/lib/python3.6/site-packages/scipy/stats/_continuous_distns.py:2131: RuntimeWarning: The shape parameter of the erlang distribution has been given a non-integer value 0.39130814849235795.\n",
      "  RuntimeWarning)\n",
      "/Users/jackson.kontny/.pyenv/versions/anaconda3-5.0.1/lib/python3.6/site-packages/scipy/stats/_continuous_distns.py:2131: RuntimeWarning: The shape parameter of the erlang distribution has been given a non-integer value 0.42032569528290864.\n",
      "  RuntimeWarning)\n",
      "/Users/jackson.kontny/.pyenv/versions/anaconda3-5.0.1/lib/python3.6/site-packages/scipy/stats/_continuous_distns.py:2131: RuntimeWarning: The shape parameter of the erlang distribution has been given a non-integer value 0.41018330116515123.\n",
      "  RuntimeWarning)\n",
      "/Users/jackson.kontny/.pyenv/versions/anaconda3-5.0.1/lib/python3.6/site-packages/scipy/stats/_continuous_distns.py:2131: RuntimeWarning: The shape parameter of the erlang distribution has been given a non-integer value 0.41694489724365613.\n",
      "  RuntimeWarning)\n"
     ]
    },
    {
     "name": "stderr",
     "output_type": "stream",
     "text": [
      "/Users/jackson.kontny/.pyenv/versions/anaconda3-5.0.1/lib/python3.6/site-packages/scipy/stats/_continuous_distns.py:2131: RuntimeWarning: The shape parameter of the erlang distribution has been given a non-integer value 0.41187370018477742.\n",
      "  RuntimeWarning)\n",
      "/Users/jackson.kontny/.pyenv/versions/anaconda3-5.0.1/lib/python3.6/site-packages/scipy/stats/_continuous_distns.py:2131: RuntimeWarning: The shape parameter of the erlang distribution has been given a non-integer value 0.41525449822402993.\n",
      "  RuntimeWarning)\n",
      "/Users/jackson.kontny/.pyenv/versions/anaconda3-5.0.1/lib/python3.6/site-packages/scipy/stats/_continuous_distns.py:2131: RuntimeWarning: The shape parameter of the erlang distribution has been given a non-integer value 0.41271889969459052.\n",
      "  RuntimeWarning)\n",
      "/Users/jackson.kontny/.pyenv/versions/anaconda3-5.0.1/lib/python3.6/site-packages/scipy/stats/_continuous_distns.py:2131: RuntimeWarning: The shape parameter of the erlang distribution has been given a non-integer value 0.41440929871421683.\n",
      "  RuntimeWarning)\n",
      "/Users/jackson.kontny/.pyenv/versions/anaconda3-5.0.1/lib/python3.6/site-packages/scipy/stats/_continuous_distns.py:2131: RuntimeWarning: The shape parameter of the erlang distribution has been given a non-integer value 0.41525449822403004.\n",
      "  RuntimeWarning)\n",
      "/Users/jackson.kontny/.pyenv/versions/anaconda3-5.0.1/lib/python3.6/site-packages/scipy/stats/_continuous_distns.py:2131: RuntimeWarning: The shape parameter of the erlang distribution has been given a non-integer value 0.39539663776666412.\n",
      "  RuntimeWarning)\n",
      "/Users/jackson.kontny/.pyenv/versions/anaconda3-5.0.1/lib/python3.6/site-packages/scipy/stats/_continuous_distns.py:2131: RuntimeWarning: The shape parameter of the erlang distribution has been given a non-integer value 0.43161680466148289.\n",
      "  RuntimeWarning)\n",
      "/Users/jackson.kontny/.pyenv/versions/anaconda3-5.0.1/lib/python3.6/site-packages/scipy/stats/_continuous_distns.py:2131: RuntimeWarning: The shape parameter of the erlang distribution has been given a non-integer value 0.40138531253463916.\n",
      "  RuntimeWarning)\n",
      "/Users/jackson.kontny/.pyenv/versions/anaconda3-5.0.1/lib/python3.6/site-packages/scipy/stats/_continuous_distns.py:2131: RuntimeWarning: The shape parameter of the erlang distribution has been given a non-integer value 0.42153964061920168.\n",
      "  RuntimeWarning)\n",
      "/Users/jackson.kontny/.pyenv/versions/anaconda3-5.0.1/lib/python3.6/site-packages/scipy/stats/_continuous_distns.py:2131: RuntimeWarning: The shape parameter of the erlang distribution has been given a non-integer value 0.431616804661483.\n",
      "  RuntimeWarning)\n",
      "/Users/jackson.kontny/.pyenv/versions/anaconda3-5.0.1/lib/python3.6/site-packages/scipy/stats/_continuous_distns.py:2131: RuntimeWarning: The shape parameter of the erlang distribution has been given a non-integer value 0.39631555815017461.\n",
      "  RuntimeWarning)\n",
      "/Users/jackson.kontny/.pyenv/versions/anaconda3-5.0.1/lib/python3.6/site-packages/scipy/stats/_continuous_distns.py:2131: RuntimeWarning: The shape parameter of the erlang distribution has been given a non-integer value 0.42611302722239808.\n",
      "  RuntimeWarning)\n",
      "/Users/jackson.kontny/.pyenv/versions/anaconda3-5.0.1/lib/python3.6/site-packages/scipy/stats/_continuous_distns.py:2131: RuntimeWarning: The shape parameter of the erlang distribution has been given a non-integer value 0.40307573513059758.\n",
      "  RuntimeWarning)\n",
      "/Users/jackson.kontny/.pyenv/versions/anaconda3-5.0.1/lib/python3.6/site-packages/scipy/stats/_continuous_distns.py:2131: RuntimeWarning: The shape parameter of the erlang distribution has been given a non-integer value 0.41843392985846461.\n",
      "  RuntimeWarning)\n",
      "/Users/jackson.kontny/.pyenv/versions/anaconda3-5.0.1/lib/python3.6/site-packages/scipy/stats/_continuous_distns.py:2131: RuntimeWarning: The shape parameter of the erlang distribution has been given a non-integer value 0.40691528381256437.\n",
      "  RuntimeWarning)\n",
      "/Users/jackson.kontny/.pyenv/versions/anaconda3-5.0.1/lib/python3.6/site-packages/scipy/stats/_continuous_distns.py:2131: RuntimeWarning: The shape parameter of the erlang distribution has been given a non-integer value 0.4021043563404102.\n",
      "  RuntimeWarning)\n",
      "/Users/jackson.kontny/.pyenv/versions/anaconda3-5.0.1/lib/python3.6/site-packages/scipy/stats/_continuous_distns.py:2131: RuntimeWarning: The shape parameter of the erlang distribution has been given a non-integer value 0.41133306312076517.\n",
      "  RuntimeWarning)\n",
      "/Users/jackson.kontny/.pyenv/versions/anaconda3-5.0.1/lib/python3.6/site-packages/scipy/stats/_continuous_distns.py:2131: RuntimeWarning: The shape parameter of the erlang distribution has been given a non-integer value 0.41254355744753002.\n",
      "  RuntimeWarning)\n",
      "/Users/jackson.kontny/.pyenv/versions/anaconda3-5.0.1/lib/python3.6/site-packages/scipy/stats/_continuous_distns.py:2131: RuntimeWarning: The shape parameter of the erlang distribution has been given a non-integer value 0.40832235222130575.\n",
      "  RuntimeWarning)\n",
      "/Users/jackson.kontny/.pyenv/versions/anaconda3-5.0.1/lib/python3.6/site-packages/scipy/stats/_continuous_distns.py:2131: RuntimeWarning: The shape parameter of the erlang distribution has been given a non-integer value 0.40611863753968952.\n",
      "  RuntimeWarning)\n",
      "/Users/jackson.kontny/.pyenv/versions/anaconda3-5.0.1/lib/python3.6/site-packages/scipy/stats/_continuous_distns.py:2131: RuntimeWarning: The shape parameter of the erlang distribution has been given a non-integer value 0.41002945672549629.\n",
      "  RuntimeWarning)\n",
      "/Users/jackson.kontny/.pyenv/versions/anaconda3-5.0.1/lib/python3.6/site-packages/scipy/stats/_continuous_distns.py:2131: RuntimeWarning: The shape parameter of the erlang distribution has been given a non-integer value 0.41026741810860934.\n",
      "  RuntimeWarning)\n",
      "/Users/jackson.kontny/.pyenv/versions/anaconda3-5.0.1/lib/python3.6/site-packages/scipy/stats/_continuous_distns.py:2131: RuntimeWarning: The shape parameter of the erlang distribution has been given a non-integer value 0.40880861869313168.\n",
      "  RuntimeWarning)\n",
      "/Users/jackson.kontny/.pyenv/versions/anaconda3-5.0.1/lib/python3.6/site-packages/scipy/stats/_continuous_distns.py:2131: RuntimeWarning: The shape parameter of the erlang distribution has been given a non-integer value 0.40774642158284236.\n",
      "  RuntimeWarning)\n",
      "/Users/jackson.kontny/.pyenv/versions/anaconda3-5.0.1/lib/python3.6/site-packages/scipy/stats/_continuous_distns.py:2131: RuntimeWarning: The shape parameter of the erlang distribution has been given a non-integer value 0.40660490401151539.\n",
      "  RuntimeWarning)\n",
      "/Users/jackson.kontny/.pyenv/versions/anaconda3-5.0.1/lib/python3.6/site-packages/scipy/stats/_continuous_distns.py:2131: RuntimeWarning: The shape parameter of the erlang distribution has been given a non-integer value 0.40825912820834742.\n",
      "  RuntimeWarning)\n",
      "/Users/jackson.kontny/.pyenv/versions/anaconda3-5.0.1/lib/python3.6/site-packages/scipy/stats/_continuous_distns.py:2131: RuntimeWarning: The shape parameter of the erlang distribution has been given a non-integer value 0.40867124607193561.\n",
      "  RuntimeWarning)\n",
      "/Users/jackson.kontny/.pyenv/versions/anaconda3-5.0.1/lib/python3.6/site-packages/scipy/stats/_continuous_distns.py:2131: RuntimeWarning: The shape parameter of the erlang distribution has been given a non-integer value 0.40839650082954349.\n",
      "  RuntimeWarning)\n",
      "/Users/jackson.kontny/.pyenv/versions/anaconda3-5.0.1/lib/python3.6/site-packages/scipy/stats/_continuous_distns.py:2131: RuntimeWarning: The shape parameter of the erlang distribution has been given a non-integer value 0.40860255976133758.\n",
      "  RuntimeWarning)\n",
      "/Users/jackson.kontny/.pyenv/versions/anaconda3-5.0.1/lib/python3.6/site-packages/scipy/stats/_continuous_distns.py:2131: RuntimeWarning: The shape parameter of the erlang distribution has been given a non-integer value 0.40846518714014152.\n",
      "  RuntimeWarning)\n",
      "/Users/jackson.kontny/.pyenv/versions/anaconda3-5.0.1/lib/python3.6/site-packages/scipy/stats/_continuous_distns.py:2131: RuntimeWarning: The shape parameter of the erlang distribution has been given a non-integer value 0.42885194141128236.\n",
      "  RuntimeWarning)\n",
      "/Users/jackson.kontny/.pyenv/versions/anaconda3-5.0.1/lib/python3.6/site-packages/scipy/stats/_continuous_distns.py:2131: RuntimeWarning: The shape parameter of the erlang distribution has been given a non-integer value 0.40444965396545152.\n",
      "  RuntimeWarning)\n",
      "/Users/jackson.kontny/.pyenv/versions/anaconda3-5.0.1/lib/python3.6/site-packages/scipy/stats/_continuous_distns.py:2131: RuntimeWarning: The shape parameter of the erlang distribution has been given a non-integer value 0.42071784559600545.\n",
      "  RuntimeWarning)\n",
      "/Users/jackson.kontny/.pyenv/versions/anaconda3-5.0.1/lib/python3.6/site-packages/scipy/stats/_continuous_distns.py:2131: RuntimeWarning: The shape parameter of the erlang distribution has been given a non-integer value 0.40851670187308997.\n",
      "  RuntimeWarning)\n",
      "/Users/jackson.kontny/.pyenv/versions/anaconda3-5.0.1/lib/python3.6/site-packages/scipy/stats/_continuous_distns.py:2131: RuntimeWarning: The shape parameter of the erlang distribution has been given a non-integer value 0.39494589977818084.\n",
      "  RuntimeWarning)\n",
      "/Users/jackson.kontny/.pyenv/versions/anaconda3-5.0.1/lib/python3.6/site-packages/scipy/stats/_continuous_distns.py:2131: RuntimeWarning: The shape parameter of the erlang distribution has been given a non-integer value 0.41489120540894647.\n",
      "  RuntimeWarning)\n",
      "/Users/jackson.kontny/.pyenv/versions/anaconda3-5.0.1/lib/python3.6/site-packages/scipy/stats/_continuous_distns.py:2131: RuntimeWarning: The shape parameter of the erlang distribution has been given a non-integer value 0.41221850754819689.\n",
      "  RuntimeWarning)\n"
     ]
    },
    {
     "name": "stderr",
     "output_type": "stream",
     "text": [
      "/Users/jackson.kontny/.pyenv/versions/anaconda3-5.0.1/lib/python3.6/site-packages/scipy/stats/_continuous_distns.py:2131: RuntimeWarning: The shape parameter of the erlang distribution has been given a non-integer value 0.40944215329186673.\n",
      "  RuntimeWarning)\n",
      "/Users/jackson.kontny/.pyenv/versions/anaconda3-5.0.1/lib/python3.6/site-packages/scipy/stats/_continuous_distns.py:2131: RuntimeWarning: The shape parameter of the erlang distribution has been given a non-integer value 0.402211302600954.\n",
      "  RuntimeWarning)\n",
      "/Users/jackson.kontny/.pyenv/versions/anaconda3-5.0.1/lib/python3.6/site-packages/scipy/stats/_continuous_distns.py:2131: RuntimeWarning: The shape parameter of the erlang distribution has been given a non-integer value 0.41172122970694836.\n",
      "  RuntimeWarning)\n",
      "/Users/jackson.kontny/.pyenv/versions/anaconda3-5.0.1/lib/python3.6/site-packages/scipy/stats/_continuous_distns.py:2131: RuntimeWarning: The shape parameter of the erlang distribution has been given a non-integer value 0.40917973899475468.\n",
      "  RuntimeWarning)\n",
      "/Users/jackson.kontny/.pyenv/versions/anaconda3-5.0.1/lib/python3.6/site-packages/scipy/stats/_continuous_distns.py:2131: RuntimeWarning: The shape parameter of the erlang distribution has been given a non-integer value 0.40937654971758874.\n",
      "  RuntimeWarning)\n",
      "/Users/jackson.kontny/.pyenv/versions/anaconda3-5.0.1/lib/python3.6/site-packages/scipy/stats/_continuous_distns.py:2131: RuntimeWarning: The shape parameter of the erlang distribution has been given a non-integer value 0.40533754258676669.\n",
      "  RuntimeWarning)\n",
      "/Users/jackson.kontny/.pyenv/versions/anaconda3-5.0.1/lib/python3.6/site-packages/scipy/stats/_continuous_distns.py:2131: RuntimeWarning: The shape parameter of the erlang distribution has been given a non-integer value 0.40214569902667585.\n",
      "  RuntimeWarning)\n",
      "/Users/jackson.kontny/.pyenv/versions/anaconda3-5.0.1/lib/python3.6/site-packages/scipy/stats/_continuous_distns.py:2131: RuntimeWarning: The shape parameter of the erlang distribution has been given a non-integer value 0.40498955115557822.\n",
      "  RuntimeWarning)\n",
      "/Users/jackson.kontny/.pyenv/versions/anaconda3-5.0.1/lib/python3.6/site-packages/scipy/stats/_continuous_distns.py:2131: RuntimeWarning: The shape parameter of the erlang distribution has been given a non-integer value 0.40827980007708609.\n",
      "  RuntimeWarning)\n",
      "/Users/jackson.kontny/.pyenv/versions/anaconda3-5.0.1/lib/python3.6/site-packages/scipy/stats/_continuous_distns.py:2131: RuntimeWarning: The shape parameter of the erlang distribution has been given a non-integer value 0.40608630079608088.\n",
      "  RuntimeWarning)\n",
      "/Users/jackson.kontny/.pyenv/versions/anaconda3-5.0.1/lib/python3.6/site-packages/scipy/stats/_continuous_distns.py:2131: RuntimeWarning: The shape parameter of the erlang distribution has been given a non-integer value 0.40773142525683481.\n",
      "  RuntimeWarning)\n",
      "/Users/jackson.kontny/.pyenv/versions/anaconda3-5.0.1/lib/python3.6/site-packages/scipy/stats/_continuous_distns.py:2131: RuntimeWarning: The shape parameter of the erlang distribution has been given a non-integer value 0.40541173914415446.\n",
      "  RuntimeWarning)\n",
      "/Users/jackson.kontny/.pyenv/versions/anaconda3-5.0.1/lib/python3.6/site-packages/scipy/stats/_continuous_distns.py:2131: RuntimeWarning: The shape parameter of the erlang distribution has been given a non-integer value 0.40770182514114472.\n",
      "  RuntimeWarning)\n",
      "/Users/jackson.kontny/.pyenv/versions/anaconda3-5.0.1/lib/python3.6/site-packages/scipy/stats/_continuous_distns.py:2131: RuntimeWarning: The shape parameter of the erlang distribution has been given a non-integer value 0.40612576761700114.\n",
      "  RuntimeWarning)\n",
      "/Users/jackson.kontny/.pyenv/versions/anaconda3-5.0.1/lib/python3.6/site-packages/scipy/stats/_continuous_distns.py:2131: RuntimeWarning: The shape parameter of the erlang distribution has been given a non-integer value 0.40733001084687637.\n",
      "  RuntimeWarning)\n",
      "/Users/jackson.kontny/.pyenv/versions/anaconda3-5.0.1/lib/python3.6/site-packages/scipy/stats/_continuous_distns.py:2131: RuntimeWarning: The shape parameter of the erlang distribution has been given a non-integer value 0.40590749153651229.\n",
      "  RuntimeWarning)\n",
      "/Users/jackson.kontny/.pyenv/versions/anaconda3-5.0.1/lib/python3.6/site-packages/scipy/stats/_continuous_distns.py:2131: RuntimeWarning: The shape parameter of the erlang distribution has been given a non-integer value 0.40725324173998662.\n",
      "  RuntimeWarning)\n",
      "/Users/jackson.kontny/.pyenv/versions/anaconda3-5.0.1/lib/python3.6/site-packages/scipy/stats/_continuous_distns.py:2131: RuntimeWarning: The shape parameter of the erlang distribution has been given a non-integer value 0.40622812642618733.\n",
      "  RuntimeWarning)\n",
      "/Users/jackson.kontny/.pyenv/versions/anaconda3-5.0.1/lib/python3.6/site-packages/scipy/stats/_continuous_distns.py:2131: RuntimeWarning: The shape parameter of the erlang distribution has been given a non-integer value 0.40705453974170414.\n",
      "  RuntimeWarning)\n",
      "/Users/jackson.kontny/.pyenv/versions/anaconda3-5.0.1/lib/python3.6/site-packages/scipy/stats/_continuous_distns.py:2131: RuntimeWarning: The shape parameter of the erlang distribution has been given a non-integer value 0.40617242753422206.\n",
      "  RuntimeWarning)\n",
      "/Users/jackson.kontny/.pyenv/versions/anaconda3-5.0.1/lib/python3.6/site-packages/scipy/stats/_continuous_distns.py:2131: RuntimeWarning: The shape parameter of the erlang distribution has been given a non-integer value 0.40563202043133983.\n",
      "  RuntimeWarning)\n",
      "/Users/jackson.kontny/.pyenv/versions/anaconda3-5.0.1/lib/python3.6/site-packages/scipy/stats/_continuous_distns.py:2131: RuntimeWarning: The shape parameter of the erlang distribution has been given a non-integer value 0.40578305472751652.\n",
      "  RuntimeWarning)\n",
      "/Users/jackson.kontny/.pyenv/versions/anaconda3-5.0.1/lib/python3.6/site-packages/scipy/stats/_continuous_distns.py:2131: RuntimeWarning: The shape parameter of the erlang distribution has been given a non-integer value 0.40673666848815726.\n",
      "  RuntimeWarning)\n",
      "/Users/jackson.kontny/.pyenv/versions/anaconda3-5.0.1/lib/python3.6/site-packages/scipy/stats/_continuous_distns.py:2131: RuntimeWarning: The shape parameter of the erlang distribution has been given a non-integer value 0.4061009259810634.\n",
      "  RuntimeWarning)\n",
      "/Users/jackson.kontny/.pyenv/versions/anaconda3-5.0.1/lib/python3.6/site-packages/scipy/stats/_continuous_distns.py:2131: RuntimeWarning: The shape parameter of the erlang distribution has been given a non-integer value 0.40657773286138377.\n",
      "  RuntimeWarning)\n",
      "/Users/jackson.kontny/.pyenv/versions/anaconda3-5.0.1/lib/python3.6/site-packages/scipy/stats/_continuous_distns.py:2131: RuntimeWarning: The shape parameter of the erlang distribution has been given a non-integer value 0.40431204707207258.\n",
      "  RuntimeWarning)\n",
      "/Users/jackson.kontny/.pyenv/versions/anaconda3-5.0.1/lib/python3.6/site-packages/scipy/stats/_continuous_distns.py:2131: RuntimeWarning: The shape parameter of the erlang distribution has been given a non-integer value 0.40688782795514988.\n",
      "  RuntimeWarning)\n",
      "/Users/jackson.kontny/.pyenv/versions/anaconda3-5.0.1/lib/python3.6/site-packages/scipy/stats/_continuous_distns.py:2131: RuntimeWarning: The shape parameter of the erlang distribution has been given a non-integer value 0.40568746585604187.\n",
      "  RuntimeWarning)\n",
      "/Users/jackson.kontny/.pyenv/versions/anaconda3-5.0.1/lib/python3.6/site-packages/scipy/stats/_continuous_distns.py:2131: RuntimeWarning: The shape parameter of the erlang distribution has been given a non-integer value 0.40635516611004829.\n",
      "  RuntimeWarning)\n",
      "/Users/jackson.kontny/.pyenv/versions/anaconda3-5.0.1/lib/python3.6/site-packages/scipy/stats/_continuous_distns.py:2131: RuntimeWarning: The shape parameter of the erlang distribution has been given a non-integer value 0.40502226286554133.\n",
      "  RuntimeWarning)\n",
      "/Users/jackson.kontny/.pyenv/versions/anaconda3-5.0.1/lib/python3.6/site-packages/scipy/stats/_continuous_distns.py:2131: RuntimeWarning: The shape parameter of the erlang distribution has been given a non-integer value 0.40642143668274777.\n",
      "  RuntimeWarning)\n",
      "/Users/jackson.kontny/.pyenv/versions/anaconda3-5.0.1/lib/python3.6/site-packages/scipy/stats/_continuous_distns.py:2131: RuntimeWarning: The shape parameter of the erlang distribution has been given a non-integer value 0.40559910509244279.\n",
      "  RuntimeWarning)\n",
      "/Users/jackson.kontny/.pyenv/versions/anaconda3-5.0.1/lib/python3.6/site-packages/scipy/stats/_continuous_distns.py:2131: RuntimeWarning: The shape parameter of the erlang distribution has been given a non-integer value 0.40498461345953984.\n",
      "  RuntimeWarning)\n",
      "/Users/jackson.kontny/.pyenv/versions/anaconda3-5.0.1/lib/python3.6/site-packages/scipy/stats/_continuous_distns.py:2131: RuntimeWarning: The shape parameter of the erlang distribution has been given a non-integer value 0.40606223087694582.\n",
      "  RuntimeWarning)\n"
     ]
    },
    {
     "name": "stderr",
     "output_type": "stream",
     "text": [
      "/Users/jackson.kontny/.pyenv/versions/anaconda3-5.0.1/lib/python3.6/site-packages/scipy/stats/_continuous_distns.py:2131: RuntimeWarning: The shape parameter of the erlang distribution has been given a non-integer value 0.40655163308230713.\n",
      "  RuntimeWarning)\n",
      "/Users/jackson.kontny/.pyenv/versions/anaconda3-5.0.1/lib/python3.6/site-packages/scipy/stats/_continuous_distns.py:2131: RuntimeWarning: The shape parameter of the erlang distribution has been given a non-integer value 0.4056410652106518.\n",
      "  RuntimeWarning)\n",
      "/Users/jackson.kontny/.pyenv/versions/anaconda3-5.0.1/lib/python3.6/site-packages/scipy/stats/_continuous_distns.py:2131: RuntimeWarning: The shape parameter of the erlang distribution has been given a non-integer value 0.40554616768126517.\n",
      "  RuntimeWarning)\n",
      "/Users/jackson.kontny/.pyenv/versions/anaconda3-5.0.1/lib/python3.6/site-packages/scipy/stats/_continuous_distns.py:2131: RuntimeWarning: The shape parameter of the erlang distribution has been given a non-integer value 0.40593321507802566.\n",
      "  RuntimeWarning)\n",
      "/Users/jackson.kontny/.pyenv/versions/anaconda3-5.0.1/lib/python3.6/site-packages/scipy/stats/_continuous_distns.py:2131: RuntimeWarning: The shape parameter of the erlang distribution has been given a non-integer value 0.40616209992580854.\n",
      "  RuntimeWarning)\n",
      "/Users/jackson.kontny/.pyenv/versions/anaconda3-5.0.1/lib/python3.6/site-packages/scipy/stats/_continuous_distns.py:2131: RuntimeWarning: The shape parameter of the erlang distribution has been given a non-integer value 0.40577132388944098.\n",
      "  RuntimeWarning)\n",
      "/Users/jackson.kontny/.pyenv/versions/anaconda3-5.0.1/lib/python3.6/site-packages/scipy/stats/_continuous_distns.py:2131: RuntimeWarning: The shape parameter of the erlang distribution has been given a non-integer value 0.40576202259937816.\n",
      "  RuntimeWarning)\n",
      "/Users/jackson.kontny/.pyenv/versions/anaconda3-5.0.1/lib/python3.6/site-packages/scipy/stats/_continuous_distns.py:2131: RuntimeWarning: The shape parameter of the erlang distribution has been given a non-integer value 0.40589041695836381.\n",
      "  RuntimeWarning)\n",
      "/Users/jackson.kontny/.pyenv/versions/anaconda3-5.0.1/lib/python3.6/site-packages/scipy/stats/_continuous_distns.py:2131: RuntimeWarning: The shape parameter of the erlang distribution has been given a non-integer value 0.40600330916724464.\n",
      "  RuntimeWarning)\n",
      "/Users/jackson.kontny/.pyenv/versions/anaconda3-5.0.1/lib/python3.6/site-packages/scipy/stats/_continuous_distns.py:2131: RuntimeWarning: The shape parameter of the erlang distribution has been given a non-integer value 0.4058293202088919.\n",
      "  RuntimeWarning)\n",
      "/Users/jackson.kontny/.pyenv/versions/anaconda3-5.0.1/lib/python3.6/site-packages/scipy/stats/_continuous_distns.py:2131: RuntimeWarning: The shape parameter of the erlang distribution has been given a non-integer value 0.40584348493200728.\n",
      "  RuntimeWarning)\n",
      "/Users/jackson.kontny/.pyenv/versions/anaconda3-5.0.1/lib/python3.6/site-packages/scipy/stats/_continuous_distns.py:2131: RuntimeWarning: The shape parameter of the erlang distribution has been given a non-integer value 0.40587868395177468.\n",
      "  RuntimeWarning)\n",
      "/Users/jackson.kontny/.pyenv/versions/anaconda3-5.0.1/lib/python3.6/site-packages/scipy/stats/_continuous_distns.py:2131: RuntimeWarning: The shape parameter of the erlang distribution has been given a non-integer value 0.40593749084340108.\n",
      "  RuntimeWarning)\n",
      "/Users/jackson.kontny/.pyenv/versions/anaconda3-5.0.1/lib/python3.6/site-packages/scipy/stats/_continuous_distns.py:2131: RuntimeWarning: The shape parameter of the erlang distribution has been given a non-integer value 0.40585636286751919.\n",
      "  RuntimeWarning)\n",
      "/Users/jackson.kontny/.pyenv/versions/anaconda3-5.0.1/lib/python3.6/site-packages/scipy/stats/_continuous_distns.py:2131: RuntimeWarning: The shape parameter of the erlang distribution has been given a non-integer value 0.40587324637768124.\n",
      "  RuntimeWarning)\n",
      "/Users/jackson.kontny/.pyenv/versions/anaconda3-5.0.1/lib/python3.6/site-packages/scipy/stats/_continuous_distns.py:2131: RuntimeWarning: The shape parameter of the erlang distribution has been given a non-integer value 0.40587732455825132.\n",
      "  RuntimeWarning)\n",
      "/Users/jackson.kontny/.pyenv/versions/anaconda3-5.0.1/lib/python3.6/site-packages/scipy/stats/_continuous_distns.py:2131: RuntimeWarning: The shape parameter of the erlang distribution has been given a non-integer value 0.40590954192242484.\n",
      "  RuntimeWarning)\n",
      "/Users/jackson.kontny/.pyenv/versions/anaconda3-5.0.1/lib/python3.6/site-packages/scipy/stats/_continuous_distns.py:2131: RuntimeWarning: The shape parameter of the erlang distribution has been given a non-integer value 0.40586965763124561.\n",
      "  RuntimeWarning)\n",
      "/Users/jackson.kontny/.pyenv/versions/anaconda3-5.0.1/lib/python3.6/site-packages/scipy/stats/_continuous_distns.py:2131: RuntimeWarning: The shape parameter of the erlang distribution has been given a non-integer value 0.40588346894702221.\n",
      "  RuntimeWarning)\n",
      "/Users/jackson.kontny/.pyenv/versions/anaconda3-5.0.1/lib/python3.6/site-packages/scipy/stats/_continuous_distns.py:2131: RuntimeWarning: The shape parameter of the erlang distribution has been given a non-integer value 0.40587886065544404.\n",
      "  RuntimeWarning)\n",
      "/Users/jackson.kontny/.pyenv/versions/anaconda3-5.0.1/lib/python3.6/site-packages/scipy/stats/_continuous_distns.py:2131: RuntimeWarning: The shape parameter of the erlang distribution has been given a non-integer value 0.40589727122349362.\n",
      "  RuntimeWarning)\n",
      "/Users/jackson.kontny/.pyenv/versions/anaconda3-5.0.1/lib/python3.6/site-packages/scipy/stats/_continuous_distns.py:2131: RuntimeWarning: The shape parameter of the erlang distribution has been given a non-integer value 0.40587656102930758.\n",
      "  RuntimeWarning)\n",
      "/Users/jackson.kontny/.pyenv/versions/anaconda3-5.0.1/lib/python3.6/site-packages/scipy/stats/_continuous_distns.py:2131: RuntimeWarning: The shape parameter of the erlang distribution has been given a non-integer value 0.40588653511520417.\n",
      "  RuntimeWarning)\n",
      "/Users/jackson.kontny/.pyenv/versions/anaconda3-5.0.1/lib/python3.6/site-packages/scipy/stats/_continuous_distns.py:2131: RuntimeWarning: The shape parameter of the erlang distribution has been given a non-integer value 0.40589037234508429.\n",
      "  RuntimeWarning)\n",
      "/Users/jackson.kontny/.pyenv/versions/anaconda3-5.0.1/lib/python3.6/site-packages/scipy/stats/_continuous_distns.py:2131: RuntimeWarning: The shape parameter of the erlang distribution has been given a non-integer value 0.40589548413193854.\n",
      "  RuntimeWarning)\n",
      "/Users/jackson.kontny/.pyenv/versions/anaconda3-5.0.1/lib/python3.6/site-packages/scipy/stats/_continuous_distns.py:2131: RuntimeWarning: The shape parameter of the erlang distribution has been given a non-integer value 0.40588129180496535.\n",
      "  RuntimeWarning)\n",
      "/Users/jackson.kontny/.pyenv/versions/anaconda3-5.0.1/lib/python3.6/site-packages/scipy/stats/_continuous_distns.py:2131: RuntimeWarning: The shape parameter of the erlang distribution has been given a non-integer value 0.40636106454381826.\n",
      "  RuntimeWarning)\n",
      "/Users/jackson.kontny/.pyenv/versions/anaconda3-5.0.1/lib/python3.6/site-packages/scipy/stats/_continuous_distns.py:2131: RuntimeWarning: The shape parameter of the erlang distribution has been given a non-integer value 0.40578959495528666.\n",
      "  RuntimeWarning)\n",
      "/Users/jackson.kontny/.pyenv/versions/anaconda3-5.0.1/lib/python3.6/site-packages/scipy/stats/_continuous_distns.py:2131: RuntimeWarning: The shape parameter of the erlang distribution has been given a non-integer value 0.40601774659817658.\n",
      "  RuntimeWarning)\n",
      "/Users/jackson.kontny/.pyenv/versions/anaconda3-5.0.1/lib/python3.6/site-packages/scipy/stats/_continuous_distns.py:2131: RuntimeWarning: The shape parameter of the erlang distribution has been given a non-integer value 0.40591540550326816.\n",
      "  RuntimeWarning)\n",
      "/Users/jackson.kontny/.pyenv/versions/anaconda3-5.0.1/lib/python3.6/site-packages/scipy/stats/_continuous_distns.py:2131: RuntimeWarning: The shape parameter of the erlang distribution has been given a non-integer value 0.40619331714650964.\n",
      "  RuntimeWarning)\n",
      "/Users/jackson.kontny/.pyenv/versions/anaconda3-5.0.1/lib/python3.6/site-packages/scipy/stats/_continuous_distns.py:2131: RuntimeWarning: The shape parameter of the erlang distribution has been given a non-integer value 0.4058905255030924.\n",
      "  RuntimeWarning)\n",
      "/Users/jackson.kontny/.pyenv/versions/anaconda3-5.0.1/lib/python3.6/site-packages/scipy/stats/_continuous_distns.py:2131: RuntimeWarning: The shape parameter of the erlang distribution has been given a non-integer value 0.40605091993174419.\n",
      "  RuntimeWarning)\n",
      "/Users/jackson.kontny/.pyenv/versions/anaconda3-5.0.1/lib/python3.6/site-packages/scipy/stats/_continuous_distns.py:2131: RuntimeWarning: The shape parameter of the erlang distribution has been given a non-integer value 0.40594928411038717.\n",
      "  RuntimeWarning)\n",
      "/Users/jackson.kontny/.pyenv/versions/anaconda3-5.0.1/lib/python3.6/site-packages/scipy/stats/_continuous_distns.py:2131: RuntimeWarning: The shape parameter of the erlang distribution has been given a non-integer value 0.40611497233678323.\n",
      "  RuntimeWarning)\n"
     ]
    },
    {
     "name": "stderr",
     "output_type": "stream",
     "text": [
      "/Users/jackson.kontny/.pyenv/versions/anaconda3-5.0.1/lib/python3.6/site-packages/scipy/stats/_continuous_distns.py:2131: RuntimeWarning: The shape parameter of the erlang distribution has been given a non-integer value 0.40594663721151514.\n",
      "  RuntimeWarning)\n",
      "/Users/jackson.kontny/.pyenv/versions/anaconda3-5.0.1/lib/python3.6/site-packages/scipy/stats/_continuous_distns.py:2131: RuntimeWarning: The shape parameter of the erlang distribution has been given a non-integer value 0.40605444913024041.\n",
      "  RuntimeWarning)\n",
      "/Users/jackson.kontny/.pyenv/versions/anaconda3-5.0.1/lib/python3.6/site-packages/scipy/stats/_continuous_distns.py:2131: RuntimeWarning: The shape parameter of the erlang distribution has been given a non-integer value 0.40597557536535045.\n",
      "  RuntimeWarning)\n",
      "/Users/jackson.kontny/.pyenv/versions/anaconda3-5.0.1/lib/python3.6/site-packages/scipy/stats/_continuous_distns.py:2131: RuntimeWarning: The shape parameter of the erlang distribution has been given a non-integer value 0.40607638813166924.\n",
      "  RuntimeWarning)\n",
      "/Users/jackson.kontny/.pyenv/versions/anaconda3-5.0.1/lib/python3.6/site-packages/scipy/stats/_continuous_distns.py:2131: RuntimeWarning: The shape parameter of the erlang distribution has been given a non-integer value 0.40597907494155366.\n",
      "  RuntimeWarning)\n",
      "/Users/jackson.kontny/.pyenv/versions/anaconda3-5.0.1/lib/python3.6/site-packages/scipy/stats/_continuous_distns.py:2131: RuntimeWarning: The shape parameter of the erlang distribution has been given a non-integer value 0.40604978302863615.\n",
      "  RuntimeWarning)\n",
      "/Users/jackson.kontny/.pyenv/versions/anaconda3-5.0.1/lib/python3.6/site-packages/scipy/stats/_continuous_distns.py:2131: RuntimeWarning: The shape parameter of the erlang distribution has been given a non-integer value 0.4059941272811719.\n",
      "  RuntimeWarning)\n",
      "/Users/jackson.kontny/.pyenv/versions/anaconda3-5.0.1/lib/python3.6/site-packages/scipy/stats/_continuous_distns.py:2131: RuntimeWarning: The shape parameter of the erlang distribution has been given a non-integer value 0.40605631834551176.\n",
      "  RuntimeWarning)\n",
      "/Users/jackson.kontny/.pyenv/versions/anaconda3-5.0.1/lib/python3.6/site-packages/scipy/stats/_continuous_distns.py:2131: RuntimeWarning: The shape parameter of the erlang distribution has been given a non-integer value 0.40599838579254321.\n",
      "  RuntimeWarning)\n",
      "/Users/jackson.kontny/.pyenv/versions/anaconda3-5.0.1/lib/python3.6/site-packages/scipy/stats/_continuous_distns.py:2131: RuntimeWarning: The shape parameter of the erlang distribution has been given a non-integer value 0.40604410501347443.\n",
      "  RuntimeWarning)\n",
      "/Users/jackson.kontny/.pyenv/versions/anaconda3-5.0.1/lib/python3.6/site-packages/scipy/stats/_continuous_distns.py:2131: RuntimeWarning: The shape parameter of the erlang distribution has been given a non-integer value 0.40600662171424751.\n",
      "  RuntimeWarning)\n",
      "/Users/jackson.kontny/.pyenv/versions/anaconda3-5.0.1/lib/python3.6/site-packages/scipy/stats/_continuous_distns.py:2131: RuntimeWarning: The shape parameter of the erlang distribution has been given a non-integer value 0.40604533711657254.\n",
      "  RuntimeWarning)\n",
      "/Users/jackson.kontny/.pyenv/versions/anaconda3-5.0.1/lib/python3.6/site-packages/scipy/stats/_continuous_distns.py:2131: RuntimeWarning: The shape parameter of the erlang distribution has been given a non-integer value 0.40601012362355055.\n",
      "  RuntimeWarning)\n",
      "/Users/jackson.kontny/.pyenv/versions/anaconda3-5.0.1/lib/python3.6/site-packages/scipy/stats/_continuous_distns.py:2131: RuntimeWarning: The shape parameter of the erlang distribution has been given a non-integer value 0.40603943580107038.\n",
      "  RuntimeWarning)\n",
      "/Users/jackson.kontny/.pyenv/versions/anaconda3-5.0.1/lib/python3.6/site-packages/scipy/stats/_continuous_distns.py:2131: RuntimeWarning: The shape parameter of the erlang distribution has been given a non-integer value 0.40601482523595323.\n",
      "  RuntimeWarning)\n",
      "/Users/jackson.kontny/.pyenv/versions/anaconda3-5.0.1/lib/python3.6/site-packages/scipy/stats/_continuous_distns.py:2131: RuntimeWarning: The shape parameter of the erlang distribution has been given a non-integer value 0.40603906830003583.\n",
      "  RuntimeWarning)\n",
      "/Users/jackson.kontny/.pyenv/versions/anaconda3-5.0.1/lib/python3.6/site-packages/scipy/stats/_continuous_distns.py:2131: RuntimeWarning: The shape parameter of the erlang distribution has been given a non-integer value 0.40601735979267184.\n",
      "  RuntimeWarning)\n",
      "/Users/jackson.kontny/.pyenv/versions/anaconda3-5.0.1/lib/python3.6/site-packages/scipy/stats/_continuous_distns.py:2131: RuntimeWarning: The shape parameter of the erlang distribution has been given a non-integer value 0.40603605639211215.\n",
      "  RuntimeWarning)\n",
      "/Users/jackson.kontny/.pyenv/versions/anaconda3-5.0.1/lib/python3.6/site-packages/scipy/stats/_continuous_distns.py:2131: RuntimeWarning: The shape parameter of the erlang distribution has been given a non-integer value 0.40604667197019162.\n",
      "  RuntimeWarning)\n",
      "/Users/jackson.kontny/.pyenv/versions/anaconda3-5.0.1/lib/python3.6/site-packages/scipy/stats/_continuous_distns.py:2131: RuntimeWarning: The shape parameter of the erlang distribution has been given a non-integer value 0.40604598623502031.\n",
      "  RuntimeWarning)\n",
      "/Users/jackson.kontny/.pyenv/versions/anaconda3-5.0.1/lib/python3.6/site-packages/scipy/stats/_continuous_distns.py:2131: RuntimeWarning: The shape parameter of the erlang distribution has been given a non-integer value 0.40602451640325898.\n",
      "  RuntimeWarning)\n",
      "/Users/jackson.kontny/.pyenv/versions/anaconda3-5.0.1/lib/python3.6/site-packages/scipy/stats/_continuous_distns.py:2131: RuntimeWarning: The shape parameter of the erlang distribution has been given a non-integer value 0.40603882962443316.\n",
      "  RuntimeWarning)\n",
      "/Users/jackson.kontny/.pyenv/versions/anaconda3-5.0.1/lib/python3.6/site-packages/scipy/stats/_continuous_distns.py:2131: RuntimeWarning: The shape parameter of the erlang distribution has been given a non-integer value 0.4060280947085525.\n",
      "  RuntimeWarning)\n",
      "/Users/jackson.kontny/.pyenv/versions/anaconda3-5.0.1/lib/python3.6/site-packages/scipy/stats/_continuous_distns.py:2131: RuntimeWarning: The shape parameter of the erlang distribution has been given a non-integer value 0.40579469660969042.\n",
      "  RuntimeWarning)\n",
      "/Users/jackson.kontny/.pyenv/versions/anaconda3-5.0.1/lib/python3.6/site-packages/scipy/stats/_continuous_distns.py:2131: RuntimeWarning: The shape parameter of the erlang distribution has been given a non-integer value 0.40578343070278522.\n",
      "  RuntimeWarning)\n",
      "/Users/jackson.kontny/.pyenv/versions/anaconda3-5.0.1/lib/python3.6/site-packages/scipy/stats/_continuous_distns.py:2131: RuntimeWarning: The shape parameter of the erlang distribution has been given a non-integer value 0.40596692870711071.\n",
      "  RuntimeWarning)\n",
      "/Users/jackson.kontny/.pyenv/versions/anaconda3-5.0.1/lib/python3.6/site-packages/scipy/stats/_continuous_distns.py:2131: RuntimeWarning: The shape parameter of the erlang distribution has been given a non-integer value 0.40597858602407139.\n",
      "  RuntimeWarning)\n",
      "/Users/jackson.kontny/.pyenv/versions/anaconda3-5.0.1/lib/python3.6/site-packages/scipy/stats/_continuous_distns.py:2131: RuntimeWarning: The shape parameter of the erlang distribution has been given a non-integer value 0.40590954784242095.\n",
      "  RuntimeWarning)\n",
      "/Users/jackson.kontny/.pyenv/versions/anaconda3-5.0.1/lib/python3.6/site-packages/scipy/stats/_continuous_distns.py:2131: RuntimeWarning: The shape parameter of the erlang distribution has been given a non-integer value 0.40585993852237157.\n",
      "  RuntimeWarning)\n",
      "/Users/jackson.kontny/.pyenv/versions/anaconda3-5.0.1/lib/python3.6/site-packages/scipy/stats/_continuous_distns.py:2131: RuntimeWarning: The shape parameter of the erlang distribution has been given a non-integer value 0.40594018116092589.\n",
      "  RuntimeWarning)\n",
      "/Users/jackson.kontny/.pyenv/versions/anaconda3-5.0.1/lib/python3.6/site-packages/scipy/stats/_continuous_distns.py:2131: RuntimeWarning: The shape parameter of the erlang distribution has been given a non-integer value 0.40593774159939788.\n",
      "  RuntimeWarning)\n",
      "/Users/jackson.kontny/.pyenv/versions/anaconda3-5.0.1/lib/python3.6/site-packages/scipy/stats/_continuous_distns.py:2131: RuntimeWarning: The shape parameter of the erlang distribution has been given a non-integer value 0.40591659628166521.\n",
      "  RuntimeWarning)\n",
      "/Users/jackson.kontny/.pyenv/versions/anaconda3-5.0.1/lib/python3.6/site-packages/scipy/stats/_continuous_distns.py:2131: RuntimeWarning: The shape parameter of the erlang distribution has been given a non-integer value 0.40589138502805255.\n",
      "  RuntimeWarning)\n",
      "/Users/jackson.kontny/.pyenv/versions/anaconda3-5.0.1/lib/python3.6/site-packages/scipy/stats/_continuous_distns.py:2131: RuntimeWarning: The shape parameter of the erlang distribution has been given a non-integer value 0.40592798212770753.\n",
      "  RuntimeWarning)\n",
      "/Users/jackson.kontny/.pyenv/versions/anaconda3-5.0.1/lib/python3.6/site-packages/scipy/stats/_continuous_distns.py:2131: RuntimeWarning: The shape parameter of the erlang distribution has been given a non-integer value 0.40592256047134145.\n",
      "  RuntimeWarning)\n",
      "/Users/jackson.kontny/.pyenv/versions/anaconda3-5.0.1/lib/python3.6/site-packages/scipy/stats/_continuous_distns.py:2131: RuntimeWarning: The shape parameter of the erlang distribution has been given a non-integer value 0.4059180873290843.\n",
      "  RuntimeWarning)\n",
      "/Users/jackson.kontny/.pyenv/versions/anaconda3-5.0.1/lib/python3.6/site-packages/scipy/stats/_continuous_distns.py:2131: RuntimeWarning: The shape parameter of the erlang distribution has been given a non-integer value 0.40590457809288372.\n",
      "  RuntimeWarning)\n",
      "/Users/jackson.kontny/.pyenv/versions/anaconda3-5.0.1/lib/python3.6/site-packages/scipy/stats/_continuous_distns.py:2131: RuntimeWarning: The shape parameter of the erlang distribution has been given a non-integer value 0.40592213111900155.\n",
      "  RuntimeWarning)\n",
      "/Users/jackson.kontny/.pyenv/versions/anaconda3-5.0.1/lib/python3.6/site-packages/scipy/stats/_continuous_distns.py:2131: RuntimeWarning: The shape parameter of the erlang distribution has been given a non-integer value 0.40591716875145178.\n",
      "  RuntimeWarning)\n",
      "/Users/jackson.kontny/.pyenv/versions/anaconda3-5.0.1/lib/python3.6/site-packages/scipy/stats/_continuous_distns.py:2131: RuntimeWarning: The shape parameter of the erlang distribution has been given a non-integer value 0.40591785768467614.\n",
      "  RuntimeWarning)\n"
     ]
    },
    {
     "name": "stderr",
     "output_type": "stream",
     "text": [
      "/Users/jackson.kontny/.pyenv/versions/anaconda3-5.0.1/lib/python3.6/site-packages/scipy/stats/_continuous_distns.py:2131: RuntimeWarning: The shape parameter of the erlang distribution has been given a non-integer value 0.40591027600531748.\n",
      "  RuntimeWarning)\n",
      "/Users/jackson.kontny/.pyenv/versions/anaconda3-5.0.1/lib/python3.6/site-packages/scipy/stats/_continuous_distns.py:2131: RuntimeWarning: The shape parameter of the erlang distribution has been given a non-integer value 0.40591916734058053.\n",
      "  RuntimeWarning)\n",
      "/Users/jackson.kontny/.pyenv/versions/anaconda3-5.0.1/lib/python3.6/site-packages/scipy/stats/_continuous_distns.py:2131: RuntimeWarning: The shape parameter of the erlang distribution has been given a non-integer value 0.40591542254357926.\n",
      "  RuntimeWarning)\n",
      "/Users/jackson.kontny/.pyenv/versions/anaconda3-5.0.1/lib/python3.6/site-packages/scipy/stats/_continuous_distns.py:2131: RuntimeWarning: The shape parameter of the erlang distribution has been given a non-integer value 0.40591420497303088.\n",
      "  RuntimeWarning)\n",
      "/Users/jackson.kontny/.pyenv/versions/anaconda3-5.0.1/lib/python3.6/site-packages/scipy/stats/_continuous_distns.py:2131: RuntimeWarning: The shape parameter of the erlang distribution has been given a non-integer value 0.40591161635634065.\n",
      "  RuntimeWarning)\n",
      "/Users/jackson.kontny/.pyenv/versions/anaconda3-5.0.1/lib/python3.6/site-packages/scipy/stats/_continuous_distns.py:2131: RuntimeWarning: The shape parameter of the erlang distribution has been given a non-integer value 0.40591727959452056.\n",
      "  RuntimeWarning)\n",
      "/Users/jackson.kontny/.pyenv/versions/anaconda3-5.0.1/lib/python3.6/site-packages/scipy/stats/_continuous_distns.py:2131: RuntimeWarning: The shape parameter of the erlang distribution has been given a non-integer value 0.40591350410240062.\n",
      "  RuntimeWarning)\n",
      "/Users/jackson.kontny/.pyenv/versions/anaconda3-5.0.1/lib/python3.6/site-packages/scipy/stats/_continuous_distns.py:2131: RuntimeWarning: The shape parameter of the erlang distribution has been given a non-integer value 0.40591633572149055.\n",
      "  RuntimeWarning)\n",
      "/Users/jackson.kontny/.pyenv/versions/anaconda3-5.0.1/lib/python3.6/site-packages/scipy/stats/_continuous_distns.py:2131: RuntimeWarning: The shape parameter of the erlang distribution has been given a non-integer value 0.40591444797543064.\n",
      "  RuntimeWarning)\n",
      "/Users/jackson.kontny/.pyenv/versions/anaconda3-5.0.1/lib/python3.6/site-packages/scipy/stats/_continuous_distns.py:2131: RuntimeWarning: The shape parameter of the erlang distribution has been given a non-integer value 0.40611592133105762.\n",
      "  RuntimeWarning)\n",
      "/Users/jackson.kontny/.pyenv/versions/anaconda3-5.0.1/lib/python3.6/site-packages/scipy/stats/_continuous_distns.py:2131: RuntimeWarning: The shape parameter of the erlang distribution has been given a non-integer value 0.40587500279003219.\n",
      "  RuntimeWarning)\n",
      "/Users/jackson.kontny/.pyenv/versions/anaconda3-5.0.1/lib/python3.6/site-packages/scipy/stats/_continuous_distns.py:2131: RuntimeWarning: The shape parameter of the erlang distribution has been given a non-integer value 0.40576719248058257.\n",
      "  RuntimeWarning)\n",
      "/Users/jackson.kontny/.pyenv/versions/anaconda3-5.0.1/lib/python3.6/site-packages/scipy/stats/_continuous_distns.py:2131: RuntimeWarning: The shape parameter of the erlang distribution has been given a non-integer value 0.40596884041422976.\n",
      "  RuntimeWarning)\n",
      "/Users/jackson.kontny/.pyenv/versions/anaconda3-5.0.1/lib/python3.6/site-packages/scipy/stats/_continuous_distns.py:2131: RuntimeWarning: The shape parameter of the erlang distribution has been given a non-integer value 0.40599080449879421.\n",
      "  RuntimeWarning)\n",
      "/Users/jackson.kontny/.pyenv/versions/anaconda3-5.0.1/lib/python3.6/site-packages/scipy/stats/_continuous_distns.py:2131: RuntimeWarning: The shape parameter of the erlang distribution has been given a non-integer value 0.40590395321722272.\n",
      "  RuntimeWarning)\n",
      "/Users/jackson.kontny/.pyenv/versions/anaconda3-5.0.1/lib/python3.6/site-packages/scipy/stats/_continuous_distns.py:2131: RuntimeWarning: The shape parameter of the erlang distribution has been given a non-integer value 0.40585370874325855.\n",
      "  RuntimeWarning)\n",
      "/Users/jackson.kontny/.pyenv/versions/anaconda3-5.0.1/lib/python3.6/site-packages/scipy/stats/_continuous_distns.py:2131: RuntimeWarning: The shape parameter of the erlang distribution has been given a non-integer value 0.40594005749648698.\n",
      "  RuntimeWarning)\n",
      "/Users/jackson.kontny/.pyenv/versions/anaconda3-5.0.1/lib/python3.6/site-packages/scipy/stats/_continuous_distns.py:2131: RuntimeWarning: The shape parameter of the erlang distribution has been given a non-integer value 0.40594266545977531.\n",
      "  RuntimeWarning)\n",
      "/Users/jackson.kontny/.pyenv/versions/anaconda3-5.0.1/lib/python3.6/site-packages/scipy/stats/_continuous_distns.py:2131: RuntimeWarning: The shape parameter of the erlang distribution has been given a non-integer value 0.40591363127786084.\n",
      "  RuntimeWarning)\n",
      "/Users/jackson.kontny/.pyenv/versions/anaconda3-5.0.1/lib/python3.6/site-packages/scipy/stats/_continuous_distns.py:2131: RuntimeWarning: The shape parameter of the erlang distribution has been given a non-integer value 0.40588894370142681.\n",
      "  RuntimeWarning)\n",
      "/Users/jackson.kontny/.pyenv/versions/anaconda3-5.0.1/lib/python3.6/site-packages/scipy/stats/_continuous_distns.py:2131: RuntimeWarning: The shape parameter of the erlang distribution has been given a non-integer value 0.40592727904772197.\n",
      "  RuntimeWarning)\n",
      "/Users/jackson.kontny/.pyenv/versions/anaconda3-5.0.1/lib/python3.6/site-packages/scipy/stats/_continuous_distns.py:2131: RuntimeWarning: The shape parameter of the erlang distribution has been given a non-integer value 0.40592446843329377.\n",
      "  RuntimeWarning)\n",
      "/Users/jackson.kontny/.pyenv/versions/anaconda3-5.0.1/lib/python3.6/site-packages/scipy/stats/_continuous_distns.py:2131: RuntimeWarning: The shape parameter of the erlang distribution has been given a non-integer value 0.40592988701101018.\n",
      "  RuntimeWarning)\n",
      "/Users/jackson.kontny/.pyenv/versions/anaconda3-5.0.1/lib/python3.6/site-packages/scipy/stats/_continuous_distns.py:2131: RuntimeWarning: The shape parameter of the erlang distribution has been given a non-integer value 0.40590894692048052.\n",
      "  RuntimeWarning)\n",
      "/Users/jackson.kontny/.pyenv/versions/anaconda3-5.0.1/lib/python3.6/site-packages/scipy/stats/_continuous_distns.py:2131: RuntimeWarning: The shape parameter of the erlang distribution has been given a non-integer value 0.40592269601591158.\n",
      "  RuntimeWarning)\n",
      "/Users/jackson.kontny/.pyenv/versions/anaconda3-5.0.1/lib/python3.6/site-packages/scipy/stats/_continuous_distns.py:2131: RuntimeWarning: The shape parameter of the erlang distribution has been given a non-integer value 0.40591352995229091.\n",
      "  RuntimeWarning)\n",
      "/Users/jackson.kontny/.pyenv/versions/anaconda3-5.0.1/lib/python3.6/site-packages/scipy/stats/_continuous_distns.py:2131: RuntimeWarning: The shape parameter of the erlang distribution has been given a non-integer value 0.40592040450000644.\n",
      "  RuntimeWarning)\n",
      "/Users/jackson.kontny/.pyenv/versions/anaconda3-5.0.1/lib/python3.6/site-packages/scipy/stats/_continuous_distns.py:2131: RuntimeWarning: The shape parameter of the erlang distribution has been given a non-integer value 0.40592574900915579.\n",
      "  RuntimeWarning)\n",
      "/Users/jackson.kontny/.pyenv/versions/anaconda3-5.0.1/lib/python3.6/site-packages/scipy/stats/_continuous_distns.py:2131: RuntimeWarning: The shape parameter of the erlang distribution has been given a non-integer value 0.40591727323386195.\n",
      "  RuntimeWarning)\n",
      "/Users/jackson.kontny/.pyenv/versions/anaconda3-5.0.1/lib/python3.6/site-packages/scipy/stats/_continuous_distns.py:2131: RuntimeWarning: The shape parameter of the erlang distribution has been given a non-integer value 0.40591770497381685.\n",
      "  RuntimeWarning)\n",
      "/Users/jackson.kontny/.pyenv/versions/anaconda3-5.0.1/lib/python3.6/site-packages/scipy/stats/_continuous_distns.py:2131: RuntimeWarning: The shape parameter of the erlang distribution has been given a non-integer value 0.40591635521072211.\n",
      "  RuntimeWarning)\n",
      "/Users/jackson.kontny/.pyenv/versions/anaconda3-5.0.1/lib/python3.6/site-packages/scipy/stats/_continuous_distns.py:2131: RuntimeWarning: The shape parameter of the erlang distribution has been given a non-integer value 0.40592112406659797.\n",
      "  RuntimeWarning)\n",
      "/Users/jackson.kontny/.pyenv/versions/anaconda3-5.0.1/lib/python3.6/site-packages/scipy/stats/_continuous_distns.py:2131: RuntimeWarning: The shape parameter of the erlang distribution has been given a non-integer value 0.40591823594204596.\n",
      "  RuntimeWarning)\n",
      "/Users/jackson.kontny/.pyenv/versions/anaconda3-5.0.1/lib/python3.6/site-packages/scipy/stats/_continuous_distns.py:2131: RuntimeWarning: The shape parameter of the erlang distribution has been given a non-integer value 0.40592016135841397.\n",
      "  RuntimeWarning)\n",
      "/Users/jackson.kontny/.pyenv/versions/anaconda3-5.0.1/lib/python3.6/site-packages/scipy/stats/_continuous_distns.py:2131: RuntimeWarning: The shape parameter of the erlang distribution has been given a non-integer value 0.40591871729613793.\n",
      "  RuntimeWarning)\n",
      "/Users/jackson.kontny/.pyenv/versions/anaconda3-5.0.1/lib/python3.6/site-packages/scipy/stats/_continuous_distns.py:2131: RuntimeWarning: The shape parameter of the erlang distribution has been given a non-integer value 0.40592108670355531.\n",
      "  RuntimeWarning)\n",
      "/Users/jackson.kontny/.pyenv/versions/anaconda3-5.0.1/lib/python3.6/site-packages/scipy/stats/_continuous_distns.py:2131: RuntimeWarning: The shape parameter of the erlang distribution has been given a non-integer value 0.40591656375869806.\n",
      "  RuntimeWarning)\n",
      "/Users/jackson.kontny/.pyenv/versions/anaconda3-5.0.1/lib/python3.6/site-packages/scipy/stats/_continuous_distns.py:2131: RuntimeWarning: The shape parameter of the erlang distribution has been given a non-integer value 0.40591797045793143.\n",
      "  RuntimeWarning)\n",
      "/Users/jackson.kontny/.pyenv/versions/anaconda3-5.0.1/lib/python3.6/site-packages/scipy/stats/_continuous_distns.py:2131: RuntimeWarning: The shape parameter of the erlang distribution has been given a non-integer value 0.40591893316611538.\n",
      "  RuntimeWarning)\n",
      "/Users/jackson.kontny/.pyenv/versions/anaconda3-5.0.1/lib/python3.6/site-packages/scipy/stats/_continuous_distns.py:2131: RuntimeWarning: The shape parameter of the erlang distribution has been given a non-integer value 0.40591821113497739.\n",
      "  RuntimeWarning)\n",
      "/Users/jackson.kontny/.pyenv/versions/anaconda3-5.0.1/lib/python3.6/site-packages/scipy/stats/_continuous_distns.py:2131: RuntimeWarning: The shape parameter of the erlang distribution has been given a non-integer value 0.40591939583868608.\n",
      "  RuntimeWarning)\n"
     ]
    },
    {
     "name": "stderr",
     "output_type": "stream",
     "text": [
      "/Users/jackson.kontny/.pyenv/versions/anaconda3-5.0.1/lib/python3.6/site-packages/scipy/stats/_continuous_distns.py:2131: RuntimeWarning: The shape parameter of the erlang distribution has been given a non-integer value 0.40591713436625743.\n",
      "  RuntimeWarning)\n",
      "/Users/jackson.kontny/.pyenv/versions/anaconda3-5.0.1/lib/python3.6/site-packages/scipy/stats/_continuous_distns.py:2131: RuntimeWarning: The shape parameter of the erlang distribution has been given a non-integer value 0.40591783771587414.\n",
      "  RuntimeWarning)\n",
      "/Users/jackson.kontny/.pyenv/versions/anaconda3-5.0.1/lib/python3.6/site-packages/scipy/stats/_continuous_distns.py:2131: RuntimeWarning: The shape parameter of the erlang distribution has been given a non-integer value 0.40591831906996606.\n",
      "  RuntimeWarning)\n",
      "/Users/jackson.kontny/.pyenv/versions/anaconda3-5.0.1/lib/python3.6/site-packages/scipy/stats/_continuous_distns.py:2131: RuntimeWarning: The shape parameter of the erlang distribution has been given a non-integer value 0.40591795805439712.\n",
      "  RuntimeWarning)\n",
      "/Users/jackson.kontny/.pyenv/versions/anaconda3-5.0.1/lib/python3.6/site-packages/scipy/stats/_continuous_distns.py:2131: RuntimeWarning: The shape parameter of the erlang distribution has been given a non-integer value 0.40591855040625147.\n",
      "  RuntimeWarning)\n",
      "/Users/jackson.kontny/.pyenv/versions/anaconda3-5.0.1/lib/python3.6/site-packages/scipy/stats/_continuous_distns.py:2131: RuntimeWarning: The shape parameter of the erlang distribution has been given a non-integer value 0.40591741967003714.\n",
      "  RuntimeWarning)\n",
      "/Users/jackson.kontny/.pyenv/versions/anaconda3-5.0.1/lib/python3.6/site-packages/scipy/stats/_continuous_distns.py:2131: RuntimeWarning: The shape parameter of the erlang distribution has been given a non-integer value 0.40591777134484552.\n",
      "  RuntimeWarning)\n",
      "/Users/jackson.kontny/.pyenv/versions/anaconda3-5.0.1/lib/python3.6/site-packages/scipy/stats/_continuous_distns.py:2131: RuntimeWarning: The shape parameter of the erlang distribution has been given a non-integer value 0.40591801202189148.\n",
      "  RuntimeWarning)\n",
      "/Users/jackson.kontny/.pyenv/versions/anaconda3-5.0.1/lib/python3.6/site-packages/scipy/stats/_continuous_distns.py:2131: RuntimeWarning: The shape parameter of the erlang distribution has been given a non-integer value 0.40591783151410699.\n",
      "  RuntimeWarning)\n",
      "/Users/jackson.kontny/.pyenv/versions/anaconda3-5.0.1/lib/python3.6/site-packages/scipy/stats/_continuous_distns.py:2131: RuntimeWarning: The shape parameter of the erlang distribution has been given a non-integer value 0.40591812769003416.\n",
      "  RuntimeWarning)\n",
      "/Users/jackson.kontny/.pyenv/versions/anaconda3-5.0.1/lib/python3.6/site-packages/scipy/stats/_continuous_distns.py:2131: RuntimeWarning: The shape parameter of the erlang distribution has been given a non-integer value 0.40591756232192699.\n",
      "  RuntimeWarning)\n",
      "/Users/jackson.kontny/.pyenv/versions/anaconda3-5.0.1/lib/python3.6/site-packages/scipy/stats/_continuous_distns.py:2131: RuntimeWarning: The shape parameter of the erlang distribution has been given a non-integer value 0.40591773815933119.\n",
      "  RuntimeWarning)\n",
      "/Users/jackson.kontny/.pyenv/versions/anaconda3-5.0.1/lib/python3.6/site-packages/scipy/stats/_continuous_distns.py:2131: RuntimeWarning: The shape parameter of the erlang distribution has been given a non-integer value 0.40591785849785411.\n",
      "  RuntimeWarning)\n",
      "/Users/jackson.kontny/.pyenv/versions/anaconda3-5.0.1/lib/python3.6/site-packages/scipy/stats/_continuous_distns.py:2131: RuntimeWarning: The shape parameter of the erlang distribution has been given a non-integer value 0.40591776824396192.\n",
      "  RuntimeWarning)\n",
      "/Users/jackson.kontny/.pyenv/versions/anaconda3-5.0.1/lib/python3.6/site-packages/scipy/stats/_continuous_distns.py:2131: RuntimeWarning: The shape parameter of the erlang distribution has been given a non-integer value 0.40591791633192553.\n",
      "  RuntimeWarning)\n",
      "/Users/jackson.kontny/.pyenv/versions/anaconda3-5.0.1/lib/python3.6/site-packages/scipy/stats/_continuous_distns.py:2131: RuntimeWarning: The shape parameter of the erlang distribution has been given a non-integer value 0.40591763364787192.\n",
      "  RuntimeWarning)\n",
      "/Users/jackson.kontny/.pyenv/versions/anaconda3-5.0.1/lib/python3.6/site-packages/scipy/stats/_continuous_distns.py:2131: RuntimeWarning: The shape parameter of the erlang distribution has been given a non-integer value 0.40591772156657402.\n",
      "  RuntimeWarning)\n",
      "/Users/jackson.kontny/.pyenv/versions/anaconda3-5.0.1/lib/python3.6/site-packages/scipy/stats/_continuous_distns.py:2131: RuntimeWarning: The shape parameter of the erlang distribution has been given a non-integer value 0.40591778173583548.\n",
      "  RuntimeWarning)\n",
      "/Users/jackson.kontny/.pyenv/versions/anaconda3-5.0.1/lib/python3.6/site-packages/scipy/stats/_continuous_distns.py:2131: RuntimeWarning: The shape parameter of the erlang distribution has been given a non-integer value 0.40591773660888941.\n",
      "  RuntimeWarning)\n",
      "/Users/jackson.kontny/.pyenv/versions/anaconda3-5.0.1/lib/python3.6/site-packages/scipy/stats/_continuous_distns.py:2131: RuntimeWarning: The shape parameter of the erlang distribution has been given a non-integer value 0.40591781065287119.\n",
      "  RuntimeWarning)\n",
      "/Users/jackson.kontny/.pyenv/versions/anaconda3-5.0.1/lib/python3.6/site-packages/scipy/stats/_continuous_distns.py:2131: RuntimeWarning: The shape parameter of the erlang distribution has been given a non-integer value 0.40591766931084439.\n",
      "  RuntimeWarning)\n",
      "/Users/jackson.kontny/.pyenv/versions/anaconda3-5.0.1/lib/python3.6/site-packages/scipy/stats/_continuous_distns.py:2131: RuntimeWarning: The shape parameter of the erlang distribution has been given a non-integer value 0.40591771327019543.\n",
      "  RuntimeWarning)\n",
      "/Users/jackson.kontny/.pyenv/versions/anaconda3-5.0.1/lib/python3.6/site-packages/scipy/stats/_continuous_distns.py:2131: RuntimeWarning: The shape parameter of the erlang distribution has been given a non-integer value 0.40591774335482622.\n",
      "  RuntimeWarning)\n",
      "/Users/jackson.kontny/.pyenv/versions/anaconda3-5.0.1/lib/python3.6/site-packages/scipy/stats/_continuous_distns.py:2131: RuntimeWarning: The shape parameter of the erlang distribution has been given a non-integer value 0.40591772079135313.\n",
      "  RuntimeWarning)\n",
      "/Users/jackson.kontny/.pyenv/versions/anaconda3-5.0.1/lib/python3.6/site-packages/scipy/stats/_continuous_distns.py:2131: RuntimeWarning: The shape parameter of the erlang distribution has been given a non-integer value 0.40591775781334405.\n",
      "  RuntimeWarning)\n",
      "/Users/jackson.kontny/.pyenv/versions/anaconda3-5.0.1/lib/python3.6/site-packages/scipy/stats/_continuous_distns.py:2131: RuntimeWarning: The shape parameter of the erlang distribution has been given a non-integer value 0.40591768714233062.\n",
      "  RuntimeWarning)\n",
      "/Users/jackson.kontny/.pyenv/versions/anaconda3-5.0.1/lib/python3.6/site-packages/scipy/stats/_continuous_distns.py:2131: RuntimeWarning: The shape parameter of the erlang distribution has been given a non-integer value 0.40591770912200614.\n",
      "  RuntimeWarning)\n",
      "/Users/jackson.kontny/.pyenv/versions/anaconda3-5.0.1/lib/python3.6/site-packages/scipy/stats/_continuous_distns.py:2131: RuntimeWarning: The shape parameter of the erlang distribution has been given a non-integer value 0.40591772416432154.\n",
      "  RuntimeWarning)\n",
      "/Users/jackson.kontny/.pyenv/versions/anaconda3-5.0.1/lib/python3.6/site-packages/scipy/stats/_continuous_distns.py:2131: RuntimeWarning: The shape parameter of the erlang distribution has been given a non-integer value 0.40591771288258499.\n",
      "  RuntimeWarning)\n",
      "/Users/jackson.kontny/.pyenv/versions/anaconda3-5.0.1/lib/python3.6/site-packages/scipy/stats/_continuous_distns.py:2131: RuntimeWarning: The shape parameter of the erlang distribution has been given a non-integer value 0.40591773139358045.\n",
      "  RuntimeWarning)\n",
      "/Users/jackson.kontny/.pyenv/versions/anaconda3-5.0.1/lib/python3.6/site-packages/scipy/stats/_continuous_distns.py:2131: RuntimeWarning: The shape parameter of the erlang distribution has been given a non-integer value 0.40591769605807371.\n",
      "  RuntimeWarning)\n",
      "/Users/jackson.kontny/.pyenv/versions/anaconda3-5.0.1/lib/python3.6/site-packages/scipy/stats/_continuous_distns.py:2131: RuntimeWarning: The shape parameter of the erlang distribution has been given a non-integer value 0.40591770704791152.\n",
      "  RuntimeWarning)\n",
      "/Users/jackson.kontny/.pyenv/versions/anaconda3-5.0.1/lib/python3.6/site-packages/scipy/stats/_continuous_distns.py:2131: RuntimeWarning: The shape parameter of the erlang distribution has been given a non-integer value 0.40591771456906922.\n",
      "  RuntimeWarning)\n",
      "/Users/jackson.kontny/.pyenv/versions/anaconda3-5.0.1/lib/python3.6/site-packages/scipy/stats/_continuous_distns.py:2131: RuntimeWarning: The shape parameter of the erlang distribution has been given a non-integer value 0.40591770892820095.\n",
      "  RuntimeWarning)\n",
      "/Users/jackson.kontny/.pyenv/versions/anaconda3-5.0.1/lib/python3.6/site-packages/scipy/stats/_continuous_distns.py:2131: RuntimeWarning: The shape parameter of the erlang distribution has been given a non-integer value 0.40591771818369865.\n",
      "  RuntimeWarning)\n",
      "/Users/jackson.kontny/.pyenv/versions/anaconda3-5.0.1/lib/python3.6/site-packages/scipy/stats/_continuous_distns.py:2131: RuntimeWarning: The shape parameter of the erlang distribution has been given a non-integer value 0.40591770051594528.\n",
      "  RuntimeWarning)\n",
      "/Users/jackson.kontny/.pyenv/versions/anaconda3-5.0.1/lib/python3.6/site-packages/scipy/stats/_continuous_distns.py:2131: RuntimeWarning: The shape parameter of the erlang distribution has been given a non-integer value 0.40591770601086419.\n",
      "  RuntimeWarning)\n",
      "/Users/jackson.kontny/.pyenv/versions/anaconda3-5.0.1/lib/python3.6/site-packages/scipy/stats/_continuous_distns.py:2131: RuntimeWarning: The shape parameter of the erlang distribution has been given a non-integer value 0.40591770977144304.\n",
      "  RuntimeWarning)\n",
      "/Users/jackson.kontny/.pyenv/versions/anaconda3-5.0.1/lib/python3.6/site-packages/scipy/stats/_continuous_distns.py:2131: RuntimeWarning: The shape parameter of the erlang distribution has been given a non-integer value 0.40591770695100893.\n",
      "  RuntimeWarning)\n",
      "/Users/jackson.kontny/.pyenv/versions/anaconda3-5.0.1/lib/python3.6/site-packages/scipy/stats/_continuous_distns.py:2131: RuntimeWarning: The shape parameter of the erlang distribution has been given a non-integer value 0.40591771157875778.\n",
      "  RuntimeWarning)\n",
      "/Users/jackson.kontny/.pyenv/versions/anaconda3-5.0.1/lib/python3.6/site-packages/scipy/stats/_continuous_distns.py:2131: RuntimeWarning: The shape parameter of the erlang distribution has been given a non-integer value 0.40591770274488104.\n",
      "  RuntimeWarning)\n",
      "/Users/jackson.kontny/.pyenv/versions/anaconda3-5.0.1/lib/python3.6/site-packages/scipy/stats/_continuous_distns.py:2131: RuntimeWarning: The shape parameter of the erlang distribution has been given a non-integer value 0.40591770549234052.\n",
      "  RuntimeWarning)\n",
      "/Users/jackson.kontny/.pyenv/versions/anaconda3-5.0.1/lib/python3.6/site-packages/scipy/stats/_continuous_distns.py:2131: RuntimeWarning: The shape parameter of the erlang distribution has been given a non-integer value 0.40591770737262989.\n",
      "  RuntimeWarning)\n",
      "/Users/jackson.kontny/.pyenv/versions/anaconda3-5.0.1/lib/python3.6/site-packages/scipy/stats/_continuous_distns.py:2131: RuntimeWarning: The shape parameter of the erlang distribution has been given a non-integer value 0.40591770596241283.\n",
      "  RuntimeWarning)\n"
     ]
    },
    {
     "name": "stderr",
     "output_type": "stream",
     "text": [
      "/Users/jackson.kontny/.pyenv/versions/anaconda3-5.0.1/lib/python3.6/site-packages/scipy/stats/_continuous_distns.py:2131: RuntimeWarning: The shape parameter of the erlang distribution has been given a non-integer value 0.40591770827628731.\n",
      "  RuntimeWarning)\n",
      "/Users/jackson.kontny/.pyenv/versions/anaconda3-5.0.1/lib/python3.6/site-packages/scipy/stats/_continuous_distns.py:2131: RuntimeWarning: The shape parameter of the erlang distribution has been given a non-integer value 0.40591770385934894.\n",
      "  RuntimeWarning)\n",
      "/Users/jackson.kontny/.pyenv/versions/anaconda3-5.0.1/lib/python3.6/site-packages/scipy/stats/_continuous_distns.py:2131: RuntimeWarning: The shape parameter of the erlang distribution has been given a non-integer value 0.40591770523307869.\n",
      "  RuntimeWarning)\n",
      "/Users/jackson.kontny/.pyenv/versions/anaconda3-5.0.1/lib/python3.6/site-packages/scipy/stats/_continuous_distns.py:2131: RuntimeWarning: The shape parameter of the erlang distribution has been given a non-integer value 0.40591770617322342.\n",
      "  RuntimeWarning)\n",
      "/Users/jackson.kontny/.pyenv/versions/anaconda3-5.0.1/lib/python3.6/site-packages/scipy/stats/_continuous_distns.py:2131: RuntimeWarning: The shape parameter of the erlang distribution has been given a non-integer value 0.4059177054681149.\n",
      "  RuntimeWarning)\n",
      "/Users/jackson.kontny/.pyenv/versions/anaconda3-5.0.1/lib/python3.6/site-packages/scipy/stats/_continuous_distns.py:2131: RuntimeWarning: The shape parameter of the erlang distribution has been given a non-integer value 0.40591770662505211.\n",
      "  RuntimeWarning)\n",
      "/Users/jackson.kontny/.pyenv/versions/anaconda3-5.0.1/lib/python3.6/site-packages/scipy/stats/_continuous_distns.py:2131: RuntimeWarning: The shape parameter of the erlang distribution has been given a non-integer value 0.40591770441658293.\n",
      "  RuntimeWarning)\n",
      "/Users/jackson.kontny/.pyenv/versions/anaconda3-5.0.1/lib/python3.6/site-packages/scipy/stats/_continuous_distns.py:2131: RuntimeWarning: The shape parameter of the erlang distribution has been given a non-integer value 0.40591770510344777.\n",
      "  RuntimeWarning)\n",
      "/Users/jackson.kontny/.pyenv/versions/anaconda3-5.0.1/lib/python3.6/site-packages/scipy/stats/_continuous_distns.py:2131: RuntimeWarning: The shape parameter of the erlang distribution has been given a non-integer value 0.40591770557352019.\n",
      "  RuntimeWarning)\n",
      "/Users/jackson.kontny/.pyenv/versions/anaconda3-5.0.1/lib/python3.6/site-packages/scipy/stats/_continuous_distns.py:2131: RuntimeWarning: The shape parameter of the erlang distribution has been given a non-integer value 0.40591770522096587.\n",
      "  RuntimeWarning)\n",
      "/Users/jackson.kontny/.pyenv/versions/anaconda3-5.0.1/lib/python3.6/site-packages/scipy/stats/_continuous_distns.py:2131: RuntimeWarning: The shape parameter of the erlang distribution has been given a non-integer value 0.40591770579943448.\n",
      "  RuntimeWarning)\n",
      "/Users/jackson.kontny/.pyenv/versions/anaconda3-5.0.1/lib/python3.6/site-packages/scipy/stats/_continuous_distns.py:2131: RuntimeWarning: The shape parameter of the erlang distribution has been given a non-integer value 0.40591770469519989.\n",
      "  RuntimeWarning)\n",
      "/Users/jackson.kontny/.pyenv/versions/anaconda3-5.0.1/lib/python3.6/site-packages/scipy/stats/_continuous_distns.py:2131: RuntimeWarning: The shape parameter of the erlang distribution has been given a non-integer value 0.40591770503863234.\n",
      "  RuntimeWarning)\n",
      "/Users/jackson.kontny/.pyenv/versions/anaconda3-5.0.1/lib/python3.6/site-packages/scipy/stats/_continuous_distns.py:2131: RuntimeWarning: The shape parameter of the erlang distribution has been given a non-integer value 0.40591770527366844.\n",
      "  RuntimeWarning)\n",
      "/Users/jackson.kontny/.pyenv/versions/anaconda3-5.0.1/lib/python3.6/site-packages/scipy/stats/_continuous_distns.py:2131: RuntimeWarning: The shape parameter of the erlang distribution has been given a non-integer value 0.40591770509739133.\n",
      "  RuntimeWarning)\n",
      "/Users/jackson.kontny/.pyenv/versions/anaconda3-5.0.1/lib/python3.6/site-packages/scipy/stats/_continuous_distns.py:2131: RuntimeWarning: The shape parameter of the erlang distribution has been given a non-integer value 0.40591770538662564.\n",
      "  RuntimeWarning)\n",
      "/Users/jackson.kontny/.pyenv/versions/anaconda3-5.0.1/lib/python3.6/site-packages/scipy/stats/_continuous_distns.py:2131: RuntimeWarning: The shape parameter of the erlang distribution has been given a non-integer value 0.4059177048345084.\n",
      "  RuntimeWarning)\n",
      "/Users/jackson.kontny/.pyenv/versions/anaconda3-5.0.1/lib/python3.6/site-packages/scipy/stats/_continuous_distns.py:2131: RuntimeWarning: The shape parameter of the erlang distribution has been given a non-integer value 0.40591770500622459.\n",
      "  RuntimeWarning)\n",
      "/Users/jackson.kontny/.pyenv/versions/anaconda3-5.0.1/lib/python3.6/site-packages/scipy/stats/_continuous_distns.py:2131: RuntimeWarning: The shape parameter of the erlang distribution has been given a non-integer value 0.4059177051237427.\n",
      "  RuntimeWarning)\n",
      "/Users/jackson.kontny/.pyenv/versions/anaconda3-5.0.1/lib/python3.6/site-packages/scipy/stats/_continuous_distns.py:2131: RuntimeWarning: The shape parameter of the erlang distribution has been given a non-integer value 0.40591770503560409.\n",
      "  RuntimeWarning)\n",
      "/Users/jackson.kontny/.pyenv/versions/anaconda3-5.0.1/lib/python3.6/site-packages/scipy/stats/_continuous_distns.py:2131: RuntimeWarning: The shape parameter of the erlang distribution has been given a non-integer value 0.40591770518022124.\n",
      "  RuntimeWarning)\n",
      "/Users/jackson.kontny/.pyenv/versions/anaconda3-5.0.1/lib/python3.6/site-packages/scipy/stats/_continuous_distns.py:2131: RuntimeWarning: The shape parameter of the erlang distribution has been given a non-integer value 0.40591770490416262.\n",
      "  RuntimeWarning)\n",
      "/Users/jackson.kontny/.pyenv/versions/anaconda3-5.0.1/lib/python3.6/site-packages/scipy/stats/_continuous_distns.py:2131: RuntimeWarning: The shape parameter of the erlang distribution has been given a non-integer value 0.40591770499002072.\n",
      "  RuntimeWarning)\n",
      "/Users/jackson.kontny/.pyenv/versions/anaconda3-5.0.1/lib/python3.6/site-packages/scipy/stats/_continuous_distns.py:2131: RuntimeWarning: The shape parameter of the erlang distribution has been given a non-integer value 0.40591770504877983.\n",
      "  RuntimeWarning)\n",
      "/Users/jackson.kontny/.pyenv/versions/anaconda3-5.0.1/lib/python3.6/site-packages/scipy/stats/_continuous_distns.py:2131: RuntimeWarning: The shape parameter of the erlang distribution has been given a non-integer value 0.40591770500471047.\n",
      "  RuntimeWarning)\n",
      "/Users/jackson.kontny/.pyenv/versions/anaconda3-5.0.1/lib/python3.6/site-packages/scipy/stats/_continuous_distns.py:2131: RuntimeWarning: The shape parameter of the erlang distribution has been given a non-integer value 0.40591770507701908.\n",
      "  RuntimeWarning)\n",
      "/Users/jackson.kontny/.pyenv/versions/anaconda3-5.0.1/lib/python3.6/site-packages/scipy/stats/_continuous_distns.py:2131: RuntimeWarning: The shape parameter of the erlang distribution has been given a non-integer value 0.40591770493898971.\n",
      "  RuntimeWarning)\n",
      "/Users/jackson.kontny/.pyenv/versions/anaconda3-5.0.1/lib/python3.6/site-packages/scipy/stats/_continuous_distns.py:2131: RuntimeWarning: The shape parameter of the erlang distribution has been given a non-integer value 0.40591770498191881.\n",
      "  RuntimeWarning)\n",
      "/Users/jackson.kontny/.pyenv/versions/anaconda3-5.0.1/lib/python3.6/site-packages/scipy/stats/_continuous_distns.py:2131: RuntimeWarning: The shape parameter of the erlang distribution has been given a non-integer value 0.40591770501129831.\n",
      "  RuntimeWarning)\n",
      "/Users/jackson.kontny/.pyenv/versions/anaconda3-5.0.1/lib/python3.6/site-packages/scipy/stats/_continuous_distns.py:2131: RuntimeWarning: The shape parameter of the erlang distribution has been given a non-integer value 0.40591770498926372.\n",
      "  RuntimeWarning)\n",
      "/Users/jackson.kontny/.pyenv/versions/anaconda3-5.0.1/lib/python3.6/site-packages/scipy/stats/_continuous_distns.py:2131: RuntimeWarning: The shape parameter of the erlang distribution has been given a non-integer value 0.40591770502541796.\n",
      "  RuntimeWarning)\n",
      "/Users/jackson.kontny/.pyenv/versions/anaconda3-5.0.1/lib/python3.6/site-packages/scipy/stats/_continuous_distns.py:2131: RuntimeWarning: The shape parameter of the erlang distribution has been given a non-integer value 0.40591770495640328.\n",
      "  RuntimeWarning)\n",
      "/Users/jackson.kontny/.pyenv/versions/anaconda3-5.0.1/lib/python3.6/site-packages/scipy/stats/_continuous_distns.py:2131: RuntimeWarning: The shape parameter of the erlang distribution has been given a non-integer value 0.40591770497786783.\n",
      "  RuntimeWarning)\n",
      "/Users/jackson.kontny/.pyenv/versions/anaconda3-5.0.1/lib/python3.6/site-packages/scipy/stats/_continuous_distns.py:2131: RuntimeWarning: The shape parameter of the erlang distribution has been given a non-integer value 0.40591770499255764.\n",
      "  RuntimeWarning)\n",
      "/Users/jackson.kontny/.pyenv/versions/anaconda3-5.0.1/lib/python3.6/site-packages/scipy/stats/_continuous_distns.py:2131: RuntimeWarning: The shape parameter of the erlang distribution has been given a non-integer value 0.40591770498154028.\n",
      "  RuntimeWarning)\n",
      "/Users/jackson.kontny/.pyenv/versions/anaconda3-5.0.1/lib/python3.6/site-packages/scipy/stats/_continuous_distns.py:2131: RuntimeWarning: The shape parameter of the erlang distribution has been given a non-integer value 0.40591770499961743.\n",
      "  RuntimeWarning)\n",
      "/Users/jackson.kontny/.pyenv/versions/anaconda3-5.0.1/lib/python3.6/site-packages/scipy/stats/_continuous_distns.py:2131: RuntimeWarning: The shape parameter of the erlang distribution has been given a non-integer value 0.40591770496511004.\n",
      "  RuntimeWarning)\n",
      "/Users/jackson.kontny/.pyenv/versions/anaconda3-5.0.1/lib/python3.6/site-packages/scipy/stats/_continuous_distns.py:2131: RuntimeWarning: The shape parameter of the erlang distribution has been given a non-integer value 0.40591770497584234.\n",
      "  RuntimeWarning)\n",
      "/Users/jackson.kontny/.pyenv/versions/anaconda3-5.0.1/lib/python3.6/site-packages/scipy/stats/_continuous_distns.py:2131: RuntimeWarning: The shape parameter of the erlang distribution has been given a non-integer value 0.40591770498318724.\n",
      "  RuntimeWarning)\n",
      "/Users/jackson.kontny/.pyenv/versions/anaconda3-5.0.1/lib/python3.6/site-packages/scipy/stats/_continuous_distns.py:2131: RuntimeWarning: The shape parameter of the erlang distribution has been given a non-integer value 0.40591770497767854.\n",
      "  RuntimeWarning)\n",
      "/Users/jackson.kontny/.pyenv/versions/anaconda3-5.0.1/lib/python3.6/site-packages/scipy/stats/_continuous_distns.py:2131: RuntimeWarning: The shape parameter of the erlang distribution has been given a non-integer value 0.40591770498671714.\n",
      "  RuntimeWarning)\n",
      "/Users/jackson.kontny/.pyenv/versions/anaconda3-5.0.1/lib/python3.6/site-packages/scipy/stats/_continuous_distns.py:2131: RuntimeWarning: The shape parameter of the erlang distribution has been given a non-integer value 0.40591770496946344.\n",
      "  RuntimeWarning)\n",
      "/Users/jackson.kontny/.pyenv/versions/anaconda3-5.0.1/lib/python3.6/site-packages/scipy/stats/_continuous_distns.py:2131: RuntimeWarning: The shape parameter of the erlang distribution has been given a non-integer value 0.4059177049748296.\n",
      "  RuntimeWarning)\n",
      "/Users/jackson.kontny/.pyenv/versions/anaconda3-5.0.1/lib/python3.6/site-packages/scipy/stats/_continuous_distns.py:2131: RuntimeWarning: The shape parameter of the erlang distribution has been given a non-integer value 0.4059177049785021.\n",
      "  RuntimeWarning)\n",
      "/Users/jackson.kontny/.pyenv/versions/anaconda3-5.0.1/lib/python3.6/site-packages/scipy/stats/_continuous_distns.py:2131: RuntimeWarning: The shape parameter of the erlang distribution has been given a non-integer value 0.40591770497574775.\n",
      "  RuntimeWarning)\n",
      "/Users/jackson.kontny/.pyenv/versions/anaconda3-5.0.1/lib/python3.6/site-packages/scipy/stats/_continuous_distns.py:2131: RuntimeWarning: The shape parameter of the erlang distribution has been given a non-integer value 0.40591770498026702.\n",
      "  RuntimeWarning)\n"
     ]
    },
    {
     "name": "stderr",
     "output_type": "stream",
     "text": [
      "/Users/jackson.kontny/.pyenv/versions/anaconda3-5.0.1/lib/python3.6/site-packages/scipy/stats/_continuous_distns.py:2131: RuntimeWarning: The shape parameter of the erlang distribution has been given a non-integer value 0.40591770497164015.\n",
      "  RuntimeWarning)\n",
      "/Users/jackson.kontny/.pyenv/versions/anaconda3-5.0.1/lib/python3.6/site-packages/scipy/stats/_continuous_distns.py:2131: RuntimeWarning: The shape parameter of the erlang distribution has been given a non-integer value 0.40591770497432322.\n",
      "  RuntimeWarning)\n",
      "/Users/jackson.kontny/.pyenv/versions/anaconda3-5.0.1/lib/python3.6/site-packages/scipy/stats/_continuous_distns.py:2131: RuntimeWarning: The shape parameter of the erlang distribution has been given a non-integer value 0.40591770497615953.\n",
      "  RuntimeWarning)\n",
      "/Users/jackson.kontny/.pyenv/versions/anaconda3-5.0.1/lib/python3.6/site-packages/scipy/stats/_continuous_distns.py:2131: RuntimeWarning: The shape parameter of the erlang distribution has been given a non-integer value 0.4059177049747823.\n",
      "  RuntimeWarning)\n",
      "/Users/jackson.kontny/.pyenv/versions/anaconda3-5.0.1/lib/python3.6/site-packages/scipy/stats/_continuous_distns.py:2131: RuntimeWarning: The shape parameter of the erlang distribution has been given a non-integer value 0.40591770497704194.\n",
      "  RuntimeWarning)\n",
      "/Users/jackson.kontny/.pyenv/versions/anaconda3-5.0.1/lib/python3.6/site-packages/scipy/stats/_continuous_distns.py:2131: RuntimeWarning: The shape parameter of the erlang distribution has been given a non-integer value 0.4059177049727285.\n",
      "  RuntimeWarning)\n",
      "/Users/jackson.kontny/.pyenv/versions/anaconda3-5.0.1/lib/python3.6/site-packages/scipy/stats/_continuous_distns.py:2131: RuntimeWarning: The shape parameter of the erlang distribution has been given a non-integer value 0.40591770497407004.\n",
      "  RuntimeWarning)\n",
      "/Users/jackson.kontny/.pyenv/versions/anaconda3-5.0.1/lib/python3.6/site-packages/scipy/stats/_continuous_distns.py:2131: RuntimeWarning: The shape parameter of the erlang distribution has been given a non-integer value 0.40591770497498808.\n",
      "  RuntimeWarning)\n",
      "/Users/jackson.kontny/.pyenv/versions/anaconda3-5.0.1/lib/python3.6/site-packages/scipy/stats/_continuous_distns.py:2131: RuntimeWarning: The shape parameter of the erlang distribution has been given a non-integer value 0.40591770497429958.\n",
      "  RuntimeWarning)\n",
      "/Users/jackson.kontny/.pyenv/versions/anaconda3-5.0.1/lib/python3.6/site-packages/scipy/stats/_continuous_distns.py:2131: RuntimeWarning: The shape parameter of the erlang distribution has been given a non-integer value 0.40591770497542939.\n",
      "  RuntimeWarning)\n",
      "/Users/jackson.kontny/.pyenv/versions/anaconda3-5.0.1/lib/python3.6/site-packages/scipy/stats/_continuous_distns.py:2131: RuntimeWarning: The shape parameter of the erlang distribution has been given a non-integer value 0.40591770497327267.\n",
      "  RuntimeWarning)\n",
      "/Users/jackson.kontny/.pyenv/versions/anaconda3-5.0.1/lib/python3.6/site-packages/scipy/stats/_continuous_distns.py:2131: RuntimeWarning: The shape parameter of the erlang distribution has been given a non-integer value 0.40591770497394342.\n",
      "  RuntimeWarning)\n",
      "/Users/jackson.kontny/.pyenv/versions/anaconda3-5.0.1/lib/python3.6/site-packages/scipy/stats/_continuous_distns.py:2131: RuntimeWarning: The shape parameter of the erlang distribution has been given a non-integer value 0.40591770497440249.\n",
      "  RuntimeWarning)\n",
      "/Users/jackson.kontny/.pyenv/versions/anaconda3-5.0.1/lib/python3.6/site-packages/scipy/stats/_continuous_distns.py:2131: RuntimeWarning: The shape parameter of the erlang distribution has been given a non-integer value 0.40591770497405821.\n",
      "  RuntimeWarning)\n",
      "/Users/jackson.kontny/.pyenv/versions/anaconda3-5.0.1/lib/python3.6/site-packages/scipy/stats/_continuous_distns.py:2131: RuntimeWarning: The shape parameter of the erlang distribution has been given a non-integer value 0.40591770497462309.\n",
      "  RuntimeWarning)\n",
      "/Users/jackson.kontny/.pyenv/versions/anaconda3-5.0.1/lib/python3.6/site-packages/scipy/stats/_continuous_distns.py:2131: RuntimeWarning: The shape parameter of the erlang distribution has been given a non-integer value 0.40591770497354474.\n",
      "  RuntimeWarning)\n",
      "/Users/jackson.kontny/.pyenv/versions/anaconda3-5.0.1/lib/python3.6/site-packages/scipy/stats/_continuous_distns.py:2131: RuntimeWarning: The shape parameter of the erlang distribution has been given a non-integer value 0.40591770497388013.\n",
      "  RuntimeWarning)\n",
      "/Users/jackson.kontny/.pyenv/versions/anaconda3-5.0.1/lib/python3.6/site-packages/scipy/stats/_continuous_distns.py:2131: RuntimeWarning: The shape parameter of the erlang distribution has been given a non-integer value 0.40591770497410962.\n",
      "  RuntimeWarning)\n",
      "/Users/jackson.kontny/.pyenv/versions/anaconda3-5.0.1/lib/python3.6/site-packages/scipy/stats/_continuous_distns.py:2131: RuntimeWarning: The shape parameter of the erlang distribution has been given a non-integer value 0.40591770497393753.\n",
      "  RuntimeWarning)\n",
      "/Users/jackson.kontny/.pyenv/versions/anaconda3-5.0.1/lib/python3.6/site-packages/scipy/stats/_continuous_distns.py:2131: RuntimeWarning: The shape parameter of the erlang distribution has been given a non-integer value 0.40591770497421997.\n",
      "  RuntimeWarning)\n",
      "/Users/jackson.kontny/.pyenv/versions/anaconda3-5.0.1/lib/python3.6/site-packages/scipy/stats/_continuous_distns.py:2131: RuntimeWarning: The shape parameter of the erlang distribution has been given a non-integer value 0.40591770497368079.\n",
      "  RuntimeWarning)\n",
      "/Users/jackson.kontny/.pyenv/versions/anaconda3-5.0.1/lib/python3.6/site-packages/scipy/stats/_continuous_distns.py:2131: RuntimeWarning: The shape parameter of the erlang distribution has been given a non-integer value 0.40591770497384849.\n",
      "  RuntimeWarning)\n",
      "/Users/jackson.kontny/.pyenv/versions/anaconda3-5.0.1/lib/python3.6/site-packages/scipy/stats/_continuous_distns.py:2131: RuntimeWarning: The shape parameter of the erlang distribution has been given a non-integer value 0.40591770497396318.\n",
      "  RuntimeWarning)\n",
      "/Users/jackson.kontny/.pyenv/versions/anaconda3-5.0.1/lib/python3.6/site-packages/scipy/stats/_continuous_distns.py:2131: RuntimeWarning: The shape parameter of the erlang distribution has been given a non-integer value 0.40591770497387714.\n",
      "  RuntimeWarning)\n",
      "/Users/jackson.kontny/.pyenv/versions/anaconda3-5.0.1/lib/python3.6/site-packages/scipy/stats/_continuous_distns.py:2131: RuntimeWarning: The shape parameter of the erlang distribution has been given a non-integer value 0.40591770497401841.\n",
      "  RuntimeWarning)\n",
      "/Users/jackson.kontny/.pyenv/versions/anaconda3-5.0.1/lib/python3.6/site-packages/scipy/stats/_continuous_distns.py:2131: RuntimeWarning: The shape parameter of the erlang distribution has been given a non-integer value 0.40591770497374879.\n",
      "  RuntimeWarning)\n",
      "/Users/jackson.kontny/.pyenv/versions/anaconda3-5.0.1/lib/python3.6/site-packages/scipy/stats/_continuous_distns.py:2131: RuntimeWarning: The shape parameter of the erlang distribution has been given a non-integer value 0.40591770497383267.\n",
      "  RuntimeWarning)\n",
      "/Users/jackson.kontny/.pyenv/versions/anaconda3-5.0.1/lib/python3.6/site-packages/scipy/stats/_continuous_distns.py:2131: RuntimeWarning: The shape parameter of the erlang distribution has been given a non-integer value 0.40591770497389007.\n",
      "  RuntimeWarning)\n",
      "/Users/jackson.kontny/.pyenv/versions/anaconda3-5.0.1/lib/python3.6/site-packages/scipy/stats/_continuous_distns.py:2131: RuntimeWarning: The shape parameter of the erlang distribution has been given a non-integer value 0.40591770497384705.\n",
      "  RuntimeWarning)\n",
      "/Users/jackson.kontny/.pyenv/versions/anaconda3-5.0.1/lib/python3.6/site-packages/scipy/stats/_continuous_distns.py:2131: RuntimeWarning: The shape parameter of the erlang distribution has been given a non-integer value 0.40591770497391766.\n",
      "  RuntimeWarning)\n",
      "/Users/jackson.kontny/.pyenv/versions/anaconda3-5.0.1/lib/python3.6/site-packages/scipy/stats/_continuous_distns.py:2131: RuntimeWarning: The shape parameter of the erlang distribution has been given a non-integer value 0.40591770497378282.\n",
      "  RuntimeWarning)\n",
      "/Users/jackson.kontny/.pyenv/versions/anaconda3-5.0.1/lib/python3.6/site-packages/scipy/stats/_continuous_distns.py:2131: RuntimeWarning: The shape parameter of the erlang distribution has been given a non-integer value 0.40591770497382473.\n",
      "  RuntimeWarning)\n",
      "/Users/jackson.kontny/.pyenv/versions/anaconda3-5.0.1/lib/python3.6/site-packages/scipy/stats/_continuous_distns.py:2131: RuntimeWarning: The shape parameter of the erlang distribution has been given a non-integer value 0.40591770497385349.\n",
      "  RuntimeWarning)\n",
      "/Users/jackson.kontny/.pyenv/versions/anaconda3-5.0.1/lib/python3.6/site-packages/scipy/stats/_continuous_distns.py:2131: RuntimeWarning: The shape parameter of the erlang distribution has been given a non-integer value 0.40591770497383195.\n",
      "  RuntimeWarning)\n",
      "/Users/jackson.kontny/.pyenv/versions/anaconda3-5.0.1/lib/python3.6/site-packages/scipy/stats/_continuous_distns.py:2131: RuntimeWarning: The shape parameter of the erlang distribution has been given a non-integer value 0.40591770497386725.\n",
      "  RuntimeWarning)\n",
      "/Users/jackson.kontny/.pyenv/versions/anaconda3-5.0.1/lib/python3.6/site-packages/scipy/stats/_continuous_distns.py:2131: RuntimeWarning: The shape parameter of the erlang distribution has been given a non-integer value 0.40591770497379986.\n",
      "  RuntimeWarning)\n",
      "/Users/jackson.kontny/.pyenv/versions/anaconda3-5.0.1/lib/python3.6/site-packages/scipy/stats/_continuous_distns.py:2131: RuntimeWarning: The shape parameter of the erlang distribution has been given a non-integer value 0.40591770497382079.\n",
      "  RuntimeWarning)\n",
      "/Users/jackson.kontny/.pyenv/versions/anaconda3-5.0.1/lib/python3.6/site-packages/scipy/stats/_continuous_distns.py:2131: RuntimeWarning: The shape parameter of the erlang distribution has been given a non-integer value 0.40591770497383522.\n",
      "  RuntimeWarning)\n",
      "/Users/jackson.kontny/.pyenv/versions/anaconda3-5.0.1/lib/python3.6/site-packages/scipy/stats/_continuous_distns.py:2131: RuntimeWarning: The shape parameter of the erlang distribution has been given a non-integer value 0.4059177049738244.\n",
      "  RuntimeWarning)\n",
      "/Users/jackson.kontny/.pyenv/versions/anaconda3-5.0.1/lib/python3.6/site-packages/scipy/stats/_continuous_distns.py:2131: RuntimeWarning: The shape parameter of the erlang distribution has been given a non-integer value 0.40591770497384205.\n",
      "  RuntimeWarning)\n",
      "/Users/jackson.kontny/.pyenv/versions/anaconda3-5.0.1/lib/python3.6/site-packages/scipy/stats/_continuous_distns.py:2131: RuntimeWarning: The shape parameter of the erlang distribution has been given a non-integer value 0.40591770497380836.\n",
      "  RuntimeWarning)\n",
      "/Users/jackson.kontny/.pyenv/versions/anaconda3-5.0.1/lib/python3.6/site-packages/scipy/stats/_continuous_distns.py:2131: RuntimeWarning: The shape parameter of the erlang distribution has been given a non-integer value 0.40591770497381885.\n",
      "  RuntimeWarning)\n",
      "/Users/jackson.kontny/.pyenv/versions/anaconda3-5.0.1/lib/python3.6/site-packages/scipy/stats/_continuous_distns.py:2131: RuntimeWarning: The shape parameter of the erlang distribution has been given a non-integer value 0.40591770497382607.\n",
      "  RuntimeWarning)\n",
      "/Users/jackson.kontny/.pyenv/versions/anaconda3-5.0.1/lib/python3.6/site-packages/scipy/stats/_continuous_distns.py:2131: RuntimeWarning: The shape parameter of the erlang distribution has been given a non-integer value 0.40591770497382063.\n",
      "  RuntimeWarning)\n"
     ]
    },
    {
     "name": "stderr",
     "output_type": "stream",
     "text": [
      "/Users/jackson.kontny/.pyenv/versions/anaconda3-5.0.1/lib/python3.6/site-packages/scipy/stats/_continuous_distns.py:2131: RuntimeWarning: The shape parameter of the erlang distribution has been given a non-integer value 0.40591770497382945.\n",
      "  RuntimeWarning)\n",
      "/Users/jackson.kontny/.pyenv/versions/anaconda3-5.0.1/lib/python3.6/site-packages/scipy/stats/_continuous_distns.py:2131: RuntimeWarning: The shape parameter of the erlang distribution has been given a non-integer value 0.40591770497381263.\n",
      "  RuntimeWarning)\n",
      "/Users/jackson.kontny/.pyenv/versions/anaconda3-5.0.1/lib/python3.6/site-packages/scipy/stats/_continuous_distns.py:2131: RuntimeWarning: The shape parameter of the erlang distribution has been given a non-integer value 0.40591770497381785.\n",
      "  RuntimeWarning)\n",
      "/Users/jackson.kontny/.pyenv/versions/anaconda3-5.0.1/lib/python3.6/site-packages/scipy/stats/_continuous_distns.py:2131: RuntimeWarning: The shape parameter of the erlang distribution has been given a non-integer value 0.40591770497382151.\n",
      "  RuntimeWarning)\n",
      "/Users/jackson.kontny/.pyenv/versions/anaconda3-5.0.1/lib/python3.6/site-packages/scipy/stats/_continuous_distns.py:2131: RuntimeWarning: The shape parameter of the erlang distribution has been given a non-integer value 0.40591770497381874.\n",
      "  RuntimeWarning)\n",
      "/Users/jackson.kontny/.pyenv/versions/anaconda3-5.0.1/lib/python3.6/site-packages/scipy/stats/_continuous_distns.py:2131: RuntimeWarning: The shape parameter of the erlang distribution has been given a non-integer value 0.40591770497382318.\n",
      "  RuntimeWarning)\n",
      "/Users/jackson.kontny/.pyenv/versions/anaconda3-5.0.1/lib/python3.6/site-packages/scipy/stats/_continuous_distns.py:2131: RuntimeWarning: The shape parameter of the erlang distribution has been given a non-integer value 0.40591770497381474.\n",
      "  RuntimeWarning)\n",
      "/Users/jackson.kontny/.pyenv/versions/anaconda3-5.0.1/lib/python3.6/site-packages/scipy/stats/_continuous_distns.py:2131: RuntimeWarning: The shape parameter of the erlang distribution has been given a non-integer value 0.40591770497381735.\n",
      "  RuntimeWarning)\n",
      "/Users/jackson.kontny/.pyenv/versions/anaconda3-5.0.1/lib/python3.6/site-packages/scipy/stats/_continuous_distns.py:2131: RuntimeWarning: The shape parameter of the erlang distribution has been given a non-integer value 0.40591770497381913.\n",
      "  RuntimeWarning)\n",
      "/Users/jackson.kontny/.pyenv/versions/anaconda3-5.0.1/lib/python3.6/site-packages/scipy/stats/_continuous_distns.py:2131: RuntimeWarning: The shape parameter of the erlang distribution has been given a non-integer value 0.40591770497381779.\n",
      "  RuntimeWarning)\n",
      "/Users/jackson.kontny/.pyenv/versions/anaconda3-5.0.1/lib/python3.6/site-packages/scipy/stats/_continuous_distns.py:2131: RuntimeWarning: The shape parameter of the erlang distribution has been given a non-integer value 0.40591770497382001.\n",
      "  RuntimeWarning)\n",
      "/Users/jackson.kontny/.pyenv/versions/anaconda3-5.0.1/lib/python3.6/site-packages/scipy/stats/_continuous_distns.py:2131: RuntimeWarning: The shape parameter of the erlang distribution has been given a non-integer value 0.4059177049738158.\n",
      "  RuntimeWarning)\n",
      "/Users/jackson.kontny/.pyenv/versions/anaconda3-5.0.1/lib/python3.6/site-packages/scipy/stats/_continuous_distns.py:2131: RuntimeWarning: The shape parameter of the erlang distribution has been given a non-integer value 0.40591770497381707.\n",
      "  RuntimeWarning)\n",
      "/Users/jackson.kontny/.pyenv/versions/anaconda3-5.0.1/lib/python3.6/site-packages/scipy/stats/_continuous_distns.py:2131: RuntimeWarning: The shape parameter of the erlang distribution has been given a non-integer value 0.40591770497381807.\n",
      "  RuntimeWarning)\n",
      "/Users/jackson.kontny/.pyenv/versions/anaconda3-5.0.1/lib/python3.6/site-packages/scipy/stats/_continuous_distns.py:2131: RuntimeWarning: The shape parameter of the erlang distribution has been given a non-integer value 0.40591770497381729.\n",
      "  RuntimeWarning)\n",
      "/Users/jackson.kontny/.pyenv/versions/anaconda3-5.0.1/lib/python3.6/site-packages/scipy/stats/_continuous_distns.py:2131: RuntimeWarning: The shape parameter of the erlang distribution has been given a non-integer value 0.40591770497381841.\n",
      "  RuntimeWarning)\n",
      "/Users/jackson.kontny/.pyenv/versions/anaconda3-5.0.1/lib/python3.6/site-packages/scipy/stats/_continuous_distns.py:2131: RuntimeWarning: The shape parameter of the erlang distribution has been given a non-integer value 0.4059177049738163.\n",
      "  RuntimeWarning)\n",
      "/Users/jackson.kontny/.pyenv/versions/anaconda3-5.0.1/lib/python3.6/site-packages/scipy/stats/_continuous_distns.py:2131: RuntimeWarning: The shape parameter of the erlang distribution has been given a non-integer value 0.40591770497381696.\n",
      "  RuntimeWarning)\n",
      "/Users/jackson.kontny/.pyenv/versions/anaconda3-5.0.1/lib/python3.6/site-packages/scipy/stats/_continuous_distns.py:2131: RuntimeWarning: The shape parameter of the erlang distribution has been given a non-integer value 0.40591770497381741.\n",
      "  RuntimeWarning)\n",
      "/Users/jackson.kontny/.pyenv/versions/anaconda3-5.0.1/lib/python3.6/site-packages/scipy/stats/_continuous_distns.py:2131: RuntimeWarning: The shape parameter of the erlang distribution has been given a non-integer value 0.40591770497381763.\n",
      "  RuntimeWarning)\n",
      "/Users/jackson.kontny/.pyenv/versions/anaconda3-5.0.1/lib/python3.6/site-packages/scipy/stats/_continuous_distns.py:2131: RuntimeWarning: The shape parameter of the erlang distribution has been given a non-integer value 0.40591770497381657.\n",
      "  RuntimeWarning)\n",
      "/Users/jackson.kontny/.pyenv/versions/anaconda3-5.0.1/lib/python3.6/site-packages/scipy/stats/_continuous_distns.py:2131: RuntimeWarning: The shape parameter of the erlang distribution has been given a non-integer value 0.40591770497381691.\n",
      "  RuntimeWarning)\n",
      "/Users/jackson.kontny/.pyenv/versions/anaconda3-5.0.1/lib/python3.6/site-packages/scipy/stats/_continuous_distns.py:2131: RuntimeWarning: The shape parameter of the erlang distribution has been given a non-integer value 0.40591770497381713.\n",
      "  RuntimeWarning)\n",
      "/Users/jackson.kontny/.pyenv/versions/anaconda3-5.0.1/lib/python3.6/site-packages/scipy/stats/_continuous_distns.py:2131: RuntimeWarning: The shape parameter of the erlang distribution has been given a non-integer value 0.40591770497381724.\n",
      "  RuntimeWarning)\n",
      "/Users/jackson.kontny/.pyenv/versions/anaconda3-5.0.1/lib/python3.6/site-packages/scipy/stats/_continuous_distns.py:2131: RuntimeWarning: The shape parameter of the erlang distribution has been given a non-integer value 0.40591770497381674.\n",
      "  RuntimeWarning)\n",
      "/Users/jackson.kontny/.pyenv/versions/anaconda3-5.0.1/lib/python3.6/site-packages/scipy/stats/_continuous_distns.py:2131: RuntimeWarning: The shape parameter of the erlang distribution has been given a non-integer value 0.4059177049738168.\n",
      "  RuntimeWarning)\n",
      "/Users/jackson.kontny/.pyenv/versions/anaconda3-5.0.1/lib/python3.6/site-packages/scipy/stats/_continuous_distns.py:2131: RuntimeWarning: The shape parameter of the erlang distribution has been given a non-integer value array(0.40591770497381685).\n",
      "  RuntimeWarning)\n"
     ]
    },
    {
     "name": "stdout",
     "output_type": "stream",
     "text": [
      "Fitted erlang distribution with error=0.006709021865938301)\n",
      "Fitted expon distribution with error=0.040637390893519344)\n",
      "Fitted exponnorm distribution with error=0.040422887623719005)\n",
      "Fitted exponpow distribution with error=0.028775513924208865)\n"
     ]
    },
    {
     "name": "stderr",
     "output_type": "stream",
     "text": [
      "/Users/jackson.kontny/.pyenv/versions/anaconda3-5.0.1/lib/python3.6/site-packages/scipy/stats/_continuous_distns.py:1240: RuntimeWarning: invalid value encountered in add\n",
      "  negxc + sc.xlogy(c - 1.0, x))\n"
     ]
    },
    {
     "name": "stdout",
     "output_type": "stream",
     "text": [
      "Fitted exponweib distribution with error=0.04000319313103549)\n"
     ]
    },
    {
     "name": "stderr",
     "output_type": "stream",
     "text": [
      "/Users/jackson.kontny/.pyenv/versions/anaconda3-5.0.1/lib/python3.6/site-packages/scipy/stats/_continuous_distns.py:1429: RuntimeWarning: divide by zero encountered in log\n",
      "  lPx = m/2 * np.log(m) + n/2 * np.log(n) + (n/2 - 1) * np.log(x)\n"
     ]
    },
    {
     "name": "stdout",
     "output_type": "stream",
     "text": [
      "Fitted f distribution with error=0.029399108597340053)\n",
      "Fitted fatiguelife distribution with error=0.0558543608616068)\n",
      "Fitted fisk distribution with error=0.07486341189530994)\n",
      "Fitted foldcauchy distribution with error=0.010017760460634972)\n",
      "Fitted foldnorm distribution with error=0.0878726028201066)\n",
      "Fitted frechet_l distribution with error=0.18661478816313398)\n",
      "Fitted frechet_r distribution with error=0.08309278415994552)\n",
      "Fitted gamma distribution with error=0.01919689081978363)\n"
     ]
    },
    {
     "name": "stderr",
     "output_type": "stream",
     "text": [
      "/Users/jackson.kontny/.pyenv/versions/anaconda3-5.0.1/lib/python3.6/site-packages/scipy/stats/_continuous_distns.py:2595: RuntimeWarning: divide by zero encountered in power\n",
      "  return 1.0/Cinv * x**(a-1.0) * (1.0-x)**(b-1.0) / (1.0+z*x)**c\n"
     ]
    },
    {
     "name": "stdout",
     "output_type": "stream",
     "text": [
      "Fitted gausshyper distribution with error=0.020075007229087415)\n",
      "Fitted genexpon distribution with error=0.04063782589833744)\n"
     ]
    },
    {
     "name": "stderr",
     "output_type": "stream",
     "text": [
      "/Users/jackson.kontny/.pyenv/versions/anaconda3-5.0.1/lib/python3.6/site-packages/scipy/stats/_continuous_distns.py:1902: RuntimeWarning: invalid value encountered in true_divide\n",
      "  np.sign(c)*(-g3+(g2+2*g2mg12)*g1)/((g2mg12)**(3./2.)))\n",
      "/Users/jackson.kontny/.pyenv/versions/anaconda3-5.0.1/lib/python3.6/site-packages/scipy/stats/_continuous_distns.py:1907: RuntimeWarning: invalid value encountered in true_divide\n",
      "  (g4+(-4*g3+3*(g2+g2mg12)*g1)*g1)/((g2mg12)**2))\n"
     ]
    },
    {
     "name": "stdout",
     "output_type": "stream",
     "text": [
      "Fitted genextreme distribution with error=0.15667405546185414)\n",
      "Fitted gengamma distribution with error=0.01704909087361447)\n",
      "Fitted genhalflogistic distribution with error=0.08311217098325753)\n",
      "Fitted genlogistic distribution with error=0.08328455807881584)\n",
      "Fitted gennorm distribution with error=0.04172503157930595)\n"
     ]
    },
    {
     "name": "stderr",
     "output_type": "stream",
     "text": [
      "/Users/jackson.kontny/.pyenv/versions/anaconda3-5.0.1/lib/python3.6/site-packages/scipy/stats/_continuous_distns.py:1761: RuntimeWarning: divide by zero encountered in true_divide\n",
      "  val = val + cnk * (-1) ** ki / (1.0 - c * ki)\n"
     ]
    },
    {
     "name": "stdout",
     "output_type": "stream",
     "text": [
      "Fitted genpareto distribution with error=0.15667496287705182)\n",
      "Fitted gilbrat distribution with error=0.017529300654119666)\n",
      "Fitted gompertz distribution with error=0.04364409058824689)\n",
      "Fitted gumbel_l distribution with error=0.12667755514249784)\n",
      "Fitted gumbel_r distribution with error=0.08337030995135854)\n",
      "Fitted halfcauchy distribution with error=0.010017202919479308)\n",
      "Fitted halfgennorm distribution with error=0.003920698809688914)\n",
      "Fitted halflogistic distribution with error=0.06972565708272971)\n",
      "Fitted halfnorm distribution with error=0.0878708902410686)\n",
      "Fitted hypsecant distribution with error=0.09072695391142559)\n",
      "Fitted invgamma distribution with error=0.15666822039499395)\n",
      "Fitted invgauss distribution with error=0.14203376843113555)\n",
      "Fitted invweibull distribution with error=0.15667659215659488)\n",
      "Fitted johnsonsb distribution with error=0.09176913185759707)\n",
      "Fitted johnsonsu distribution with error=0.15645686481703996)\n"
     ]
    },
    {
     "name": "stderr",
     "output_type": "stream",
     "text": [
      "/Users/jackson.kontny/.pyenv/versions/anaconda3-5.0.1/lib/python3.6/site-packages/scipy/stats/_continuous_distns.py:3656: RuntimeWarning: overflow encountered in power\n",
      "  return a*(a + x**a)**(-1.0/a-1)\n"
     ]
    },
    {
     "name": "stdout",
     "output_type": "stream",
     "text": [
      "Fitted kappa3 distribution with error=0.15227225145706008)\n",
      "Fitted kappa4 distribution with error=0.11311928477398984)\n"
     ]
    },
    {
     "name": "stderr",
     "output_type": "stream",
     "text": [
      "/Users/jackson.kontny/.pyenv/versions/anaconda3-5.0.1/lib/python3.6/site-packages/scipy/integrate/quadpack.py:364: IntegrationWarning: The maximum number of subdivisions (50) has been achieved.\n",
      "  If increasing the limit yields no improvement it is advised to analyze \n",
      "  the integrand in order to determine the difficulties.  If the position of a \n",
      "  local difficulty can be determined (singularity, discontinuity) one will \n",
      "  probably gain from splitting up the interval and calling the integrator \n",
      "  on the subranges.  Perhaps a special-purpose integrator should be used.\n",
      "  warnings.warn(msg, IntegrationWarning)\n",
      "/Users/jackson.kontny/.pyenv/versions/anaconda3-5.0.1/lib/python3.6/site-packages/scipy/stats/_continuous_distns.py:43: RuntimeWarning: floating point number truncated to an integer\n",
      "  return 1.0 - sc.smirnov(n, x)\n"
     ]
    },
    {
     "name": "stdout",
     "output_type": "stream",
     "text": [
      "SKIPPED ksone distribution (taking more than 120 seconds)\n",
      "Fitted kstwobign distribution with error=0.09301657293341181)\n",
      "Fitted laplace distribution with error=0.07852414023481921)\n",
      "Fitted levy distribution with error=0.14468158635464567)\n",
      "Fitted levy_l distribution with error=0.145880062902392)\n",
      "SKIPPED levy_stable distribution (taking more than 120 seconds)\n",
      "Fitted loggamma distribution with error=0.11317190320561415)\n",
      "Fitted logistic distribution with error=0.09895915609319966)\n"
     ]
    },
    {
     "name": "stderr",
     "output_type": "stream",
     "text": [
      "/Users/jackson.kontny/.pyenv/versions/anaconda3-5.0.1/lib/python3.6/site-packages/scipy/stats/_continuous_distns.py:3165: RuntimeWarning: divide by zero encountered in true_divide\n",
      "  return c**2 / (c**2 - n**2)\n",
      "/Users/jackson.kontny/.pyenv/versions/anaconda3-5.0.1/lib/python3.6/site-packages/scipy/stats/_continuous_distns.py:3156: RuntimeWarning: divide by zero encountered in power\n",
      "  return cd2*x**(c-1)\n"
     ]
    },
    {
     "name": "stdout",
     "output_type": "stream",
     "text": [
      "Fitted loglaplace distribution with error=0.00987786681414227)\n",
      "Fitted lognorm distribution with error=0.11452054380798853)\n",
      "Fitted lomax distribution with error=0.02124670390394859)\n",
      "Fitted maxwell distribution with error=0.10518568049837182)\n"
     ]
    },
    {
     "name": "stderr",
     "output_type": "stream",
     "text": [
      "/Users/jackson.kontny/.pyenv/versions/anaconda3-5.0.1/lib/python3.6/site-packages/scipy/integrate/quadpack.py:364: IntegrationWarning: Extremely bad integrand behavior occurs at some points of the\n",
      "  integration interval.\n",
      "  warnings.warn(msg, IntegrationWarning)\n",
      "/Users/jackson.kontny/.pyenv/versions/anaconda3-5.0.1/lib/python3.6/site-packages/scipy/integrate/quadpack.py:364: IntegrationWarning: The integral is probably divergent, or slowly convergent.\n",
      "  warnings.warn(msg, IntegrationWarning)\n"
     ]
    },
    {
     "name": "stdout",
     "output_type": "stream",
     "text": [
      "Fitted mielke distribution with error=0.0447533348805035)\n"
     ]
    },
    {
     "name": "stderr",
     "output_type": "stream",
     "text": [
      "/Users/jackson.kontny/.pyenv/versions/anaconda3-5.0.1/lib/python3.6/site-packages/scipy/stats/_continuous_distns.py:3692: RuntimeWarning: divide by zero encountered in power\n",
      "  return 2*nu**nu/sc.gamma(nu)*(x**(2*nu-1.0))*np.exp(-nu*x*x)\n"
     ]
    },
    {
     "name": "stdout",
     "output_type": "stream",
     "text": [
      "Fitted nakagami distribution with error=0.03387721197796434)\n",
      "SKIPPED ncf distribution (taking more than 120 seconds)\n",
      "SKIPPED nct distribution (taking more than 120 seconds)\n",
      "SKIPPED ncx2 distribution (taking more than 120 seconds)\n",
      "Fitted norm distribution with error=0.11233981994140017)\n",
      "Fitted pareto distribution with error=0.15401531833499327)\n",
      "Fitted pearson3 distribution with error=0.010367994883011348)\n",
      "Fitted powerlaw distribution with error=0.05501177463903262)\n"
     ]
    },
    {
     "name": "stderr",
     "output_type": "stream",
     "text": [
      "/Users/jackson.kontny/.pyenv/versions/anaconda3-5.0.1/lib/python3.6/site-packages/scipy/stats/_continuous_distns.py:4289: RuntimeWarning: divide by zero encountered in power\n",
      "  pow(_norm_cdf(-np.log(x)/s), c*1.0-1.0))\n",
      "/Users/jackson.kontny/.pyenv/versions/anaconda3-5.0.1/lib/python3.6/site-packages/scipy/stats/_continuous_distns.py:4289: RuntimeWarning: invalid value encountered in multiply\n",
      "  pow(_norm_cdf(-np.log(x)/s), c*1.0-1.0))\n",
      "/Users/jackson.kontny/.pyenv/versions/anaconda3-5.0.1/lib/python3.6/site-packages/scipy/stats/_continuous_distns.py:4289: RuntimeWarning: overflow encountered in power\n",
      "  pow(_norm_cdf(-np.log(x)/s), c*1.0-1.0))\n"
     ]
    },
    {
     "name": "stdout",
     "output_type": "stream",
     "text": [
      "SKIPPED powerlognorm distribution (taking more than 120 seconds)\n"
     ]
    },
    {
     "name": "stderr",
     "output_type": "stream",
     "text": [
      "/Users/jackson.kontny/.pyenv/versions/anaconda3-5.0.1/lib/python3.6/site-packages/scipy/stats/_continuous_distns.py:4321: RuntimeWarning: divide by zero encountered in power\n",
      "  return c*_norm_pdf(x) * (_norm_cdf(-x)**(c-1.0))\n",
      "/Users/jackson.kontny/.pyenv/versions/anaconda3-5.0.1/lib/python3.6/site-packages/scipy/stats/_continuous_distns.py:4321: RuntimeWarning: invalid value encountered in multiply\n",
      "  return c*_norm_pdf(x) * (_norm_cdf(-x)**(c-1.0))\n"
     ]
    },
    {
     "name": "stdout",
     "output_type": "stream",
     "text": [
      "Fitted powernorm distribution with error=nan)\n",
      "Fitted rayleigh distribution with error=0.10308129033824906)\n"
     ]
    },
    {
     "name": "stderr",
     "output_type": "stream",
     "text": [
      "/Users/jackson.kontny/.pyenv/versions/anaconda3-5.0.1/lib/python3.6/site-packages/scipy/stats/_continuous_distns.py:4355: RuntimeWarning: divide by zero encountered in power\n",
      "  return np.power((1.0 - x**2), c / 2.0 - 1) / sc.beta(0.5, c / 2.0)\n"
     ]
    },
    {
     "name": "stdout",
     "output_type": "stream",
     "text": [
      "Fitted rdist distribution with error=0.07695482350536828)\n",
      "Fitted recipinvgauss distribution with error=0.03525660148478284)\n",
      "Fitted reciprocal distribution with error=0.15667791352704932)\n",
      "Fitted rice distribution with error=0.10308110931266959)\n",
      "SKIPPED rv_continuous distribution (taking more than 120 seconds)\n",
      "SKIPPED rv_histogram distribution (taking more than 120 seconds)\n"
     ]
    },
    {
     "name": "stderr",
     "output_type": "stream",
     "text": [
      "/Users/jackson.kontny/.pyenv/versions/anaconda3-5.0.1/lib/python3.6/site-packages/scipy/stats/_distn_infrastructure.py:1612: RuntimeWarning: divide by zero encountered in log\n",
      "  return log(self._pdf(x, *args))\n"
     ]
    },
    {
     "name": "stdout",
     "output_type": "stream",
     "text": [
      "Fitted semicircular distribution with error=0.1272002568483413)\n",
      "Fitted skewnorm distribution with error=0.08785209587883568)\n",
      "Fitted t distribution with error=0.01496053920762293)\n"
     ]
    },
    {
     "name": "stderr",
     "output_type": "stream",
     "text": [
      "/Users/jackson.kontny/.pyenv/versions/anaconda3-5.0.1/lib/python3.6/site-packages/scipy/stats/_continuous_distns.py:4693: RuntimeWarning: divide by zero encountered in true_divide\n",
      "  choicelist = [u * x / c, u, u * (1 - x) / (1 - d)]\n"
     ]
    },
    {
     "name": "stdout",
     "output_type": "stream",
     "text": [
      "Fitted trapz distribution with error=0.15682666097526782)\n"
     ]
    },
    {
     "name": "stderr",
     "output_type": "stream",
     "text": [
      "/Users/jackson.kontny/.pyenv/versions/anaconda3-5.0.1/lib/python3.6/site-packages/scipy/stats/_continuous_distns.py:4742: RuntimeWarning: divide by zero encountered in true_divide\n",
      "  return np.where(x < c, 2*x/c, 2*(1-x)/(1-c))\n"
     ]
    },
    {
     "name": "stdout",
     "output_type": "stream",
     "text": [
      "Fitted triang distribution with error=0.10183868557383444)\n",
      "Fitted truncexpon distribution with error=0.10350090929241025)\n"
     ]
    },
    {
     "name": "stderr",
     "output_type": "stream",
     "text": [
      "/Users/jackson.kontny/.pyenv/versions/anaconda3-5.0.1/lib/python3.6/site-packages/scipy/stats/_continuous_distns.py:4846: RuntimeWarning: divide by zero encountered in log\n",
      "  self._logdelta = np.log(self._delta)\n",
      "/Users/jackson.kontny/.pyenv/versions/anaconda3-5.0.1/lib/python3.6/site-packages/scipy/stats/_continuous_distns.py:4846: RuntimeWarning: invalid value encountered in log\n",
      "  self._logdelta = np.log(self._delta)\n"
     ]
    },
    {
     "name": "stdout",
     "output_type": "stream",
     "text": [
      "Fitted truncnorm distribution with error=0.15667791352704932)\n"
     ]
    },
    {
     "name": "stderr",
     "output_type": "stream",
     "text": [
      "/Users/jackson.kontny/.pyenv/versions/anaconda3-5.0.1/lib/python3.6/site-packages/scipy/stats/_continuous_distns.py:4904: RuntimeWarning: divide by zero encountered in power\n",
      "  Px = Fx**(lam-1.0) + (np.asarray(1-Fx))**(lam-1.0)\n",
      "/Users/jackson.kontny/.pyenv/versions/anaconda3-5.0.1/lib/python3.6/site-packages/scipy/stats/_continuous_distns.py:3919: RuntimeWarning: overflow encountered in multiply\n",
      "  trm1 = np.sqrt(2)*nc*x*sc.hyp1f1(n/2+1, 1.5, valF)\n"
     ]
    },
    {
     "name": "stdout",
     "output_type": "stream",
     "text": [
      "SKIPPED tukeylambda distribution (taking more than 120 seconds)\n",
      "Fitted uniform distribution with error=0.12334458019542212)\n",
      "Fitted vonmises distribution with error=8.052375684787686)\n",
      "Fitted vonmises_line distribution with error=0.20507657434695578)\n",
      "Fitted wald distribution with error=0.026417087536693026)\n",
      "Fitted weibull_max distribution with error=0.18661478816313398)\n",
      "Fitted weibull_min distribution with error=0.08309278415994552)\n",
      "Fitted wrapcauchy distribution with error=nan)\n"
     ]
    },
    {
     "name": "stderr",
     "output_type": "stream",
     "text": [
      "/Users/jackson.kontny/.pyenv/versions/anaconda3-5.0.1/lib/python3.6/site-packages/scipy/optimize/optimize.py:528: RuntimeWarning: invalid value encountered in subtract\n",
      "  numpy.max(numpy.abs(fsim[0] - fsim[1:])) <= fatol):\n"
     ]
    },
    {
     "data": {
      "image/png": "[encoded data removed]",
      "text/plain": [
       "<matplotlib.figure.Figure at 0x1a11525f98>"
      ]
     },
     "metadata": {},
     "output_type": "display_data"
    }
   ],
   "source": [
    "fig = plt.figure(figsize=(10, 10))\n",
    "f = Fitter(\n",
    "    clipped_interactions,\n",
    "    # distributions=['betaprime', 'halfgennorm', 'kappa3', 'bradford', 'lognorm', 'powerlaw'],\n",
    "    bins=30,\n",
    "    xmin=1,\n",
    "    xmax=31,\n",
    "    timeout=120,\n",
    ")\n",
    "f.fit()\n",
    "f.summary()\n",
    "plt.show()"
   ]
  },
  {
   "cell_type": "code",
   "execution_count": 35,
   "metadata": {},
   "outputs": [
    {
     "data": {
      "image/png": "[encoded data removed]",
      "text/plain": [
       "<matplotlib.figure.Figure at 0x1a17aea2b0>"
      ]
     },
     "metadata": {},
     "output_type": "display_data"
    },
    {
     "name": "stdout",
     "output_type": "stream",
     "text": [
      "0.343157359972\n",
      "0.315549262012 1.0 0.0484512896077\n"
     ]
    }
   ],
   "source": [
    "shape, loc, scale = f.fitted_param['halfgennorm']\n",
    "x = np.linspace(halfgennorm.ppf(0.01, *f.fitted_param['halfgennorm']),\n",
    "                halfgennorm.ppf(0.99, *f.fitted_param['halfgennorm']), 100)\n",
    "plt.plot(x - loc, halfgennorm.pdf(x, *f.fitted_param['halfgennorm']),\n",
    "       'r-', lw=1, alpha=0.6, label='lognorm pdf')\n",
    "plt.show()\n",
    "print(halfgennorm.pdf(1.5, *f.fitted_param['halfgennorm']))\n",
    "print(shape, loc, scale)"
   ]
  },
  {
   "cell_type": "code",
   "execution_count": 40,
   "metadata": {},
   "outputs": [
    {
     "ename": "AttributeError",
     "evalue": "module 'seaborn' has no attribute 'set_title'",
     "output_type": "error",
     "traceback": [
      "\u001b[0;31m---------------------------------------------------------------------------\u001b[0m",
      "\u001b[0;31mAttributeError\u001b[0m                            Traceback (most recent call last)",
      "\u001b[0;32m<ipython-input-40-bdaed82f9728>\u001b[0m in \u001b[0;36m<module>\u001b[0;34m()\u001b[0m\n\u001b[1;32m      6\u001b[0m \u001b[0mfig\u001b[0m \u001b[0;34m=\u001b[0m \u001b[0mplt\u001b[0m\u001b[0;34m.\u001b[0m\u001b[0mfigure\u001b[0m\u001b[0;34m(\u001b[0m\u001b[0mfigsize\u001b[0m\u001b[0;34m=\u001b[0m\u001b[0;34m(\u001b[0m\u001b[0;36m10\u001b[0m\u001b[0;34m,\u001b[0m \u001b[0;36m10\u001b[0m\u001b[0;34m)\u001b[0m\u001b[0;34m)\u001b[0m\u001b[0;34m\u001b[0m\u001b[0m\n\u001b[1;32m      7\u001b[0m \u001b[0msns\u001b[0m\u001b[0;34m.\u001b[0m\u001b[0mdistplot\u001b[0m\u001b[0;34m(\u001b[0m\u001b[0mclipped_interactions\u001b[0m\u001b[0;34m,\u001b[0m \u001b[0mbins\u001b[0m\u001b[0;34m=\u001b[0m\u001b[0;36m30\u001b[0m\u001b[0;34m)\u001b[0m\u001b[0;34m\u001b[0m\u001b[0m\n\u001b[0;32m----> 8\u001b[0;31m \u001b[0msns\u001b[0m\u001b[0;34m.\u001b[0m\u001b[0mset_title\u001b[0m\u001b[0;34m(\u001b[0m\u001b[0;34m'Lognorm PDF'\u001b[0m\u001b[0;34m)\u001b[0m\u001b[0;34m\u001b[0m\u001b[0m\n\u001b[0m\u001b[1;32m      9\u001b[0m \u001b[0msns\u001b[0m\u001b[0;34m.\u001b[0m\u001b[0mset\u001b[0m\u001b[0;34m(\u001b[0m\u001b[0mxlabel\u001b[0m\u001b[0;34m=\u001b[0m\u001b[0;34m'Interaction Count'\u001b[0m\u001b[0;34m,\u001b[0m \u001b[0mylabel\u001b[0m\u001b[0;34m=\u001b[0m\u001b[0;34m'Percent'\u001b[0m\u001b[0;34m)\u001b[0m\u001b[0;34m\u001b[0m\u001b[0m\n\u001b[1;32m     10\u001b[0m \u001b[0ms\u001b[0m \u001b[0;34m=\u001b[0m \u001b[0;36m1.46\u001b[0m\u001b[0;34m\u001b[0m\u001b[0m\n",
      "\u001b[0;31mAttributeError\u001b[0m: module 'seaborn' has no attribute 'set_title'"
     ]
    },
    {
     "name": "stderr",
     "output_type": "stream",
     "text": [
      "/Users/jackson.kontny/.pyenv/versions/anaconda3-5.0.1/lib/python3.6/site-packages/scipy/stats/_distn_infrastructure.py:1612: RuntimeWarning: divide by zero encountered in log\n",
      "  return log(self._pdf(x, *args))\n",
      "/Users/jackson.kontny/.pyenv/versions/anaconda3-5.0.1/lib/python3.6/site-packages/scipy/stats/_continuous_distns.py:3919: RuntimeWarning: overflow encountered in multiply\n",
      "  trm1 = np.sqrt(2)*nc*x*sc.hyp1f1(n/2+1, 1.5, valF)\n",
      "/Users/jackson.kontny/.pyenv/versions/anaconda3-5.0.1/lib/python3.6/site-packages/scipy/stats/_distn_infrastructure.py:1612: RuntimeWarning: invalid value encountered in log\n",
      "  return log(self._pdf(x, *args))\n"
     ]
    }
   ],
   "source": [
    "\"\"\"\n",
    "The 'fit' function does not appear to work well with the lognormal distribution.  After trial and error, it appears\n",
    "that a value close to 1.46 fits our distribution quite well.\n",
    "\"\"\"\n",
    "\n",
    "fig = plt.figure(figsize=(10, 10))\n",
    "sns.distplot(clipped_interactions, bins=30)\n",
    "sns.set_title('Lognorm PDF')\n",
    "sns.set(xlabel='Interaction Count', ylabel='Percent')\n",
    "s = 1.46\n",
    "x = np.linspace(lognorm.ppf(0.01, s),\n",
    "                lognorm.ppf(0.99, s), 100)\n",
    "plt.plot(x, lognorm.pdf(x, s),\n",
    "       'r-', lw=1, alpha=0.6, label='lognorm pdf')\n",
    "plt.show()"
   ]
  },
  {
   "cell_type": "code",
   "execution_count": 12,
   "metadata": {
    "collapsed": true
   },
   "outputs": [],
   "source": [
    "delta = .001\n",
    "lognorm_dist = lognorm(s)\n",
    "upper_lognorm_dist = lognorm(s + delta)\n",
    "lower_lognorm_dist = lognorm(s - delta)"
   ]
  },
  {
   "cell_type": "code",
   "execution_count": 13,
   "metadata": {},
   "outputs": [
    {
     "name": "stdout",
     "output_type": "stream",
     "text": [
      "0.273061109104\n",
      "0.273435421797\n",
      "0.273248137261\n",
      "0.273248265451\n"
     ]
    }
   ],
   "source": [
    "upper_prob = upper_lognorm_dist.pdf(1)\n",
    "lower_prob = lower_lognorm_dist.pdf(1)\n",
    "print(upper_lognorm_dist.pdf(1))\n",
    "print(lower_lognorm_dist.pdf(1))\n",
    "print(lognorm_dist.pdf(1))\n",
    "print((upper_prob + lower_prob) / 2)"
   ]
  },
  {
   "cell_type": "code",
   "execution_count": 19,
   "metadata": {},
   "outputs": [
    {
     "data": {
      "image/png": "[encoded data removed]",
      "text/plain": [
       "<matplotlib.figure.Figure at 0x1078e45c0>"
      ]
     },
     "metadata": {},
     "output_type": "display_data"
    }
   ],
   "source": [
    "\"\"\"\n",
    "If we adjust the 's' parameter - or the variance in the distribution, we see that we can create two sets of user \n",
    "distributions - one in which users are more likely to click more, another in which users are more likely to click\n",
    "less.  Still, from the results above, we see that the two distributions do not average out to the old distribution.\n",
    "Our goal is for the two distributions to SUM to the original distribution.  The math for a lognormal distribution\n",
    "is a little tricky, suggesting a power law distributuion would be best suited for this challenge.\n",
    "\"\"\"\n",
    "\n",
    "fig = plt.figure(figsize=(10, 10))\n",
    "\n",
    "sns.distplot(clipped_interactions, bins=30)\n",
    "\n",
    "delta = .5\n",
    "s = 1.46\n",
    "\n",
    "x = np.linspace(lognorm.ppf(0.01, s),\n",
    "                lognorm.ppf(0.99, s), 100)\n",
    "plt.plot(x, lognorm.pdf(x, s + delta),\n",
    "       'r-', lw=1, alpha=0.6, label='upper lognorm pdf')\n",
    "\n",
    "plt.plot(x, lognorm.pdf(x, s - delta),\n",
    "       'r-', lw=1, alpha=0.6, label='lower lognorm pdf')\n",
    "\n",
    "\n",
    "plt.show()"
   ]
  },
  {
   "cell_type": "code",
   "execution_count": 21,
   "metadata": {},
   "outputs": [
    {
     "name": "stdout",
     "output_type": "stream",
     "text": [
      "Fitted powerlaw distribution with error=0.04763707356736405)\n",
      "Fitted exponpow distribution with error=0.052533314795307644)\n"
     ]
    },
    {
     "name": "stderr",
     "output_type": "stream",
     "text": [
      "/Users/jackson.kontny/.pyenv/versions/anaconda3-5.0.1/lib/python3.6/site-packages/scipy/stats/_continuous_distns.py:4289: RuntimeWarning: divide by zero encountered in power\n",
      "  pow(_norm_cdf(-np.log(x)/s), c*1.0-1.0))\n",
      "/Users/jackson.kontny/.pyenv/versions/anaconda3-5.0.1/lib/python3.6/site-packages/scipy/stats/_continuous_distns.py:4289: RuntimeWarning: invalid value encountered in multiply\n",
      "  pow(_norm_cdf(-np.log(x)/s), c*1.0-1.0))\n",
      "/Users/jackson.kontny/.pyenv/versions/anaconda3-5.0.1/lib/python3.6/site-packages/scipy/stats/_continuous_distns.py:4289: RuntimeWarning: overflow encountered in power\n",
      "  pow(_norm_cdf(-np.log(x)/s), c*1.0-1.0))\n"
     ]
    },
    {
     "name": "stdout",
     "output_type": "stream",
     "text": [
      "Fitted powerlognorm distribution with error=0.00811842952326976)\n"
     ]
    },
    {
     "name": "stderr",
     "output_type": "stream",
     "text": [
      "/Users/jackson.kontny/.pyenv/versions/anaconda3-5.0.1/lib/python3.6/site-packages/scipy/stats/_continuous_distns.py:4321: RuntimeWarning: divide by zero encountered in power\n",
      "  return c*_norm_pdf(x) * (_norm_cdf(-x)**(c-1.0))\n",
      "/Users/jackson.kontny/.pyenv/versions/anaconda3-5.0.1/lib/python3.6/site-packages/scipy/stats/_continuous_distns.py:4321: RuntimeWarning: invalid value encountered in multiply\n",
      "  return c*_norm_pdf(x) * (_norm_cdf(-x)**(c-1.0))\n"
     ]
    },
    {
     "name": "stdout",
     "output_type": "stream",
     "text": [
      "Fitted powernorm distribution with error=nan)\n"
     ]
    },
    {
     "data": {
      "image/png": "[encoded data removed]",
      "text/plain": [
       "<matplotlib.figure.Figure at 0x1a0f2de3c8>"
      ]
     },
     "metadata": {},
     "output_type": "display_data"
    }
   ],
   "source": [
    "fig = plt.figure(figsize=(10, 10))\n",
    "power_fit = Fitter(\n",
    "    clipped_interactions,\n",
    "    distributions=['powerlaw', 'exponpow', 'powerlognorm', 'powernorm'],\n",
    "    bins=30,\n",
    "    xmin=1,\n",
    "    xmax=30,\n",
    "    timeout=120,\n",
    ")\n",
    "power_fit.fit()\n",
    "power_fit.summary()\n",
    "plt.show()"
   ]
  },
  {
   "cell_type": "code",
   "execution_count": 24,
   "metadata": {},
   "outputs": [
    {
     "name": "stdout",
     "output_type": "stream",
     "text": [
      "(0.19800766486970767, 0.99999999999999978, 30.42432545082707)\n"
     ]
    }
   ],
   "source": [
    "\"\"\"\n",
    "We see that a is close to .2, the axis is adjusted by one (which makes sense because we have no 0 values), and scale\n",
    "is adjusted by a factor of 30\n",
    "\"\"\"\n",
    "\n",
    "powerlaw_params = power_fit.fitted_param['powerlaw']\n",
    "print(powerlaw_params)\n",
    "pl_a, pl_loc, pl_scale = powerlaw_params"
   ]
  },
  {
   "cell_type": "code",
   "execution_count": 33,
   "metadata": {},
   "outputs": [
    {
     "data": {
      "image/png": "[encoded data removed]",
      "text/plain": [
       "<matplotlib.figure.Figure at 0x1a0ffd6fd0>"
      ]
     },
     "metadata": {},
     "output_type": "display_data"
    }
   ],
   "source": [
    "# Lets make sure we can plot this correctoy\n",
    "sns.distplot(clipped_interactions, bins=30)\n",
    "x = np.linspace(1, 30, 100)\n",
    "plt.plot(x, powerlaw.pdf(x, *powerlaw_params),\n",
    "       'r-', lw=1, alpha=0.6, label='upper lognorm pdf')\n",
    "\n",
    "plt.show()"
   ]
  },
  {
   "cell_type": "code",
   "execution_count": 34,
   "metadata": {},
   "outputs": [
    {
     "data": {
      "image/png": "[encoded data removed]",
      "text/plain": [
       "<matplotlib.figure.Figure at 0x1a0ee2ec18>"
      ]
     },
     "metadata": {},
     "output_type": "display_data"
    }
   ],
   "source": [
    "\"\"\"\n",
    "This graph shows it is fine to generalize with 0.2 for the exponent and 30 for the scale parameter.  We need to use\n",
    ".99999 instead of 1 for loc parameter because 1 will result in a divide by 0 error.\n",
    "\"\"\"\n",
    "sns.distplot(clipped_interactions, bins=30)\n",
    "x = np.linspace(1, 30, 100)\n",
    "plt.plot(x, powerlaw.pdf(x, .2, .999999999, 30),\n",
    "       'r-', lw=1, alpha=0.6, label='upper lognorm pdf')\n",
    "\n",
    "plt.show()"
   ]
  }
 ],
 "metadata": {
  "kernelspec": {
   "display_name": "Python 3",
   "language": "python",
   "name": "python3"
  },
  "language_info": {
   "codemirror_mode": {
    "name": "ipython",
    "version": 3
   },
   "file_extension": ".py",
   "mimetype": "text/x-python",
   "name": "python",
   "nbconvert_exporter": "python",
   "pygments_lexer": "ipython3",
   "version": "3.6.3"
  }
 },
 "nbformat": 4,
 "nbformat_minor": 2
}
