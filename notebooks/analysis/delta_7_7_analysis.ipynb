{
 "cells": [
  {
   "cell_type": "code",
   "execution_count": 2,
   "metadata": {
    "collapsed": true
   },
   "outputs": [],
   "source": [
    "import pandas as pd\n",
    "import seaborn as sns\n",
    "from scipy.stats import halfgennorm\n",
    "import numpy as np\n",
    "from math import log\n",
    "from random import random\n",
    "import seaborn as sns\n",
    "import matplotlib.pyplot as plt"
   ]
  },
  {
   "cell_type": "code",
   "execution_count": 3,
   "metadata": {
    "collapsed": true
   },
   "outputs": [],
   "source": [
    "\"\"\"\n",
    "This is the state of the data from where we left off in 'distribution_analysis'\n",
    "\n",
    "The analysis showed that clipping the distribution between 1 and 30 clicks allowed the best fit using the\n",
    "powerlaw distribution.\n",
    "\"\"\"\n",
    "original_df = pd.read_csv('data/original/fm_interactions.csv', delimiter='\\t')\n",
    "interaction_df = original_df[original_df['interaction_type'].isin([1, 2, 3])]\n",
    "user_group = interaction_df.groupby(['user_id'])\n",
    "user_interaction_count = user_group['item_id'].count()\n",
    "clipped_interactions = user_interaction_count.clip(1, 31)\n",
    "user_df = clipped_interactions.to_frame()\n",
    "user_df.columns = ['interaction_count']\n",
    "user_df.head()\n",
    "\n",
    "distribution_df = pd.read_csv('data/synthetic/piecewise_lambda_7_to_7.csv', delimiter=',')\n",
    "users_df = pd.read_csv('data/original/users.csv', delimiter='\\t')"
   ]
  },
  {
   "cell_type": "code",
   "execution_count": 4,
   "metadata": {},
   "outputs": [
    {
     "data": {
      "text/html": [
       "<div>\n",
       "<style>\n",
       "    .dataframe thead tr:only-child th {\n",
       "        text-align: right;\n",
       "    }\n",
       "\n",
       "    .dataframe thead th {\n",
       "        text-align: left;\n",
       "    }\n",
       "\n",
       "    .dataframe tbody tr th {\n",
       "        vertical-align: top;\n",
       "    }\n",
       "</style>\n",
       "<table border=\"1\" class=\"dataframe\">\n",
       "  <thead>\n",
       "    <tr style=\"text-align: right;\">\n",
       "      <th></th>\n",
       "      <th>interaction_count</th>\n",
       "      <th>user_id</th>\n",
       "      <th>prob_a</th>\n",
       "      <th>is_a</th>\n",
       "    </tr>\n",
       "  </thead>\n",
       "  <tbody>\n",
       "    <tr>\n",
       "      <th>0</th>\n",
       "      <td>6</td>\n",
       "      <td>9</td>\n",
       "      <td>0.842263</td>\n",
       "      <td>True</td>\n",
       "    </tr>\n",
       "    <tr>\n",
       "      <th>1</th>\n",
       "      <td>6</td>\n",
       "      <td>19</td>\n",
       "      <td>0.842263</td>\n",
       "      <td>True</td>\n",
       "    </tr>\n",
       "    <tr>\n",
       "      <th>2</th>\n",
       "      <td>6</td>\n",
       "      <td>305</td>\n",
       "      <td>0.842263</td>\n",
       "      <td>True</td>\n",
       "    </tr>\n",
       "    <tr>\n",
       "      <th>3</th>\n",
       "      <td>6</td>\n",
       "      <td>426</td>\n",
       "      <td>0.842263</td>\n",
       "      <td>True</td>\n",
       "    </tr>\n",
       "    <tr>\n",
       "      <th>4</th>\n",
       "      <td>6</td>\n",
       "      <td>619</td>\n",
       "      <td>0.842263</td>\n",
       "      <td>True</td>\n",
       "    </tr>\n",
       "  </tbody>\n",
       "</table>\n",
       "</div>"
      ],
      "text/plain": [
       "   interaction_count  user_id    prob_a  is_a\n",
       "0                  6        9  0.842263  True\n",
       "1                  6       19  0.842263  True\n",
       "2                  6      305  0.842263  True\n",
       "3                  6      426  0.842263  True\n",
       "4                  6      619  0.842263  True"
      ]
     },
     "execution_count": 4,
     "metadata": {},
     "output_type": "execute_result"
    }
   ],
   "source": [
    "distribution_df.head()"
   ]
  },
  {
   "cell_type": "code",
   "execution_count": 5,
   "metadata": {},
   "outputs": [
    {
     "data": {
      "text/html": [
       "<div>\n",
       "<style>\n",
       "    .dataframe thead tr:only-child th {\n",
       "        text-align: right;\n",
       "    }\n",
       "\n",
       "    .dataframe thead th {\n",
       "        text-align: left;\n",
       "    }\n",
       "\n",
       "    .dataframe tbody tr th {\n",
       "        vertical-align: top;\n",
       "    }\n",
       "</style>\n",
       "<table border=\"1\" class=\"dataframe\">\n",
       "  <thead>\n",
       "    <tr style=\"text-align: right;\">\n",
       "      <th></th>\n",
       "      <th>recsyschallenge_v2017_users_final_anonym_export_unique.id</th>\n",
       "      <th>recsyschallenge_v2017_users_final_anonym_export_unique.jobroles</th>\n",
       "      <th>recsyschallenge_v2017_users_final_anonym_export_unique.career_level</th>\n",
       "      <th>recsyschallenge_v2017_users_final_anonym_export_unique.discipline_id</th>\n",
       "      <th>recsyschallenge_v2017_users_final_anonym_export_unique.industry_id</th>\n",
       "      <th>recsyschallenge_v2017_users_final_anonym_export_unique.country</th>\n",
       "      <th>recsyschallenge_v2017_users_final_anonym_export_unique.region</th>\n",
       "      <th>recsyschallenge_v2017_users_final_anonym_export_unique.experience_n_entries_class</th>\n",
       "      <th>recsyschallenge_v2017_users_final_anonym_export_unique.experience_years_experience</th>\n",
       "      <th>recsyschallenge_v2017_users_final_anonym_export_unique.experience_years_in_current</th>\n",
       "      <th>recsyschallenge_v2017_users_final_anonym_export_unique.edu_degree</th>\n",
       "      <th>recsyschallenge_v2017_users_final_anonym_export_unique.edu_fieldofstudies</th>\n",
       "      <th>recsyschallenge_v2017_users_final_anonym_export_unique.wtcj</th>\n",
       "      <th>recsyschallenge_v2017_users_final_anonym_export_unique.premium</th>\n",
       "    </tr>\n",
       "  </thead>\n",
       "  <tbody>\n",
       "    <tr>\n",
       "      <th>0</th>\n",
       "      <td>30</td>\n",
       "      <td>2551922</td>\n",
       "      <td>3</td>\n",
       "      <td>0</td>\n",
       "      <td>0</td>\n",
       "      <td>de</td>\n",
       "      <td>0</td>\n",
       "      <td>1</td>\n",
       "      <td>3</td>\n",
       "      <td>1</td>\n",
       "      <td>2</td>\n",
       "      <td>2</td>\n",
       "      <td>1</td>\n",
       "      <td>0</td>\n",
       "    </tr>\n",
       "    <tr>\n",
       "      <th>1</th>\n",
       "      <td>50</td>\n",
       "      <td>4375874,3415336,2152789,1431010</td>\n",
       "      <td>3</td>\n",
       "      <td>4</td>\n",
       "      <td>15</td>\n",
       "      <td>de</td>\n",
       "      <td>7</td>\n",
       "      <td>3</td>\n",
       "      <td>4</td>\n",
       "      <td>1</td>\n",
       "      <td>2</td>\n",
       "      <td>5,8</td>\n",
       "      <td>1</td>\n",
       "      <td>0</td>\n",
       "    </tr>\n",
       "    <tr>\n",
       "      <th>2</th>\n",
       "      <td>70</td>\n",
       "      <td>851763,2070276</td>\n",
       "      <td>3</td>\n",
       "      <td>17</td>\n",
       "      <td>4</td>\n",
       "      <td>de</td>\n",
       "      <td>2</td>\n",
       "      <td>2</td>\n",
       "      <td>7</td>\n",
       "      <td>2</td>\n",
       "      <td>0</td>\n",
       "      <td>NaN</td>\n",
       "      <td>1</td>\n",
       "      <td>0</td>\n",
       "    </tr>\n",
       "    <tr>\n",
       "      <th>3</th>\n",
       "      <td>90</td>\n",
       "      <td>2139882,2177068,1520218,3113130,399936</td>\n",
       "      <td>0</td>\n",
       "      <td>0</td>\n",
       "      <td>0</td>\n",
       "      <td>de</td>\n",
       "      <td>0</td>\n",
       "      <td>1</td>\n",
       "      <td>0</td>\n",
       "      <td>0</td>\n",
       "      <td>0</td>\n",
       "      <td>NaN</td>\n",
       "      <td>0</td>\n",
       "      <td>0</td>\n",
       "    </tr>\n",
       "    <tr>\n",
       "      <th>4</th>\n",
       "      <td>100</td>\n",
       "      <td>233434,3142896,3836967,987884</td>\n",
       "      <td>3</td>\n",
       "      <td>0</td>\n",
       "      <td>16</td>\n",
       "      <td>non_dach</td>\n",
       "      <td>0</td>\n",
       "      <td>3</td>\n",
       "      <td>5</td>\n",
       "      <td>5</td>\n",
       "      <td>0</td>\n",
       "      <td>NaN</td>\n",
       "      <td>0</td>\n",
       "      <td>0</td>\n",
       "    </tr>\n",
       "  </tbody>\n",
       "</table>\n",
       "</div>"
      ],
      "text/plain": [
       "   recsyschallenge_v2017_users_final_anonym_export_unique.id  \\\n",
       "0                                                 30           \n",
       "1                                                 50           \n",
       "2                                                 70           \n",
       "3                                                 90           \n",
       "4                                                100           \n",
       "\n",
       "  recsyschallenge_v2017_users_final_anonym_export_unique.jobroles  \\\n",
       "0                                            2551922                \n",
       "1                    4375874,3415336,2152789,1431010                \n",
       "2                                     851763,2070276                \n",
       "3             2139882,2177068,1520218,3113130,399936                \n",
       "4                      233434,3142896,3836967,987884                \n",
       "\n",
       "   recsyschallenge_v2017_users_final_anonym_export_unique.career_level  \\\n",
       "0                                                  3                     \n",
       "1                                                  3                     \n",
       "2                                                  3                     \n",
       "3                                                  0                     \n",
       "4                                                  3                     \n",
       "\n",
       "   recsyschallenge_v2017_users_final_anonym_export_unique.discipline_id  \\\n",
       "0                                                  0                      \n",
       "1                                                  4                      \n",
       "2                                                 17                      \n",
       "3                                                  0                      \n",
       "4                                                  0                      \n",
       "\n",
       "   recsyschallenge_v2017_users_final_anonym_export_unique.industry_id  \\\n",
       "0                                                  0                    \n",
       "1                                                 15                    \n",
       "2                                                  4                    \n",
       "3                                                  0                    \n",
       "4                                                 16                    \n",
       "\n",
       "  recsyschallenge_v2017_users_final_anonym_export_unique.country  \\\n",
       "0                                                 de               \n",
       "1                                                 de               \n",
       "2                                                 de               \n",
       "3                                                 de               \n",
       "4                                           non_dach               \n",
       "\n",
       "   recsyschallenge_v2017_users_final_anonym_export_unique.region  \\\n",
       "0                                                  0               \n",
       "1                                                  7               \n",
       "2                                                  2               \n",
       "3                                                  0               \n",
       "4                                                  0               \n",
       "\n",
       "   recsyschallenge_v2017_users_final_anonym_export_unique.experience_n_entries_class  \\\n",
       "0                                                  1                                   \n",
       "1                                                  3                                   \n",
       "2                                                  2                                   \n",
       "3                                                  1                                   \n",
       "4                                                  3                                   \n",
       "\n",
       "   recsyschallenge_v2017_users_final_anonym_export_unique.experience_years_experience  \\\n",
       "0                                                  3                                    \n",
       "1                                                  4                                    \n",
       "2                                                  7                                    \n",
       "3                                                  0                                    \n",
       "4                                                  5                                    \n",
       "\n",
       "   recsyschallenge_v2017_users_final_anonym_export_unique.experience_years_in_current  \\\n",
       "0                                                  1                                    \n",
       "1                                                  1                                    \n",
       "2                                                  2                                    \n",
       "3                                                  0                                    \n",
       "4                                                  5                                    \n",
       "\n",
       "   recsyschallenge_v2017_users_final_anonym_export_unique.edu_degree  \\\n",
       "0                                                  2                   \n",
       "1                                                  2                   \n",
       "2                                                  0                   \n",
       "3                                                  0                   \n",
       "4                                                  0                   \n",
       "\n",
       "  recsyschallenge_v2017_users_final_anonym_export_unique.edu_fieldofstudies  \\\n",
       "0                                                  2                          \n",
       "1                                                5,8                          \n",
       "2                                                NaN                          \n",
       "3                                                NaN                          \n",
       "4                                                NaN                          \n",
       "\n",
       "   recsyschallenge_v2017_users_final_anonym_export_unique.wtcj  \\\n",
       "0                                                  1             \n",
       "1                                                  1             \n",
       "2                                                  1             \n",
       "3                                                  0             \n",
       "4                                                  0             \n",
       "\n",
       "   recsyschallenge_v2017_users_final_anonym_export_unique.premium  \n",
       "0                                                  0               \n",
       "1                                                  0               \n",
       "2                                                  0               \n",
       "3                                                  0               \n",
       "4                                                  0               "
      ]
     },
     "execution_count": 5,
     "metadata": {},
     "output_type": "execute_result"
    }
   ],
   "source": [
    "users_df.head()"
   ]
  },
  {
   "cell_type": "code",
   "execution_count": 6,
   "metadata": {},
   "outputs": [
    {
     "data": {
      "text/html": [
       "<div>\n",
       "<style>\n",
       "    .dataframe thead tr:only-child th {\n",
       "        text-align: right;\n",
       "    }\n",
       "\n",
       "    .dataframe thead th {\n",
       "        text-align: left;\n",
       "    }\n",
       "\n",
       "    .dataframe tbody tr th {\n",
       "        vertical-align: top;\n",
       "    }\n",
       "</style>\n",
       "<table border=\"1\" class=\"dataframe\">\n",
       "  <thead>\n",
       "    <tr style=\"text-align: right;\">\n",
       "      <th></th>\n",
       "      <th>id</th>\n",
       "      <th>jobroles</th>\n",
       "      <th>career_level</th>\n",
       "      <th>discipline_id</th>\n",
       "      <th>industry_id</th>\n",
       "      <th>country</th>\n",
       "      <th>region</th>\n",
       "      <th>experience_n_entries_class</th>\n",
       "      <th>years_experience</th>\n",
       "      <th>years_in_current</th>\n",
       "      <th>edu_degree</th>\n",
       "      <th>field_of_studies</th>\n",
       "      <th>wtcj</th>\n",
       "      <th>premium</th>\n",
       "    </tr>\n",
       "  </thead>\n",
       "  <tbody>\n",
       "    <tr>\n",
       "      <th>0</th>\n",
       "      <td>30</td>\n",
       "      <td>2551922</td>\n",
       "      <td>3</td>\n",
       "      <td>0</td>\n",
       "      <td>0</td>\n",
       "      <td>de</td>\n",
       "      <td>0</td>\n",
       "      <td>1</td>\n",
       "      <td>3</td>\n",
       "      <td>1</td>\n",
       "      <td>2</td>\n",
       "      <td>2</td>\n",
       "      <td>1</td>\n",
       "      <td>0</td>\n",
       "    </tr>\n",
       "    <tr>\n",
       "      <th>1</th>\n",
       "      <td>50</td>\n",
       "      <td>4375874,3415336,2152789,1431010</td>\n",
       "      <td>3</td>\n",
       "      <td>4</td>\n",
       "      <td>15</td>\n",
       "      <td>de</td>\n",
       "      <td>7</td>\n",
       "      <td>3</td>\n",
       "      <td>4</td>\n",
       "      <td>1</td>\n",
       "      <td>2</td>\n",
       "      <td>5,8</td>\n",
       "      <td>1</td>\n",
       "      <td>0</td>\n",
       "    </tr>\n",
       "    <tr>\n",
       "      <th>2</th>\n",
       "      <td>70</td>\n",
       "      <td>851763,2070276</td>\n",
       "      <td>3</td>\n",
       "      <td>17</td>\n",
       "      <td>4</td>\n",
       "      <td>de</td>\n",
       "      <td>2</td>\n",
       "      <td>2</td>\n",
       "      <td>7</td>\n",
       "      <td>2</td>\n",
       "      <td>0</td>\n",
       "      <td>NaN</td>\n",
       "      <td>1</td>\n",
       "      <td>0</td>\n",
       "    </tr>\n",
       "    <tr>\n",
       "      <th>3</th>\n",
       "      <td>90</td>\n",
       "      <td>2139882,2177068,1520218,3113130,399936</td>\n",
       "      <td>0</td>\n",
       "      <td>0</td>\n",
       "      <td>0</td>\n",
       "      <td>de</td>\n",
       "      <td>0</td>\n",
       "      <td>1</td>\n",
       "      <td>0</td>\n",
       "      <td>0</td>\n",
       "      <td>0</td>\n",
       "      <td>NaN</td>\n",
       "      <td>0</td>\n",
       "      <td>0</td>\n",
       "    </tr>\n",
       "    <tr>\n",
       "      <th>4</th>\n",
       "      <td>100</td>\n",
       "      <td>233434,3142896,3836967,987884</td>\n",
       "      <td>3</td>\n",
       "      <td>0</td>\n",
       "      <td>16</td>\n",
       "      <td>non_dach</td>\n",
       "      <td>0</td>\n",
       "      <td>3</td>\n",
       "      <td>5</td>\n",
       "      <td>5</td>\n",
       "      <td>0</td>\n",
       "      <td>NaN</td>\n",
       "      <td>0</td>\n",
       "      <td>0</td>\n",
       "    </tr>\n",
       "  </tbody>\n",
       "</table>\n",
       "</div>"
      ],
      "text/plain": [
       "    id                                jobroles  career_level  discipline_id  \\\n",
       "0   30                                 2551922             3              0   \n",
       "1   50         4375874,3415336,2152789,1431010             3              4   \n",
       "2   70                          851763,2070276             3             17   \n",
       "3   90  2139882,2177068,1520218,3113130,399936             0              0   \n",
       "4  100           233434,3142896,3836967,987884             3              0   \n",
       "\n",
       "   industry_id   country  region  experience_n_entries_class  \\\n",
       "0            0        de       0                           1   \n",
       "1           15        de       7                           3   \n",
       "2            4        de       2                           2   \n",
       "3            0        de       0                           1   \n",
       "4           16  non_dach       0                           3   \n",
       "\n",
       "   years_experience  years_in_current  edu_degree field_of_studies  wtcj  \\\n",
       "0                 3                 1           2                2     1   \n",
       "1                 4                 1           2              5,8     1   \n",
       "2                 7                 2           0              NaN     1   \n",
       "3                 0                 0           0              NaN     0   \n",
       "4                 5                 5           0              NaN     0   \n",
       "\n",
       "   premium  \n",
       "0        0  \n",
       "1        0  \n",
       "2        0  \n",
       "3        0  \n",
       "4        0  "
      ]
     },
     "execution_count": 6,
     "metadata": {},
     "output_type": "execute_result"
    }
   ],
   "source": [
    "user_columns = ['id', 'jobroles', 'career_level', 'discipline_id', 'industry_id', 'country', 'region',\n",
    "                'experience_n_entries_class', 'years_experience', 'years_in_current', 'edu_degree', 'field_of_studies',\n",
    "                'wtcj', 'premium']\n",
    "users_df.columns = user_columns\n",
    "users_df.head()"
   ]
  },
  {
   "cell_type": "code",
   "execution_count": 7,
   "metadata": {},
   "outputs": [
    {
     "name": "stdout",
     "output_type": "stream",
     "text": [
      "career_levels: [0, 1, 2, 3, 4, 5, 6]\n",
      "disciplines: [0, 1, 2, 3, 4, 5, 6, 7, 8, 9, 10, 11, 12, 13, 14, 15, 16, 17, 18, 19, 20, 21, 22, 23]\n",
      "industry: [0, 1, 2, 3, 4, 5, 6, 7, 8, 9, 10, 11, 12, 13, 14, 15, 16, 17, 18, 19, 20, 21, 22, 23]\n",
      "country: ['at', 'ch', 'de', 'non_dach']\n",
      "region: [0, 1, 2, 3, 4, 5, 6, 7, 8, 9, 10, 11, 12, 13, 14, 15, 16]\n",
      "experience_n_entries: [1, 2, 3]\n",
      "years_experience: [0, 1, 2, 3, 4, 5, 6, 7]\n",
      "years_in_current: [0, 1, 2, 3, 4, 5, 6, 7]\n",
      "edu_degree: [0, 1, 2, 3]\n",
      "wtcj: [0, 1]\n",
      "premium: [0, 1]\n"
     ]
    }
   ],
   "source": [
    "print('career_levels: {}'.format(sorted(users_df['career_level'].unique())))\n",
    "print('disciplines: {}'.format(sorted(users_df['discipline_id'].unique())))\n",
    "print('industry: {}'.format(sorted(users_df['industry_id'].unique())))\n",
    "print('country: {}'.format(sorted(users_df['country'].unique())))\n",
    "print('region: {}'.format(sorted(users_df['region'].unique())))\n",
    "print('experience_n_entries: {}'.format(sorted(users_df['experience_n_entries_class'].unique())))\n",
    "print('years_experience: {}'.format(sorted(users_df['years_experience'].unique())))\n",
    "print('years_in_current: {}'.format(sorted(users_df['years_in_current'].unique())))\n",
    "print('edu_degree: {}'.format(sorted(users_df['edu_degree'].unique())))\n",
    "print('wtcj: {}'.format(sorted(users_df['wtcj'].unique())))\n",
    "print('premium: {}'.format(sorted(users_df['premium'].unique())))\n"
   ]
  },
  {
   "cell_type": "code",
   "execution_count": 8,
   "metadata": {
    "collapsed": true
   },
   "outputs": [],
   "source": [
    "df = pd.merge(users_df, distribution_df, left_on='id', right_on='user_id')"
   ]
  },
  {
   "cell_type": "code",
   "execution_count": 9,
   "metadata": {},
   "outputs": [
    {
     "data": {
      "image/png": "[encoded data removed]",
      "text/plain": [
       "<matplotlib.figure.Figure at 0x1a0e910ac8>"
      ]
     },
     "metadata": {},
     "output_type": "display_data"
    }
   ],
   "source": [
    "sns.boxplot(x = \"is_a\", y = \"career_level\", data=df)\n",
    "plt.xlabel('In Group A')\n",
    "plt.ylabel('Career Level')\n",
    "plt.title('Group A Membership vs Career Level')\n",
    "plt.show()"
   ]
  },
  {
   "cell_type": "code",
   "execution_count": 16,
   "metadata": {},
   "outputs": [
    {
     "data": {
      "image/png": "[encoded data removed]",
      "text/plain": [
       "<matplotlib.figure.Figure at 0x10baf5908>"
      ]
     },
     "metadata": {},
     "output_type": "display_data"
    }
   ],
   "source": [
    "plt.fig = plt.figure(figsize=(8, 8))\n",
    "sns.countplot(x=\"career_level\", hue='is_a', data=df)\n",
    "plt.xlabel('Career Level')\n",
    "plt.ylabel('Count of Users')\n",
    "plt.legend(['Group B', 'Group A'])\n",
    "plt.title('Group Membership at each Career Level in Group A & B')\n",
    "plt.show()"
   ]
  },
  {
   "cell_type": "code",
   "execution_count": 20,
   "metadata": {},
   "outputs": [
    {
     "data": {
      "image/png": "[encoded data removed]",
      "text/plain": [
       "<matplotlib.figure.Figure at 0x1a0f3f73c8>"
      ]
     },
     "metadata": {},
     "output_type": "display_data"
    }
   ],
   "source": [
    "sns.boxplot(x = \"is_a\", y = \"years_experience\", data=df)\n",
    "plt.xlabel('In Group A')\n",
    "plt.ylabel('Career Level')\n",
    "plt.title('Group A Membership vs Years Experience')\n",
    "plt.show()"
   ]
  },
  {
   "cell_type": "code",
   "execution_count": 22,
   "metadata": {},
   "outputs": [
    {
     "data": {
      "image/png": "[encoded data removed]",
      "text/plain": [
       "<matplotlib.figure.Figure at 0x1a1080a0f0>"
      ]
     },
     "metadata": {},
     "output_type": "display_data"
    }
   ],
   "source": [
    "plt.fig = plt.figure(figsize=(8, 8))\n",
    "sns.countplot(x=\"years_experience\", hue='is_a', data=df)\n",
    "plt.xlabel('Years Experience')\n",
    "plt.ylabel('Count of Users')\n",
    "plt.legend(['Group B', 'Group A'])\n",
    "plt.title('Membership and Years of Experience in Group A & B')\n",
    "plt.show()"
   ]
  },
  {
   "cell_type": "code",
   "execution_count": 10,
   "metadata": {},
   "outputs": [
    {
     "data": {
      "image/png": "[encoded data removed]",
      "text/plain": [
       "<matplotlib.figure.Figure at 0x101cde828>"
      ]
     },
     "metadata": {},
     "output_type": "display_data"
    }
   ],
   "source": [
    "sns.boxplot(x = \"is_a\", y = \"years_in_current\", data=df)\n",
    "plt.show()"
   ]
  },
  {
   "cell_type": "code",
   "execution_count": 30,
   "metadata": {},
   "outputs": [
    {
     "data": {
      "image/png": "[encoded data removed]",
      "text/plain": [
       "<matplotlib.figure.Figure at 0x1a09d96470>"
      ]
     },
     "metadata": {},
     "output_type": "display_data"
    }
   ],
   "source": [
    "sns.countplot(x=\"years_in_current\", hue='is_a', data=df)\n",
    "plt.show()"
   ]
  },
  {
   "cell_type": "code",
   "execution_count": 11,
   "metadata": {},
   "outputs": [
    {
     "data": {
      "image/png": "[encoded data removed]",
      "text/plain": [
       "<matplotlib.figure.Figure at 0x1062b1fd0>"
      ]
     },
     "metadata": {},
     "output_type": "display_data"
    }
   ],
   "source": [
    "sns.boxplot(x = \"is_a\", y = \"edu_degree\", data=df)\n",
    "plt.show()"
   ]
  },
  {
   "cell_type": "code",
   "execution_count": 24,
   "metadata": {},
   "outputs": [
    {
     "data": {
      "image/png": "[encoded data removed]",
      "text/plain": [
       "<matplotlib.figure.Figure at 0x10b9bd710>"
      ]
     },
     "metadata": {},
     "output_type": "display_data"
    }
   ],
   "source": [
    "plt.figure(figsize=(8,8))\n",
    "sns.countplot(x=\"edu_degree\", hue='is_a', data=df)\n",
    "plt.xlabel('Education Level')\n",
    "plt.ylabel('Count of Users')\n",
    "plt.legend(['Group B', 'Group A'])\n",
    "plt.title('Membership and Education Level in Group A & B')\n",
    "plt.show()"
   ]
  },
  {
   "cell_type": "code",
   "execution_count": 27,
   "metadata": {},
   "outputs": [
    {
     "data": {
      "image/png": "[encoded data removed]",
      "text/plain": [
       "<matplotlib.figure.Figure at 0x1a11da46a0>"
      ]
     },
     "metadata": {},
     "output_type": "display_data"
    }
   ],
   "source": [
    "plt.figure(figsize=(8,8))\n",
    "sns.countplot(x = \"wtcj\", hue=\"is_a\", data=df)\n",
    "plt.xlabel('Is Willing To Change Jobs (binary)')\n",
    "plt.ylabel('Count of Users')\n",
    "plt.legend(['Group B', 'Group A'])\n",
    "plt.title('Membership and Willingness to Change Jobs in Group A & B')\n",
    "plt.show()"
   ]
  },
  {
   "cell_type": "code",
   "execution_count": 30,
   "metadata": {},
   "outputs": [
    {
     "data": {
      "image/png": "[encoded data removed]",
      "text/plain": [
       "<matplotlib.figure.Figure at 0x10b99a198>"
      ]
     },
     "metadata": {},
     "output_type": "display_data"
    }
   ],
   "source": [
    "plt.figure(figsize=(8,8))\n",
    "sns.countplot(x=\"premium\", hue=\"is_a\", data=df)\n",
    "plt.xlabel('Is Premium User (binary)')\n",
    "plt.ylabel('Count of Users')\n",
    "plt.legend(['Group B', 'Group A'])\n",
    "plt.title('Membership in Premium Program in Group A & B')\n",
    "plt.show()"
   ]
  },
  {
   "cell_type": "code",
   "execution_count": 63,
   "metadata": {
    "collapsed": true
   },
   "outputs": [],
   "source": [
    "df_heat = df.drop(\n",
    "    ['id', 'field_of_studies', 'jobroles', 'country', 'region', 'industry_id', 'discipline_id', 'field_of_studies', \n",
    "     'user_id', 'prob_a'], axis=1)"
   ]
  },
  {
   "cell_type": "code",
   "execution_count": 64,
   "metadata": {
    "collapsed": true
   },
   "outputs": [],
   "source": [
    "df_heat['is_a'] = df_heat['is_a'].astype(int)"
   ]
  },
  {
   "cell_type": "code",
   "execution_count": 67,
   "metadata": {},
   "outputs": [
    {
     "data": {
      "text/html": [
       "<div>\n",
       "<style>\n",
       "    .dataframe thead tr:only-child th {\n",
       "        text-align: right;\n",
       "    }\n",
       "\n",
       "    .dataframe thead th {\n",
       "        text-align: left;\n",
       "    }\n",
       "\n",
       "    .dataframe tbody tr th {\n",
       "        vertical-align: top;\n",
       "    }\n",
       "</style>\n",
       "<table border=\"1\" class=\"dataframe\">\n",
       "  <thead>\n",
       "    <tr style=\"text-align: right;\">\n",
       "      <th></th>\n",
       "      <th>career_level</th>\n",
       "      <th>experience_n_entries_class</th>\n",
       "      <th>years_experience</th>\n",
       "      <th>years_in_current</th>\n",
       "      <th>edu_degree</th>\n",
       "      <th>wtcj</th>\n",
       "      <th>premium</th>\n",
       "      <th>interaction_count</th>\n",
       "      <th>is_a</th>\n",
       "    </tr>\n",
       "  </thead>\n",
       "  <tbody>\n",
       "    <tr>\n",
       "      <th>0</th>\n",
       "      <td>3</td>\n",
       "      <td>3</td>\n",
       "      <td>4</td>\n",
       "      <td>1</td>\n",
       "      <td>2</td>\n",
       "      <td>1</td>\n",
       "      <td>0</td>\n",
       "      <td>1</td>\n",
       "      <td>0</td>\n",
       "    </tr>\n",
       "    <tr>\n",
       "      <th>1</th>\n",
       "      <td>3</td>\n",
       "      <td>2</td>\n",
       "      <td>7</td>\n",
       "      <td>2</td>\n",
       "      <td>0</td>\n",
       "      <td>1</td>\n",
       "      <td>0</td>\n",
       "      <td>1</td>\n",
       "      <td>0</td>\n",
       "    </tr>\n",
       "    <tr>\n",
       "      <th>2</th>\n",
       "      <td>0</td>\n",
       "      <td>1</td>\n",
       "      <td>0</td>\n",
       "      <td>0</td>\n",
       "      <td>0</td>\n",
       "      <td>0</td>\n",
       "      <td>0</td>\n",
       "      <td>31</td>\n",
       "      <td>1</td>\n",
       "    </tr>\n",
       "    <tr>\n",
       "      <th>3</th>\n",
       "      <td>0</td>\n",
       "      <td>3</td>\n",
       "      <td>4</td>\n",
       "      <td>0</td>\n",
       "      <td>2</td>\n",
       "      <td>1</td>\n",
       "      <td>0</td>\n",
       "      <td>31</td>\n",
       "      <td>1</td>\n",
       "    </tr>\n",
       "    <tr>\n",
       "      <th>4</th>\n",
       "      <td>0</td>\n",
       "      <td>3</td>\n",
       "      <td>6</td>\n",
       "      <td>2</td>\n",
       "      <td>0</td>\n",
       "      <td>1</td>\n",
       "      <td>0</td>\n",
       "      <td>2</td>\n",
       "      <td>0</td>\n",
       "    </tr>\n",
       "  </tbody>\n",
       "</table>\n",
       "</div>"
      ],
      "text/plain": [
       "   career_level  experience_n_entries_class  years_experience  \\\n",
       "0             3                           3                 4   \n",
       "1             3                           2                 7   \n",
       "2             0                           1                 0   \n",
       "3             0                           3                 4   \n",
       "4             0                           3                 6   \n",
       "\n",
       "   years_in_current  edu_degree  wtcj  premium  interaction_count  is_a  \n",
       "0                 1           2     1        0                  1     0  \n",
       "1                 2           0     1        0                  1     0  \n",
       "2                 0           0     0        0                 31     1  \n",
       "3                 0           2     1        0                 31     1  \n",
       "4                 2           0     1        0                  2     0  "
      ]
     },
     "execution_count": 67,
     "metadata": {},
     "output_type": "execute_result"
    }
   ],
   "source": [
    "df_heat.head()"
   ]
  },
  {
   "cell_type": "code",
   "execution_count": null,
   "metadata": {
    "collapsed": true
   },
   "outputs": [],
   "source": [
    "corr = np.corrcoef(df_heat)\n",
    "sns.heatmap(corr)\n",
    "plt.show()"
   ]
  },
  {
   "cell_type": "code",
   "execution_count": null,
   "metadata": {
    "collapsed": true
   },
   "outputs": [],
   "source": []
  }
 ],
 "metadata": {
  "kernelspec": {
   "display_name": "Python 3",
   "language": "python",
   "name": "python3"
  },
  "language_info": {
   "codemirror_mode": {
    "name": "ipython",
    "version": 3
   },
   "file_extension": ".py",
   "mimetype": "text/x-python",
   "name": "python",
   "nbconvert_exporter": "python",
   "pygments_lexer": "ipython3",
   "version": "3.6.3"
  }
 },
 "nbformat": 4,
 "nbformat_minor": 2
}
